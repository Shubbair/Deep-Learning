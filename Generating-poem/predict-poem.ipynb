{
  "nbformat": 4,
  "nbformat_minor": 0,
  "metadata": {
    "colab": {
      "name": "load-Generating-Poem.ipynb",
      "provenance": [],
      "collapsed_sections": []
    },
    "kernelspec": {
      "name": "python3",
      "display_name": "Python 3"
    },
    "language_info": {
      "name": "python"
    }
  },
  "cells": [
    {
      "cell_type": "code",
      "execution_count": 46,
      "metadata": {
        "id": "qddzuwVYj-ug"
      },
      "outputs": [],
      "source": [
        "import tensorflow as tf\n",
        "from tensorflow.keras.preprocessing.sequence import pad_sequences\n",
        "from tensorflow.keras.preprocessing.text import Tokenizer\n",
        "from tensorflow.keras.models import load_model\n",
        "import tensorflow.keras.utils as ku \n",
        "import numpy as np\n",
        "import pandas as pd\n",
        "import re"
      ]
    },
    {
      "cell_type": "code",
      "source": [
        "tf.random.set_seed(42)"
      ],
      "metadata": {
        "id": "NVR2bZhdl990"
      },
      "execution_count": 47,
      "outputs": []
    },
    {
      "cell_type": "markdown",
      "source": [
        "Set Random to 42"
      ],
      "metadata": {
        "id": "nKSrzdnnnKoV"
      }
    },
    {
      "cell_type": "code",
      "source": [
        "data = pd.read_csv('Arabic_poetry_dataset.csv')\n",
        "\n",
        "poems_count = 200\n",
        "generated_poet = data[data['poet_name'] == 'جبران خليل جبران'].sample(frac=1)[:poems_count]\n",
        "\n",
        "poems = np.array(generated_poet['poem_text'].values.tolist())"
      ],
      "metadata": {
        "id": "ql1pdEoN_yg1"
      },
      "execution_count": 48,
      "outputs": []
    },
    {
      "cell_type": "code",
      "source": [
        "clean_poems = []\n",
        "for p in poems:\n",
        "    clean_poems.append(re.sub('([@A-Za-z0-9_ـــــــــــــ]+)|[^\\w\\s]|#|http\\S+', ' ', p))"
      ],
      "metadata": {
        "id": "hgZPVzarKxx3"
      },
      "execution_count": 49,
      "outputs": []
    },
    {
      "cell_type": "code",
      "source": [
        "poems_count = 200\n",
        "generated_poet = data[data['poet_name'] == 'جبران خليل جبران'].sample(frac=1)[:poems_count]"
      ],
      "metadata": {
        "id": "mgtle1mO_wOF"
      },
      "execution_count": 50,
      "outputs": []
    },
    {
      "cell_type": "code",
      "source": [
        "tokenizer = Tokenizer()\n",
        "\n",
        "corpus = clean_poems\n",
        "\n",
        "\n",
        "tokenizer.fit_on_texts(corpus)\n",
        "total_words = len(tokenizer.word_index) + 1"
      ],
      "metadata": {
        "id": "04Mp0dVr_sdb"
      },
      "execution_count": 51,
      "outputs": []
    },
    {
      "cell_type": "code",
      "source": [
        "input_sequences = []\n",
        "for line in corpus:\n",
        "    token_list = tokenizer.texts_to_sequences([line])[0]\n",
        "    for i in range(1, len(token_list)):\n",
        "        n_gram_sequence = token_list[:i+1]\n",
        "        input_sequences.append(n_gram_sequence)"
      ],
      "metadata": {
        "id": "VcRDEAYsKp2L"
      },
      "execution_count": 52,
      "outputs": []
    },
    {
      "cell_type": "code",
      "source": [
        "pad_seq = [len(x) for x in input_sequences]\n",
        "max_sequence_len = max(pad_seq)\n",
        "print(max_sequence_len)"
      ],
      "metadata": {
        "colab": {
          "base_uri": "https://localhost:8080/"
        },
        "id": "uJDfBDGkKlxN",
        "outputId": "627a9ea8-484b-4142-f5a0-1881eb5c3f7d"
      },
      "execution_count": 53,
      "outputs": [
        {
          "output_type": "stream",
          "name": "stdout",
          "text": [
            "496\n"
          ]
        }
      ]
    },
    {
      "cell_type": "code",
      "source": [
        "model = load_model('jebran_poem_train.h5')"
      ],
      "metadata": {
        "id": "i_waYHPtLZJM"
      },
      "execution_count": 54,
      "outputs": []
    },
    {
      "cell_type": "code",
      "source": [
        "seed_text = \"بصير العينان\"\n",
        "next_words = 200\n",
        "token_list = pad_sequences([token_list], maxlen=max_sequence_len-1, padding='pre')"
      ],
      "metadata": {
        "id": "3eZ-sswu_PXQ"
      },
      "execution_count": 56,
      "outputs": []
    },
    {
      "cell_type": "code",
      "source": [
        "words_list = tokenizer.word_index.items()\n",
        "\n",
        "for k in range(next_words):\n",
        "    token_list = tokenizer.texts_to_sequences([seed_text])[0]\n",
        "    token_list = pad_sequences([token_list], maxlen=max_sequence_len-1, padding='pre')\n",
        "    predicted = np.argmax(model.predict(token_list), axis=-1)\n",
        "    output_word = \"\"\n",
        "    for word, index in tokenizer.word_index.items():\n",
        "        if index == predicted:\n",
        "            output_word = word\n",
        "            break\n",
        "    seed_text += \" \" + output_word\n",
        "print(seed_text)"
      ],
      "metadata": {
        "id": "mXmXJ5ns_Qnk",
        "colab": {
          "base_uri": "https://localhost:8080/"
        },
        "outputId": "ba7a47c1-1cb3-410c-a258-ef3219c26e6d"
      },
      "execution_count": 57,
      "outputs": [
        {
          "output_type": "stream",
          "name": "stdout",
          "text": [
            "بصير العينان وعدت من إثر السلام ليلى شي من قد القمرين فيها من بالأذى ترأف المحيا يضل ود في وتهده يرمك الشاكي وقد بحقد فاسلم تبلغك رمية معانيها أهله ملء معاليها حقده العقل زيف فيها الأحكام النعمى ناقما نقادا من فليبد نقده لحده قيمة من الجزاف وما فإنه المنى مهما يخله مجديا يجده من كائلا وآان فوق كيل يصب يرجي لوكان يك خيبة القضاء وما في يأخذك بعدله وما تلف وفي ما شكواك مجترئا لرده لا حيث حمده اصبت آل علينا مرتعا فمضيت تجاوز ذمة شئت زده رعيت فإنما منذ به إخواننا لكم كفه بال في وعهده المحيا لا حوله أضاءت فيها أخلاقه مات توفى جاهله وشمائله تدن قيس خالد أو يتداوى فدفناه وإن برد الغيث قبرا منه شهيدا أهلنا الشعب أو هوا وما ناج إلا تبدو إلي وما الشباب شهدت فتنة تشبها ذات ألحاظك العلويا عن زينة الساحرة بالغ جنة في الستين آانت ذاك نود في بلغت المئين رافعا فما منار من النساء منارة في المشرق من وداده وكم من العلامين بها يد وكم من أيرقى فحمات ربها الليل الضحى إلا عن وظلمات آانت وحي الريب طوايا حرة له خبرت في كنز من أسمى الانقلاب هو في فلما خير كان من آنتم وظلتم إليه ذخر بقيه أتيتم بأرقى إلى وبابقى لها\n"
          ]
        }
      ]
    }
  ]
}