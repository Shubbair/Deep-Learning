{
  "cells": [
    {
      "cell_type": "markdown",
      "metadata": {
        "id": "vgz62wl9Pyt8"
      },
      "source": [
        "# Movies Short Story \n",
        "\n",
        "this data set contain more than 45k short story"
      ]
    },
    {
      "cell_type": "markdown",
      "metadata": {
        "id": "KPolKqcNKshM"
      },
      "source": [
        "# Unzip The dataset"
      ]
    },
    {
      "cell_type": "code",
      "execution_count": 1,
      "metadata": {
        "colab": {
          "base_uri": "https://localhost:8080/"
        },
        "id": "cwQDeAVn7MvF",
        "outputId": "069733f0-7f56-4605-a9db-34e1e6e7dcfb"
      },
      "outputs": [
        {
          "name": "stdout",
          "output_type": "stream",
          "text": [
            "Archive:  /content/Arabic_poetry_dataset.csv.zip\n",
            "  inflating: Arabic_poetry_dataset.csv  \n",
            "  inflating: __MACOSX/._Arabic_poetry_dataset.csv  \n"
          ]
        }
      ],
      "source": [
        "!unzip /content/Arabic_poetry_dataset.csv.zip"
      ]
    },
    {
      "cell_type": "code",
      "execution_count": 2,
      "metadata": {
        "id": "ICPJpagMKqnu"
      },
      "outputs": [],
      "source": [
        "import re\n",
        "import pandas as pd\n",
        "import numpy as np\n",
        "import matplotlib.pyplot as plt\n",
        "import tensorflow as tf\n",
        "from tensorflow import keras\n",
        "from keras.preprocessing.text import Tokenizer\n",
        "from keras.preprocessing.sequence import pad_sequences"
      ]
    },
    {
      "cell_type": "code",
      "execution_count": 3,
      "metadata": {
        "colab": {
          "base_uri": "https://localhost:8080/",
          "height": 206
        },
        "id": "9ntPgzIEKqp5",
        "outputId": "b2b87b51-5b6f-4726-ad3c-bb5625927df7"
      },
      "outputs": [
        {
          "data": {
            "text/html": [
              "\n",
              "  <div id=\"df-8f14e624-2584-45f3-8d69-ba3ad5af97ff\">\n",
              "    <div class=\"colab-df-container\">\n",
              "      <div>\n",
              "<style scoped>\n",
              "    .dataframe tbody tr th:only-of-type {\n",
              "        vertical-align: middle;\n",
              "    }\n",
              "\n",
              "    .dataframe tbody tr th {\n",
              "        vertical-align: top;\n",
              "    }\n",
              "\n",
              "    .dataframe thead th {\n",
              "        text-align: right;\n",
              "    }\n",
              "</style>\n",
              "<table border=\"1\" class=\"dataframe\">\n",
              "  <thead>\n",
              "    <tr style=\"text-align: right;\">\n",
              "      <th></th>\n",
              "      <th>id</th>\n",
              "      <th>category</th>\n",
              "      <th>poet_name</th>\n",
              "      <th>poem_title</th>\n",
              "      <th>poem_text</th>\n",
              "    </tr>\n",
              "  </thead>\n",
              "  <tbody>\n",
              "    <tr>\n",
              "      <th>0</th>\n",
              "      <td>0</td>\n",
              "      <td>الإمارات</td>\n",
              "      <td>خلفان بن مصبح</td>\n",
              "      <td>بدت تختال في حُلل الجمالِ</td>\n",
              "      <td>بدت تختال في حُلل الجمالِ\\nوجادت بالزيارة والو...</td>\n",
              "    </tr>\n",
              "    <tr>\n",
              "      <th>1</th>\n",
              "      <td>1</td>\n",
              "      <td>الإمارات</td>\n",
              "      <td>خلفان بن مصبح</td>\n",
              "      <td>يا طائر الشعر القرير</td>\n",
              "      <td>يا طائر الشعر القرير\\nيا وحي إلهام الصدور\\nأسع...</td>\n",
              "    </tr>\n",
              "    <tr>\n",
              "      <th>2</th>\n",
              "      <td>2</td>\n",
              "      <td>الإمارات</td>\n",
              "      <td>خلفان بن مصبح</td>\n",
              "      <td>بنت حجرات أرى من عجب</td>\n",
              "      <td>بنت حجرات أرى من عجب\\nأن أرى فيك جمال العرب\\nد...</td>\n",
              "    </tr>\n",
              "    <tr>\n",
              "      <th>3</th>\n",
              "      <td>3</td>\n",
              "      <td>الإمارات</td>\n",
              "      <td>خلفان بن مصبح</td>\n",
              "      <td>هذا الربيع بنور الحسن وافانا</td>\n",
              "      <td>هذا الربيع بنور الحسن وافانا\\nوقد كسا الأرض با...</td>\n",
              "    </tr>\n",
              "    <tr>\n",
              "      <th>4</th>\n",
              "      <td>4</td>\n",
              "      <td>الإمارات</td>\n",
              "      <td>خلفان بن مصبح</td>\n",
              "      <td>روحي فداك وإن مُنحتُ صدوداً</td>\n",
              "      <td>روحي فداك وإن مُنحتُ صدوداً\\nأخفاك ما بي أم أط...</td>\n",
              "    </tr>\n",
              "  </tbody>\n",
              "</table>\n",
              "</div>\n",
              "      <button class=\"colab-df-convert\" onclick=\"convertToInteractive('df-8f14e624-2584-45f3-8d69-ba3ad5af97ff')\"\n",
              "              title=\"Convert this dataframe to an interactive table.\"\n",
              "              style=\"display:none;\">\n",
              "        \n",
              "  <svg xmlns=\"http://www.w3.org/2000/svg\" height=\"24px\"viewBox=\"0 0 24 24\"\n",
              "       width=\"24px\">\n",
              "    <path d=\"M0 0h24v24H0V0z\" fill=\"none\"/>\n",
              "    <path d=\"M18.56 5.44l.94 2.06.94-2.06 2.06-.94-2.06-.94-.94-2.06-.94 2.06-2.06.94zm-11 1L8.5 8.5l.94-2.06 2.06-.94-2.06-.94L8.5 2.5l-.94 2.06-2.06.94zm10 10l.94 2.06.94-2.06 2.06-.94-2.06-.94-.94-2.06-.94 2.06-2.06.94z\"/><path d=\"M17.41 7.96l-1.37-1.37c-.4-.4-.92-.59-1.43-.59-.52 0-1.04.2-1.43.59L10.3 9.45l-7.72 7.72c-.78.78-.78 2.05 0 2.83L4 21.41c.39.39.9.59 1.41.59.51 0 1.02-.2 1.41-.59l7.78-7.78 2.81-2.81c.8-.78.8-2.07 0-2.86zM5.41 20L4 18.59l7.72-7.72 1.47 1.35L5.41 20z\"/>\n",
              "  </svg>\n",
              "      </button>\n",
              "      \n",
              "  <style>\n",
              "    .colab-df-container {\n",
              "      display:flex;\n",
              "      flex-wrap:wrap;\n",
              "      gap: 12px;\n",
              "    }\n",
              "\n",
              "    .colab-df-convert {\n",
              "      background-color: #E8F0FE;\n",
              "      border: none;\n",
              "      border-radius: 50%;\n",
              "      cursor: pointer;\n",
              "      display: none;\n",
              "      fill: #1967D2;\n",
              "      height: 32px;\n",
              "      padding: 0 0 0 0;\n",
              "      width: 32px;\n",
              "    }\n",
              "\n",
              "    .colab-df-convert:hover {\n",
              "      background-color: #E2EBFA;\n",
              "      box-shadow: 0px 1px 2px rgba(60, 64, 67, 0.3), 0px 1px 3px 1px rgba(60, 64, 67, 0.15);\n",
              "      fill: #174EA6;\n",
              "    }\n",
              "\n",
              "    [theme=dark] .colab-df-convert {\n",
              "      background-color: #3B4455;\n",
              "      fill: #D2E3FC;\n",
              "    }\n",
              "\n",
              "    [theme=dark] .colab-df-convert:hover {\n",
              "      background-color: #434B5C;\n",
              "      box-shadow: 0px 1px 3px 1px rgba(0, 0, 0, 0.15);\n",
              "      filter: drop-shadow(0px 1px 2px rgba(0, 0, 0, 0.3));\n",
              "      fill: #FFFFFF;\n",
              "    }\n",
              "  </style>\n",
              "\n",
              "      <script>\n",
              "        const buttonEl =\n",
              "          document.querySelector('#df-8f14e624-2584-45f3-8d69-ba3ad5af97ff button.colab-df-convert');\n",
              "        buttonEl.style.display =\n",
              "          google.colab.kernel.accessAllowed ? 'block' : 'none';\n",
              "\n",
              "        async function convertToInteractive(key) {\n",
              "          const element = document.querySelector('#df-8f14e624-2584-45f3-8d69-ba3ad5af97ff');\n",
              "          const dataTable =\n",
              "            await google.colab.kernel.invokeFunction('convertToInteractive',\n",
              "                                                     [key], {});\n",
              "          if (!dataTable) return;\n",
              "\n",
              "          const docLinkHtml = 'Like what you see? Visit the ' +\n",
              "            '<a target=\"_blank\" href=https://colab.research.google.com/notebooks/data_table.ipynb>data table notebook</a>'\n",
              "            + ' to learn more about interactive tables.';\n",
              "          element.innerHTML = '';\n",
              "          dataTable['output_type'] = 'display_data';\n",
              "          await google.colab.output.renderOutput(dataTable, element);\n",
              "          const docLink = document.createElement('div');\n",
              "          docLink.innerHTML = docLinkHtml;\n",
              "          element.appendChild(docLink);\n",
              "        }\n",
              "      </script>\n",
              "    </div>\n",
              "  </div>\n",
              "  "
            ],
            "text/plain": [
              "   id  category      poet_name                    poem_title  \\\n",
              "0   0  الإمارات  خلفان بن مصبح     بدت تختال في حُلل الجمالِ   \n",
              "1   1  الإمارات  خلفان بن مصبح          يا طائر الشعر القرير   \n",
              "2   2  الإمارات  خلفان بن مصبح          بنت حجرات أرى من عجب   \n",
              "3   3  الإمارات  خلفان بن مصبح  هذا الربيع بنور الحسن وافانا   \n",
              "4   4  الإمارات  خلفان بن مصبح   روحي فداك وإن مُنحتُ صدوداً   \n",
              "\n",
              "                                           poem_text  \n",
              "0  بدت تختال في حُلل الجمالِ\\nوجادت بالزيارة والو...  \n",
              "1  يا طائر الشعر القرير\\nيا وحي إلهام الصدور\\nأسع...  \n",
              "2  بنت حجرات أرى من عجب\\nأن أرى فيك جمال العرب\\nد...  \n",
              "3  هذا الربيع بنور الحسن وافانا\\nوقد كسا الأرض با...  \n",
              "4  روحي فداك وإن مُنحتُ صدوداً\\nأخفاك ما بي أم أط...  "
            ]
          },
          "execution_count": 3,
          "metadata": {},
          "output_type": "execute_result"
        }
      ],
      "source": [
        "dataset = pd.read_csv('/content/Arabic_poetry_dataset.csv')\n",
        "dataset.head(5)"
      ]
    },
    {
      "cell_type": "markdown",
      "metadata": {
        "id": "3hgBiCJ3PuBE"
      },
      "source": [
        "#### take 200 stories"
      ]
    },
    {
      "cell_type": "code",
      "execution_count": 8,
      "metadata": {
        "id": "AhNLwxacKqyo"
      },
      "outputs": [],
      "source": [
        "poems_count = 200\n",
        "generated_poet = dataset[dataset['poet_name'] == 'جبران خليل جبران'].sample(frac=1)[:poems_count]\n",
        "poems = np.array(generated_poet['poem_text'].values.tolist())"
      ]
    },
    {
      "cell_type": "markdown",
      "metadata": {
        "id": "A5uEOR47683m"
      },
      "source": [
        "#### clean the text"
      ]
    },
    {
      "cell_type": "code",
      "execution_count": 9,
      "metadata": {
        "id": "PEh_ga0t67qW"
      },
      "outputs": [],
      "source": [
        "clean_poets = []\n",
        "for i in poems:\n",
        "    clean_poets.append(re.sub('([@A-Za-z0-9_ـــــــــــــ]+)|[^\\w\\s]|#|http\\S+', ' ', i))"
      ]
    },
    {
      "cell_type": "markdown",
      "metadata": {
        "id": "gztJiPmiPnjB"
      },
      "source": [
        "# Build The Tokenizer"
      ]
    },
    {
      "cell_type": "code",
      "execution_count": 10,
      "metadata": {
        "colab": {
          "base_uri": "https://localhost:8080/"
        },
        "id": "lrx2ked2KrA5",
        "outputId": "b4690ba2-8ccc-4ceb-ce71-c7fa55651418"
      },
      "outputs": [
        {
          "name": "stdout",
          "output_type": "stream",
          "text": [
            "5298\n"
          ]
        }
      ],
      "source": [
        "tokenizer = Tokenizer()\n",
        "corpus = clean_poets\n",
        "\n",
        "tokenizer.fit_on_texts(corpus)\n",
        "total_words = len(tokenizer.word_index) + 1\n",
        "print(total_words)"
      ]
    },
    {
      "cell_type": "markdown",
      "metadata": {
        "id": "pS3rjQFtUp19"
      },
      "source": [
        "### make n-grams for the text"
      ]
    },
    {
      "cell_type": "code",
      "execution_count": 12,
      "metadata": {
        "id": "3_DRAPNcKrCU"
      },
      "outputs": [],
      "source": [
        "sequences = []\n",
        "for line in corpus:\n",
        "    token_list = tokenizer.texts_to_sequences([line])[0]\n",
        "    for i in range(1, len(token_list)):\n",
        "        n_gram_sequence = token_list[:i+1]\n",
        "        sequences.append(n_gram_sequence)"
      ]
    },
    {
      "cell_type": "code",
      "execution_count": 13,
      "metadata": {
        "colab": {
          "base_uri": "https://localhost:8080/"
        },
        "id": "ZRA07praT2jK",
        "outputId": "625a807d-6ddd-4a56-adf8-9d7940e9b087"
      },
      "outputs": [
        {
          "name": "stdout",
          "output_type": "stream",
          "text": [
            "496\n"
          ]
        }
      ],
      "source": [
        "pad_seq = [len(x) for x in sequences]\n",
        "max_sequence_len = max(pad_seq)\n",
        "print(max_sequence_len)"
      ]
    },
    {
      "cell_type": "code",
      "execution_count": 40,
      "metadata": {
        "id": "SR3lOh9zT2mp"
      },
      "outputs": [],
      "source": [
        "pad_seq = np.array(pad_sequences(sequences, maxlen=max_sequence_len, padding='pre'))\n",
        "\n",
        "# create predictors and label\n",
        "poets_input, poets_pred = pad_seq[:,:-1],pad_seq[:,-1]\n",
        "\n",
        "poets_pred = tf.keras.utils.to_categorical(poets_pred, num_classes=total_words)"
      ]
    },
    {
      "cell_type": "code",
      "execution_count": 41,
      "metadata": {
        "colab": {
          "base_uri": "https://localhost:8080/"
        },
        "id": "s_19CRIO9ton",
        "outputId": "19e45db9-52ec-4c68-cd40-7ff58e5281a1"
      },
      "outputs": [
        {
          "data": {
            "text/plain": [
              "(8224, 495)"
            ]
          },
          "execution_count": 41,
          "metadata": {},
          "output_type": "execute_result"
        }
      ],
      "source": [
        "poets_input.shape"
      ]
    },
    {
      "cell_type": "markdown",
      "metadata": {
        "id": "4oNK3jkZPd5w"
      },
      "source": [
        "# Build The Model"
      ]
    },
    {
      "cell_type": "code",
      "execution_count": 46,
      "metadata": {
        "id": "u6_4LMvMXo9Z"
      },
      "outputs": [],
      "source": [
        "class GeneratePoemModel(tf.keras.Model):\n",
        "  def __init__(self,input_length,output_length,max_length):\n",
        "    super(GeneratePoemModel,self).__init__()\n",
        "    self.input_length = input_length\n",
        "    self.output_length = output_length\n",
        "    self.max_length = max_length\n",
        "    \n",
        "    # processing layer\n",
        "    self.embd = tf.keras.layers.Embedding(self.input_length,self.output_length,input_length=self.max_length-1)\n",
        "    self.bid1 = tf.keras.layers.Bidirectional(tf.keras.layers.LSTM(256,return_sequences=True))\n",
        "    self.bid2 = tf.keras.layers.Bidirectional(tf.keras.layers.LSTM(128,return_sequences=True))\n",
        "    self.bid3 = tf.keras.layers.Bidirectional(tf.keras.layers.LSTM(64))\n",
        "    self.drops = tf.keras.layers.Dropout(0.2)\n",
        "    self.btch = tf.keras.layers.BatchNormalization()\n",
        "        \n",
        "    # output layer\n",
        "    self.outs = tf.keras.layers.Dense(self.input_length,activation=tf.nn.softmax)\n",
        "\n",
        "  def build(self):\n",
        "    # input layer\n",
        "    input = tf.keras.Input(shape=(max_sequence_len-1))\n",
        "    x = self.embd(input)\n",
        "    x = self.bid1(x)\n",
        "    x = self.bid2(x)\n",
        "    x = self.bid3(x)\n",
        "    x = self.btch(x)\n",
        "    x = self.drops(x)\n",
        "    out = self.outs(x)\n",
        "    return tf.keras.Model(input,out)"
      ]
    },
    {
      "cell_type": "code",
      "execution_count": 47,
      "metadata": {
        "colab": {
          "base_uri": "https://localhost:8080/"
        },
        "id": "0UW7flblV_1R",
        "outputId": "f2fc58bf-c131-422c-9bde-4a32a5079165"
      },
      "outputs": [
        {
          "name": "stdout",
          "output_type": "stream",
          "text": [
            "Model: \"model_4\"\n",
            "_________________________________________________________________\n",
            " Layer (type)                Output Shape              Param #   \n",
            "=================================================================\n",
            " input_8 (InputLayer)        [(None, 495)]             0         \n",
            "                                                                 \n",
            " embedding_7 (Embedding)     (None, 495, 100)          529800    \n",
            "                                                                 \n",
            " bidirectional_21 (Bidirecti  (None, 495, 512)         731136    \n",
            " onal)                                                           \n",
            "                                                                 \n",
            " bidirectional_22 (Bidirecti  (None, 495, 256)         656384    \n",
            " onal)                                                           \n",
            "                                                                 \n",
            " bidirectional_23 (Bidirecti  (None, 128)              164352    \n",
            " onal)                                                           \n",
            "                                                                 \n",
            " batch_normalization_4 (Batc  (None, 128)              512       \n",
            " hNormalization)                                                 \n",
            "                                                                 \n",
            " dropout_7 (Dropout)         (None, 128)               0         \n",
            "                                                                 \n",
            " dense_7 (Dense)             (None, 5298)              683442    \n",
            "                                                                 \n",
            "=================================================================\n",
            "Total params: 2,765,626\n",
            "Trainable params: 2,765,370\n",
            "Non-trainable params: 256\n",
            "_________________________________________________________________\n"
          ]
        }
      ],
      "source": [
        "vocabs_size = 100\n",
        "model = GeneratePoemModel(total_words,vocabs_size,max_sequence_len)\n",
        "model = model.build()\n",
        "model.summary()"
      ]
    },
    {
      "cell_type": "code",
      "execution_count": 48,
      "metadata": {
        "colab": {
          "base_uri": "https://localhost:8080/",
          "height": 758
        },
        "id": "tY1X7oO6Qhga",
        "outputId": "f326caa2-742a-49bc-86f6-7bad94dd7f2c"
      },
      "outputs": [
        {
          "data": {
            "image/png": "[encoded data removed]",
            "text/plain": [
              "<IPython.core.display.Image object>"
            ]
          },
          "execution_count": 48,
          "metadata": {},
          "output_type": "execute_result"
        }
      ],
      "source": [
        "tf.keras.utils.plot_model(model)"
      ]
    },
    {
      "cell_type": "code",
      "execution_count": 49,
      "metadata": {
        "id": "vqgLimEB8-sI"
      },
      "outputs": [],
      "source": [
        "model.compile(loss='categorical_crossentropy', optimizer='adam', metrics=['accuracy'])"
      ]
    },
    {
      "cell_type": "code",
      "execution_count": 50,
      "metadata": {
        "colab": {
          "base_uri": "https://localhost:8080/"
        },
        "id": "Y6oI1bzBjDBZ",
        "outputId": "b15940e2-6767-49b5-b62b-a8c84434bf22"
      },
      "outputs": [
        {
          "name": "stdout",
          "output_type": "stream",
          "text": [
            "Epoch 1/20\n",
            "65/65 [==============================] - 35s 312ms/step - loss: 8.5709 - accuracy: 0.0079\n",
            "Epoch 2/20\n",
            "65/65 [==============================] - 21s 317ms/step - loss: 8.3229 - accuracy: 0.0261\n",
            "Epoch 3/20\n",
            "65/65 [==============================] - 20s 307ms/step - loss: 7.8038 - accuracy: 0.0439\n",
            "Epoch 4/20\n",
            "65/65 [==============================] - 20s 312ms/step - loss: 7.3279 - accuracy: 0.0579\n",
            "Epoch 5/20\n",
            "65/65 [==============================] - 20s 302ms/step - loss: 6.8725 - accuracy: 0.0734\n",
            "Epoch 6/20\n",
            "65/65 [==============================] - 20s 303ms/step - loss: 6.3785 - accuracy: 0.0875\n",
            "Epoch 7/20\n",
            "65/65 [==============================] - 20s 313ms/step - loss: 5.8630 - accuracy: 0.1119\n",
            "Epoch 8/20\n",
            "65/65 [==============================] - 20s 304ms/step - loss: 5.3132 - accuracy: 0.1374\n",
            "Epoch 9/20\n",
            "65/65 [==============================] - 20s 306ms/step - loss: 4.7477 - accuracy: 0.1794\n",
            "Epoch 10/20\n",
            "65/65 [==============================] - 20s 303ms/step - loss: 4.1885 - accuracy: 0.2262\n",
            "Epoch 11/20\n",
            "65/65 [==============================] - 20s 303ms/step - loss: 3.6439 - accuracy: 0.2922\n",
            "Epoch 12/20\n",
            "65/65 [==============================] - 20s 309ms/step - loss: 3.1418 - accuracy: 0.3607\n",
            "Epoch 13/20\n",
            "65/65 [==============================] - 20s 303ms/step - loss: 2.6310 - accuracy: 0.4573\n",
            "Epoch 14/20\n",
            "65/65 [==============================] - 20s 303ms/step - loss: 2.1779 - accuracy: 0.5438\n",
            "Epoch 15/20\n",
            "65/65 [==============================] - 20s 303ms/step - loss: 1.7995 - accuracy: 0.6499\n",
            "Epoch 16/20\n",
            "65/65 [==============================] - 20s 303ms/step - loss: 1.4540 - accuracy: 0.7257\n",
            "Epoch 17/20\n",
            "65/65 [==============================] - 20s 304ms/step - loss: 1.1704 - accuracy: 0.7982\n",
            "Epoch 18/20\n",
            "65/65 [==============================] - 20s 302ms/step - loss: 0.9217 - accuracy: 0.8599\n",
            "Epoch 19/20\n",
            "65/65 [==============================] - 20s 304ms/step - loss: 0.7384 - accuracy: 0.9004\n",
            "Epoch 20/20\n",
            "65/65 [==============================] - 20s 303ms/step - loss: 0.5864 - accuracy: 0.9337\n"
          ]
        }
      ],
      "source": [
        "history = model.fit(poets_input, poets_pred, epochs=20, verbose=1,batch_size=128, shuffle=True)"
      ]
    },
    {
      "cell_type": "code",
      "execution_count": 51,
      "metadata": {
        "colab": {
          "base_uri": "https://localhost:8080/",
          "height": 279
        },
        "id": "2NKof8nkJNLw",
        "outputId": "7380f593-699a-4390-92f3-1fae20a647cf"
      },
      "outputs": [
        {
          "data": {
            "image/png": "[encoded data removed]",
            "text/plain": [
              "<Figure size 432x288 with 1 Axes>"
            ]
          },
          "metadata": {
            "needs_background": "light"
          },
          "output_type": "display_data"
        }
      ],
      "source": [
        "def plot_graphs(history, string):\n",
        "  plt.plot(history.history[string])\n",
        "  plt.xlabel(\"Epochs\")\n",
        "  plt.ylabel(string)\n",
        "  plt.show()\n",
        "\n",
        "plot_graphs(history, 'accuracy')"
      ]
    },
    {
      "cell_type": "code",
      "execution_count": 62,
      "metadata": {
        "id": "jE0z7r6vBFXe"
      },
      "outputs": [],
      "source": [
        "model.save('generate_poets_model.h5')"
      ]
    }
  ],
  "metadata": {
    "accelerator": "GPU",
    "colab": {
      "collapsed_sections": [],
      "provenance": []
    },
    "kernelspec": {
      "display_name": "Python 3",
      "name": "python3"
    },
    "language_info": {
      "name": "python"
    }
  },
  "nbformat": 4,
  "nbformat_minor": 0
}
