{
  "metadata": {
    "kernelspec": {
      "language": "python",
      "display_name": "Python 3",
      "name": "python3"
    },
    "language_info": {
      "name": "python",
      "version": "3.7.12",
      "mimetype": "text/x-python",
      "codemirror_mode": {
        "name": "ipython",
        "version": 3
      },
      "pygments_lexer": "ipython3",
      "nbconvert_exporter": "python",
      "file_extension": ".py"
    },
    "colab": {
      "provenance": [],
      "collapsed_sections": []
    },
    "accelerator": "GPU"
  },
  "nbformat_minor": 0,
  "nbformat": 4,
  "cells": [
    {
      "cell_type": "markdown",
      "source": [
        "# Import Libraries"
      ],
      "metadata": {
        "id": "j05ojDIoX7x_"
      }
    },
    {
      "cell_type": "code",
      "source": [
        "import numpy as np\n",
        "import pandas as pd\n",
        "import matplotlib.pyplot as plt\n",
        "from sklearn.model_selection import train_test_split\n",
        "import tensorflow as tf"
      ],
      "metadata": {
        "execution": {
          "iopub.status.busy": "2022-10-15T15:07:44.872316Z",
          "iopub.execute_input": "2022-10-15T15:07:44.872990Z",
          "iopub.status.idle": "2022-10-15T15:07:44.879476Z",
          "shell.execute_reply.started": "2022-10-15T15:07:44.872955Z",
          "shell.execute_reply": "2022-10-15T15:07:44.876897Z"
        },
        "trusted": true,
        "id": "ad2wiu3XX7yE"
      },
      "execution_count": 38,
      "outputs": []
    },
    {
      "cell_type": "markdown",
      "source": [
        "# Load the Dataset"
      ],
      "metadata": {
        "id": "2IUFytt8X7yH"
      }
    },
    {
      "cell_type": "code",
      "source": [
        "dataset = pd.read_csv('/content/ecg.csv',header=None)\n",
        "dataset.head(5)"
      ],
      "metadata": {
        "execution": {
          "iopub.status.busy": "2022-10-15T15:07:44.907538Z",
          "iopub.execute_input": "2022-10-15T15:07:44.907815Z",
          "iopub.status.idle": "2022-10-15T15:07:45.065160Z",
          "shell.execute_reply.started": "2022-10-15T15:07:44.907790Z",
          "shell.execute_reply": "2022-10-15T15:07:45.064262Z"
        },
        "trusted": true,
        "colab": {
          "base_uri": "https://localhost:8080/",
          "height": 300
        },
        "id": "QDcavVNHX7yI",
        "outputId": "2cfb65a7-5496-4765-e96d-c28f2ee50124"
      },
      "execution_count": 39,
      "outputs": [
        {
          "output_type": "execute_result",
          "data": {
            "text/plain": [
              "        0         1         2         3         4         5         6    \\\n",
              "0 -0.112522 -2.827204 -3.773897 -4.349751 -4.376041 -3.474986 -2.181408   \n",
              "1 -1.100878 -3.996840 -4.285843 -4.506579 -4.022377 -3.234368 -1.566126   \n",
              "2 -0.567088 -2.593450 -3.874230 -4.584095 -4.187449 -3.151462 -1.742940   \n",
              "3  0.490473 -1.914407 -3.616364 -4.318823 -4.268016 -3.881110 -2.993280   \n",
              "4  0.800232 -0.874252 -2.384761 -3.973292 -4.338224 -3.802422 -2.534510   \n",
              "\n",
              "        7         8         9    ...       131       132       133       134  \\\n",
              "0 -1.818286 -1.250522 -0.477492  ...  0.792168  0.933541  0.796958  0.578621   \n",
              "1 -0.992258 -0.754680  0.042321  ...  0.538356  0.656881  0.787490  0.724046   \n",
              "2 -1.490659 -1.183580 -0.394229  ...  0.886073  0.531452  0.311377 -0.021919   \n",
              "3 -1.671131 -1.333884 -0.965629  ...  0.350816  0.499111  0.600345  0.842069   \n",
              "4 -1.783423 -1.594450 -0.753199  ...  1.148884  0.958434  1.059025  1.371682   \n",
              "\n",
              "        135       136       137       138       139  140  \n",
              "0  0.257740  0.228077  0.123431  0.925286  0.193137  1.0  \n",
              "1  0.555784  0.476333  0.773820  1.119621 -1.436250  1.0  \n",
              "2 -0.713683 -0.532197  0.321097  0.904227 -0.421797  1.0  \n",
              "3  0.952074  0.990133  1.086798  1.403011 -0.383564  1.0  \n",
              "4  1.277392  0.960304  0.971020  1.614392  1.421456  1.0  \n",
              "\n",
              "[5 rows x 141 columns]"
            ],
            "text/html": [
              "\n",
              "  <div id=\"df-60652a57-1596-45a8-a593-74d6fae36417\">\n",
              "    <div class=\"colab-df-container\">\n",
              "      <div>\n",
              "<style scoped>\n",
              "    .dataframe tbody tr th:only-of-type {\n",
              "        vertical-align: middle;\n",
              "    }\n",
              "\n",
              "    .dataframe tbody tr th {\n",
              "        vertical-align: top;\n",
              "    }\n",
              "\n",
              "    .dataframe thead th {\n",
              "        text-align: right;\n",
              "    }\n",
              "</style>\n",
              "<table border=\"1\" class=\"dataframe\">\n",
              "  <thead>\n",
              "    <tr style=\"text-align: right;\">\n",
              "      <th></th>\n",
              "      <th>0</th>\n",
              "      <th>1</th>\n",
              "      <th>2</th>\n",
              "      <th>3</th>\n",
              "      <th>4</th>\n",
              "      <th>5</th>\n",
              "      <th>6</th>\n",
              "      <th>7</th>\n",
              "      <th>8</th>\n",
              "      <th>9</th>\n",
              "      <th>...</th>\n",
              "      <th>131</th>\n",
              "      <th>132</th>\n",
              "      <th>133</th>\n",
              "      <th>134</th>\n",
              "      <th>135</th>\n",
              "      <th>136</th>\n",
              "      <th>137</th>\n",
              "      <th>138</th>\n",
              "      <th>139</th>\n",
              "      <th>140</th>\n",
              "    </tr>\n",
              "  </thead>\n",
              "  <tbody>\n",
              "    <tr>\n",
              "      <th>0</th>\n",
              "      <td>-0.112522</td>\n",
              "      <td>-2.827204</td>\n",
              "      <td>-3.773897</td>\n",
              "      <td>-4.349751</td>\n",
              "      <td>-4.376041</td>\n",
              "      <td>-3.474986</td>\n",
              "      <td>-2.181408</td>\n",
              "      <td>-1.818286</td>\n",
              "      <td>-1.250522</td>\n",
              "      <td>-0.477492</td>\n",
              "      <td>...</td>\n",
              "      <td>0.792168</td>\n",
              "      <td>0.933541</td>\n",
              "      <td>0.796958</td>\n",
              "      <td>0.578621</td>\n",
              "      <td>0.257740</td>\n",
              "      <td>0.228077</td>\n",
              "      <td>0.123431</td>\n",
              "      <td>0.925286</td>\n",
              "      <td>0.193137</td>\n",
              "      <td>1.0</td>\n",
              "    </tr>\n",
              "    <tr>\n",
              "      <th>1</th>\n",
              "      <td>-1.100878</td>\n",
              "      <td>-3.996840</td>\n",
              "      <td>-4.285843</td>\n",
              "      <td>-4.506579</td>\n",
              "      <td>-4.022377</td>\n",
              "      <td>-3.234368</td>\n",
              "      <td>-1.566126</td>\n",
              "      <td>-0.992258</td>\n",
              "      <td>-0.754680</td>\n",
              "      <td>0.042321</td>\n",
              "      <td>...</td>\n",
              "      <td>0.538356</td>\n",
              "      <td>0.656881</td>\n",
              "      <td>0.787490</td>\n",
              "      <td>0.724046</td>\n",
              "      <td>0.555784</td>\n",
              "      <td>0.476333</td>\n",
              "      <td>0.773820</td>\n",
              "      <td>1.119621</td>\n",
              "      <td>-1.436250</td>\n",
              "      <td>1.0</td>\n",
              "    </tr>\n",
              "    <tr>\n",
              "      <th>2</th>\n",
              "      <td>-0.567088</td>\n",
              "      <td>-2.593450</td>\n",
              "      <td>-3.874230</td>\n",
              "      <td>-4.584095</td>\n",
              "      <td>-4.187449</td>\n",
              "      <td>-3.151462</td>\n",
              "      <td>-1.742940</td>\n",
              "      <td>-1.490659</td>\n",
              "      <td>-1.183580</td>\n",
              "      <td>-0.394229</td>\n",
              "      <td>...</td>\n",
              "      <td>0.886073</td>\n",
              "      <td>0.531452</td>\n",
              "      <td>0.311377</td>\n",
              "      <td>-0.021919</td>\n",
              "      <td>-0.713683</td>\n",
              "      <td>-0.532197</td>\n",
              "      <td>0.321097</td>\n",
              "      <td>0.904227</td>\n",
              "      <td>-0.421797</td>\n",
              "      <td>1.0</td>\n",
              "    </tr>\n",
              "    <tr>\n",
              "      <th>3</th>\n",
              "      <td>0.490473</td>\n",
              "      <td>-1.914407</td>\n",
              "      <td>-3.616364</td>\n",
              "      <td>-4.318823</td>\n",
              "      <td>-4.268016</td>\n",
              "      <td>-3.881110</td>\n",
              "      <td>-2.993280</td>\n",
              "      <td>-1.671131</td>\n",
              "      <td>-1.333884</td>\n",
              "      <td>-0.965629</td>\n",
              "      <td>...</td>\n",
              "      <td>0.350816</td>\n",
              "      <td>0.499111</td>\n",
              "      <td>0.600345</td>\n",
              "      <td>0.842069</td>\n",
              "      <td>0.952074</td>\n",
              "      <td>0.990133</td>\n",
              "      <td>1.086798</td>\n",
              "      <td>1.403011</td>\n",
              "      <td>-0.383564</td>\n",
              "      <td>1.0</td>\n",
              "    </tr>\n",
              "    <tr>\n",
              "      <th>4</th>\n",
              "      <td>0.800232</td>\n",
              "      <td>-0.874252</td>\n",
              "      <td>-2.384761</td>\n",
              "      <td>-3.973292</td>\n",
              "      <td>-4.338224</td>\n",
              "      <td>-3.802422</td>\n",
              "      <td>-2.534510</td>\n",
              "      <td>-1.783423</td>\n",
              "      <td>-1.594450</td>\n",
              "      <td>-0.753199</td>\n",
              "      <td>...</td>\n",
              "      <td>1.148884</td>\n",
              "      <td>0.958434</td>\n",
              "      <td>1.059025</td>\n",
              "      <td>1.371682</td>\n",
              "      <td>1.277392</td>\n",
              "      <td>0.960304</td>\n",
              "      <td>0.971020</td>\n",
              "      <td>1.614392</td>\n",
              "      <td>1.421456</td>\n",
              "      <td>1.0</td>\n",
              "    </tr>\n",
              "  </tbody>\n",
              "</table>\n",
              "<p>5 rows × 141 columns</p>\n",
              "</div>\n",
              "      <button class=\"colab-df-convert\" onclick=\"convertToInteractive('df-60652a57-1596-45a8-a593-74d6fae36417')\"\n",
              "              title=\"Convert this dataframe to an interactive table.\"\n",
              "              style=\"display:none;\">\n",
              "        \n",
              "  <svg xmlns=\"http://www.w3.org/2000/svg\" height=\"24px\"viewBox=\"0 0 24 24\"\n",
              "       width=\"24px\">\n",
              "    <path d=\"M0 0h24v24H0V0z\" fill=\"none\"/>\n",
              "    <path d=\"M18.56 5.44l.94 2.06.94-2.06 2.06-.94-2.06-.94-.94-2.06-.94 2.06-2.06.94zm-11 1L8.5 8.5l.94-2.06 2.06-.94-2.06-.94L8.5 2.5l-.94 2.06-2.06.94zm10 10l.94 2.06.94-2.06 2.06-.94-2.06-.94-.94-2.06-.94 2.06-2.06.94z\"/><path d=\"M17.41 7.96l-1.37-1.37c-.4-.4-.92-.59-1.43-.59-.52 0-1.04.2-1.43.59L10.3 9.45l-7.72 7.72c-.78.78-.78 2.05 0 2.83L4 21.41c.39.39.9.59 1.41.59.51 0 1.02-.2 1.41-.59l7.78-7.78 2.81-2.81c.8-.78.8-2.07 0-2.86zM5.41 20L4 18.59l7.72-7.72 1.47 1.35L5.41 20z\"/>\n",
              "  </svg>\n",
              "      </button>\n",
              "      \n",
              "  <style>\n",
              "    .colab-df-container {\n",
              "      display:flex;\n",
              "      flex-wrap:wrap;\n",
              "      gap: 12px;\n",
              "    }\n",
              "\n",
              "    .colab-df-convert {\n",
              "      background-color: #E8F0FE;\n",
              "      border: none;\n",
              "      border-radius: 50%;\n",
              "      cursor: pointer;\n",
              "      display: none;\n",
              "      fill: #1967D2;\n",
              "      height: 32px;\n",
              "      padding: 0 0 0 0;\n",
              "      width: 32px;\n",
              "    }\n",
              "\n",
              "    .colab-df-convert:hover {\n",
              "      background-color: #E2EBFA;\n",
              "      box-shadow: 0px 1px 2px rgba(60, 64, 67, 0.3), 0px 1px 3px 1px rgba(60, 64, 67, 0.15);\n",
              "      fill: #174EA6;\n",
              "    }\n",
              "\n",
              "    [theme=dark] .colab-df-convert {\n",
              "      background-color: #3B4455;\n",
              "      fill: #D2E3FC;\n",
              "    }\n",
              "\n",
              "    [theme=dark] .colab-df-convert:hover {\n",
              "      background-color: #434B5C;\n",
              "      box-shadow: 0px 1px 3px 1px rgba(0, 0, 0, 0.15);\n",
              "      filter: drop-shadow(0px 1px 2px rgba(0, 0, 0, 0.3));\n",
              "      fill: #FFFFFF;\n",
              "    }\n",
              "  </style>\n",
              "\n",
              "      <script>\n",
              "        const buttonEl =\n",
              "          document.querySelector('#df-60652a57-1596-45a8-a593-74d6fae36417 button.colab-df-convert');\n",
              "        buttonEl.style.display =\n",
              "          google.colab.kernel.accessAllowed ? 'block' : 'none';\n",
              "\n",
              "        async function convertToInteractive(key) {\n",
              "          const element = document.querySelector('#df-60652a57-1596-45a8-a593-74d6fae36417');\n",
              "          const dataTable =\n",
              "            await google.colab.kernel.invokeFunction('convertToInteractive',\n",
              "                                                     [key], {});\n",
              "          if (!dataTable) return;\n",
              "\n",
              "          const docLinkHtml = 'Like what you see? Visit the ' +\n",
              "            '<a target=\"_blank\" href=https://colab.research.google.com/notebooks/data_table.ipynb>data table notebook</a>'\n",
              "            + ' to learn more about interactive tables.';\n",
              "          element.innerHTML = '';\n",
              "          dataTable['output_type'] = 'display_data';\n",
              "          await google.colab.output.renderOutput(dataTable, element);\n",
              "          const docLink = document.createElement('div');\n",
              "          docLink.innerHTML = docLinkHtml;\n",
              "          element.appendChild(docLink);\n",
              "        }\n",
              "      </script>\n",
              "    </div>\n",
              "  </div>\n",
              "  "
            ]
          },
          "metadata": {},
          "execution_count": 39
        }
      ]
    },
    {
      "cell_type": "markdown",
      "source": [
        "# Split Data into Train,Valid,Test"
      ],
      "metadata": {
        "id": "ilaugWllX7yK"
      }
    },
    {
      "cell_type": "code",
      "source": [
        "dataset = dataset.values\n",
        "\n",
        "labels = dataset[:, -1]\n",
        "\n",
        "data = dataset[:, 0:-1]\n",
        "\n",
        "data.shape , labels.shape"
      ],
      "metadata": {
        "execution": {
          "iopub.status.busy": "2022-10-15T15:07:45.067197Z",
          "iopub.execute_input": "2022-10-15T15:07:45.067636Z",
          "iopub.status.idle": "2022-10-15T15:07:45.077185Z",
          "shell.execute_reply.started": "2022-10-15T15:07:45.067599Z",
          "shell.execute_reply": "2022-10-15T15:07:45.076040Z"
        },
        "trusted": true,
        "colab": {
          "base_uri": "https://localhost:8080/"
        },
        "id": "3BMTtQgLX7yK",
        "outputId": "23c1a32c-d462-44ea-d69c-cfc479d34bad"
      },
      "execution_count": 40,
      "outputs": [
        {
          "output_type": "execute_result",
          "data": {
            "text/plain": [
              "((4998, 140), (4998,))"
            ]
          },
          "metadata": {},
          "execution_count": 40
        }
      ]
    },
    {
      "cell_type": "code",
      "source": [
        "split_size = int(len(data) * 0.5)\n",
        "\n",
        "train_data = data[:split_size]\n",
        "train_label = labels[:split_size]\n",
        "\n",
        "valid_data = data[split_size:len(data)-1000]\n",
        "valid_label = labels[split_size:len(data)-1000]\n",
        "\n",
        "test_data = data[len(data)-1000:]\n",
        "test_label = labels[len(data)-1000:]\n",
        "\n",
        "train_data.shape,valid_data.shape,test_data.shape"
      ],
      "metadata": {
        "execution": {
          "iopub.status.busy": "2022-10-15T15:07:45.079036Z",
          "iopub.execute_input": "2022-10-15T15:07:45.080233Z",
          "iopub.status.idle": "2022-10-15T15:07:45.090464Z",
          "shell.execute_reply.started": "2022-10-15T15:07:45.080197Z",
          "shell.execute_reply": "2022-10-15T15:07:45.089592Z"
        },
        "trusted": true,
        "colab": {
          "base_uri": "https://localhost:8080/"
        },
        "id": "AeV07DX6X7yL",
        "outputId": "a19eaffc-3baf-4627-caf1-1a4e7d5c0bc8"
      },
      "execution_count": 41,
      "outputs": [
        {
          "output_type": "execute_result",
          "data": {
            "text/plain": [
              "((2499, 140), (1499, 140), (1000, 140))"
            ]
          },
          "metadata": {},
          "execution_count": 41
        }
      ]
    },
    {
      "cell_type": "code",
      "source": [
        "def data_pipeline(x,y):\n",
        "    data = tf.data.Dataset.from_tensor_slices((x,y))\n",
        "    data = data.shuffle(1024)\n",
        "    data = data.batch(32)\n",
        "    data = data.prefetch(tf.data.experimental.AUTOTUNE)\n",
        "    return data"
      ],
      "metadata": {
        "execution": {
          "iopub.status.busy": "2022-10-15T15:07:45.093225Z",
          "iopub.execute_input": "2022-10-15T15:07:45.094414Z",
          "iopub.status.idle": "2022-10-15T15:07:45.101201Z",
          "shell.execute_reply.started": "2022-10-15T15:07:45.094368Z",
          "shell.execute_reply": "2022-10-15T15:07:45.100276Z"
        },
        "trusted": true,
        "id": "ORE0iA4XX7yM"
      },
      "execution_count": 42,
      "outputs": []
    },
    {
      "cell_type": "code",
      "source": [
        "training_data = data_pipeline(train_data,train_label)\n",
        "validation_data = data_pipeline(valid_data,valid_label)\n",
        "testing_data = data_pipeline(test_data,test_label)"
      ],
      "metadata": {
        "execution": {
          "iopub.status.busy": "2022-10-15T15:07:45.102789Z",
          "iopub.execute_input": "2022-10-15T15:07:45.103145Z",
          "iopub.status.idle": "2022-10-15T15:07:45.126797Z",
          "shell.execute_reply.started": "2022-10-15T15:07:45.103110Z",
          "shell.execute_reply": "2022-10-15T15:07:45.125933Z"
        },
        "trusted": true,
        "id": "k6Tt22AjX7yN"
      },
      "execution_count": 43,
      "outputs": []
    },
    {
      "cell_type": "code",
      "source": [
        "plt.grid()\n",
        "plt.plot(np.arange(140), train_data[0],color='black',linewidth=3.0)\n",
        "plt.title(\"A Normal ECG\")"
      ],
      "metadata": {
        "execution": {
          "iopub.status.busy": "2022-10-15T15:07:45.258913Z",
          "iopub.execute_input": "2022-10-15T15:07:45.259269Z",
          "iopub.status.idle": "2022-10-15T15:07:45.475904Z",
          "shell.execute_reply.started": "2022-10-15T15:07:45.259238Z",
          "shell.execute_reply": "2022-10-15T15:07:45.474859Z"
        },
        "trusted": true,
        "colab": {
          "base_uri": "https://localhost:8080/",
          "height": 298
        },
        "id": "Nwo_AT6BX7yP",
        "outputId": "3cdfe138-f386-4134-e2df-3a78493e994e"
      },
      "execution_count": 44,
      "outputs": [
        {
          "output_type": "execute_result",
          "data": {
            "text/plain": [
              "Text(0.5, 1.0, 'A Normal ECG')"
            ]
          },
          "metadata": {},
          "execution_count": 44
        },
        {
          "output_type": "display_data",
          "data": {
            "text/plain": [
              "<Figure size 432x288 with 1 Axes>"
            ],
            "image/png": "[encoded data removed]"
          },
          "metadata": {
            "needs_background": "light"
          }
        }
      ]
    },
    {
      "cell_type": "code",
      "source": [
        "plt.grid()\n",
        "plt.plot(np.arange(140), train_data[len(train_data)-1],color='black',linewidth=3.0)\n",
        "plt.title(\"Abnormal ECG\")"
      ],
      "metadata": {
        "execution": {
          "iopub.status.busy": "2022-10-15T15:07:45.477853Z",
          "iopub.execute_input": "2022-10-15T15:07:45.478826Z",
          "iopub.status.idle": "2022-10-15T15:07:45.710119Z",
          "shell.execute_reply.started": "2022-10-15T15:07:45.478782Z",
          "shell.execute_reply": "2022-10-15T15:07:45.709215Z"
        },
        "trusted": true,
        "colab": {
          "base_uri": "https://localhost:8080/",
          "height": 298
        },
        "id": "RSFJRo23X7yQ",
        "outputId": "cb7a8cee-5f9f-40f1-a424-385ce4c6e560"
      },
      "execution_count": 45,
      "outputs": [
        {
          "output_type": "execute_result",
          "data": {
            "text/plain": [
              "Text(0.5, 1.0, 'Abnormal ECG')"
            ]
          },
          "metadata": {},
          "execution_count": 45
        },
        {
          "output_type": "display_data",
          "data": {
            "text/plain": [
              "<Figure size 432x288 with 1 Axes>"
            ],
            "image/png": "[encoded data removed]"
          },
          "metadata": {
            "needs_background": "light"
          }
        }
      ]
    },
    {
      "cell_type": "markdown",
      "source": [
        "# Build The Model"
      ],
      "metadata": {
        "id": "x72zOcvaX7yR"
      }
    },
    {
      "cell_type": "code",
      "source": [
        "class ECG_Classification_Model(tf.keras.Model):\n",
        "    def __init__(self):\n",
        "        super(ECG_Classification_Model, self).__init__()\n",
        "        \n",
        "        self.Lmda = tf.keras.layers.Lambda(lambda x : tf.expand_dims(x, axis=-1))\n",
        "        self.C1D = tf.keras.layers.Conv1D(filters=32, kernel_size=5, activation='relu')\n",
        "        self.pool = tf.keras.layers.MaxPool1D(pool_size=2, strides=2)\n",
        "        self.lstm1 = tf.keras.layers.Bidirectional(tf.keras.layers.LSTM(32,return_sequences=True))\n",
        "        self.lstm2 = tf.keras.layers.Bidirectional(tf.keras.layers.LSTM(32))\n",
        "        self.batch = tf.keras.layers.BatchNormalization()\n",
        "        self.flat = tf.keras.layers.Flatten()\n",
        "        self.dns = tf.keras.layers.Dense(16, activation='relu')\n",
        "        self.drop = tf.keras.layers.Dropout(0.2)\n",
        "        self.out = tf.keras.layers.Dense(1, activation='sigmoid')\n",
        "\n",
        "        \n",
        "    def call(self,inputs):\n",
        "        x = inputs\n",
        "        x = self.Lmda(inputs)\n",
        "        x = self.C1D(x)\n",
        "        x = self.pool(x)\n",
        "        x = self.lstm1(x)\n",
        "        x = self.lstm2(x)\n",
        "        x = self.batch(x)\n",
        "        x = self.flat(x)\n",
        "        x = self.dns(x)\n",
        "        x = self.drop(x)\n",
        "        out = self.out(x)\n",
        "        return out\n",
        "    \n",
        "    def build(self,shape=(140,)):\n",
        "        inputs = tf.keras.layers.Input(shape=shape)\n",
        "        return tf.keras.Model(inputs=[inputs], outputs=[self.call(inputs)])"
      ],
      "metadata": {
        "execution": {
          "iopub.status.busy": "2022-10-15T15:07:45.711625Z",
          "iopub.execute_input": "2022-10-15T15:07:45.711911Z",
          "iopub.status.idle": "2022-10-15T15:07:45.722600Z",
          "shell.execute_reply.started": "2022-10-15T15:07:45.711886Z",
          "shell.execute_reply": "2022-10-15T15:07:45.721605Z"
        },
        "trusted": true,
        "id": "eUAyEOYsX7yR"
      },
      "execution_count": 54,
      "outputs": []
    },
    {
      "cell_type": "code",
      "source": [
        "model = ECG_Classification_Model()\n",
        "model = model.build()\n",
        "model.summary()"
      ],
      "metadata": {
        "execution": {
          "iopub.status.busy": "2022-10-15T15:55:34.606204Z",
          "iopub.execute_input": "2022-10-15T15:55:34.607388Z",
          "iopub.status.idle": "2022-10-15T15:55:35.456772Z",
          "shell.execute_reply.started": "2022-10-15T15:55:34.607334Z",
          "shell.execute_reply": "2022-10-15T15:55:35.455771Z"
        },
        "trusted": true,
        "colab": {
          "base_uri": "https://localhost:8080/"
        },
        "id": "21vcYkIdX7yS",
        "outputId": "06589a04-e0c8-4ab1-b14a-ab1b2c2bfea9"
      },
      "execution_count": 62,
      "outputs": [
        {
          "output_type": "stream",
          "name": "stdout",
          "text": [
            "Model: \"model_3\"\n",
            "_________________________________________________________________\n",
            " Layer (type)                Output Shape              Param #   \n",
            "=================================================================\n",
            " input_4 (InputLayer)        [(None, 140)]             0         \n",
            "                                                                 \n",
            " lambda_3 (Lambda)           (None, 140, 1)            0         \n",
            "                                                                 \n",
            " conv1d_3 (Conv1D)           (None, 136, 32)           192       \n",
            "                                                                 \n",
            " max_pooling1d_3 (MaxPooling  (None, 68, 32)           0         \n",
            " 1D)                                                             \n",
            "                                                                 \n",
            " bidirectional_6 (Bidirectio  (None, 68, 64)           16640     \n",
            " nal)                                                            \n",
            "                                                                 \n",
            " bidirectional_7 (Bidirectio  (None, 64)               24832     \n",
            " nal)                                                            \n",
            "                                                                 \n",
            " batch_normalization_3 (Batc  (None, 64)               256       \n",
            " hNormalization)                                                 \n",
            "                                                                 \n",
            " flatten_3 (Flatten)         (None, 64)                0         \n",
            "                                                                 \n",
            " dense_6 (Dense)             (None, 16)                1040      \n",
            "                                                                 \n",
            " dropout_3 (Dropout)         (None, 16)                0         \n",
            "                                                                 \n",
            " dense_7 (Dense)             (None, 1)                 17        \n",
            "                                                                 \n",
            "=================================================================\n",
            "Total params: 42,977\n",
            "Trainable params: 42,849\n",
            "Non-trainable params: 128\n",
            "_________________________________________________________________\n"
          ]
        }
      ]
    },
    {
      "cell_type": "code",
      "source": [
        "model.compile(loss=tf.keras.losses.BinaryCrossentropy(), optimizer=tf.keras.optimizers.SGD(0.1), metrics=[\"accuracy\"])"
      ],
      "metadata": {
        "execution": {
          "iopub.status.busy": "2022-10-15T15:55:37.926574Z",
          "iopub.execute_input": "2022-10-15T15:55:37.926957Z",
          "iopub.status.idle": "2022-10-15T15:55:37.939328Z",
          "shell.execute_reply.started": "2022-10-15T15:55:37.926926Z",
          "shell.execute_reply": "2022-10-15T15:55:37.938276Z"
        },
        "trusted": true,
        "id": "xYfe6hTCX7yT"
      },
      "execution_count": 63,
      "outputs": []
    },
    {
      "cell_type": "code",
      "source": [
        "history = model.fit(\n",
        "    training_data,\n",
        "    epochs=30,\n",
        "    validation_data=validation_data,\n",
        "    verbose=2,\n",
        ")"
      ],
      "metadata": {
        "execution": {
          "iopub.status.busy": "2022-10-15T15:55:39.923149Z",
          "iopub.execute_input": "2022-10-15T15:55:39.923842Z",
          "iopub.status.idle": "2022-10-15T15:57:15.268407Z",
          "shell.execute_reply.started": "2022-10-15T15:55:39.923804Z",
          "shell.execute_reply": "2022-10-15T15:57:15.267440Z"
        },
        "trusted": true,
        "colab": {
          "base_uri": "https://localhost:8080/"
        },
        "id": "tLl9SytyX7yU",
        "outputId": "fe93951a-f809-4acf-88da-178b1b2313af"
      },
      "execution_count": 64,
      "outputs": [
        {
          "output_type": "stream",
          "name": "stdout",
          "text": [
            "Epoch 1/30\n",
            "79/79 - 9s - loss: 0.1240 - accuracy: 0.9704 - val_loss: 0.9266 - val_accuracy: 0.4189 - 9s/epoch - 118ms/step\n",
            "Epoch 2/30\n",
            "79/79 - 1s - loss: 0.0492 - accuracy: 0.9892 - val_loss: 0.8039 - val_accuracy: 0.4189 - 1s/epoch - 17ms/step\n",
            "Epoch 3/30\n",
            "79/79 - 1s - loss: 0.0344 - accuracy: 0.9916 - val_loss: 0.7849 - val_accuracy: 0.4430 - 1s/epoch - 18ms/step\n",
            "Epoch 4/30\n",
            "79/79 - 1s - loss: 0.0365 - accuracy: 0.9920 - val_loss: 0.6296 - val_accuracy: 0.6991 - 1s/epoch - 18ms/step\n",
            "Epoch 5/30\n",
            "79/79 - 1s - loss: 0.0306 - accuracy: 0.9924 - val_loss: 0.4575 - val_accuracy: 0.8646 - 1s/epoch - 17ms/step\n",
            "Epoch 6/30\n",
            "79/79 - 1s - loss: 0.0218 - accuracy: 0.9948 - val_loss: 0.4941 - val_accuracy: 0.8866 - 1s/epoch - 18ms/step\n",
            "Epoch 7/30\n",
            "79/79 - 1s - loss: 0.0213 - accuracy: 0.9952 - val_loss: 0.3164 - val_accuracy: 0.9219 - 1s/epoch - 18ms/step\n",
            "Epoch 8/30\n",
            "79/79 - 1s - loss: 0.0198 - accuracy: 0.9956 - val_loss: 0.1962 - val_accuracy: 0.9473 - 1s/epoch - 17ms/step\n",
            "Epoch 9/30\n",
            "79/79 - 1s - loss: 0.0177 - accuracy: 0.9948 - val_loss: 0.3223 - val_accuracy: 0.9246 - 1s/epoch - 18ms/step\n",
            "Epoch 10/30\n",
            "79/79 - 1s - loss: 0.0232 - accuracy: 0.9940 - val_loss: 0.2939 - val_accuracy: 0.9019 - 1s/epoch - 18ms/step\n",
            "Epoch 11/30\n",
            "79/79 - 1s - loss: 0.0172 - accuracy: 0.9952 - val_loss: 0.2510 - val_accuracy: 0.9400 - 1s/epoch - 18ms/step\n",
            "Epoch 12/30\n",
            "79/79 - 1s - loss: 0.0132 - accuracy: 0.9968 - val_loss: 0.2260 - val_accuracy: 0.9433 - 1s/epoch - 18ms/step\n",
            "Epoch 13/30\n",
            "79/79 - 1s - loss: 0.0146 - accuracy: 0.9964 - val_loss: 0.3043 - val_accuracy: 0.9380 - 1s/epoch - 18ms/step\n",
            "Epoch 14/30\n",
            "79/79 - 1s - loss: 0.0155 - accuracy: 0.9964 - val_loss: 0.2965 - val_accuracy: 0.9373 - 1s/epoch - 18ms/step\n",
            "Epoch 15/30\n",
            "79/79 - 1s - loss: 0.0118 - accuracy: 0.9976 - val_loss: 0.1845 - val_accuracy: 0.9566 - 1s/epoch - 18ms/step\n",
            "Epoch 16/30\n",
            "79/79 - 1s - loss: 0.0108 - accuracy: 0.9976 - val_loss: 0.3256 - val_accuracy: 0.9413 - 1s/epoch - 18ms/step\n",
            "Epoch 17/30\n",
            "79/79 - 1s - loss: 0.0088 - accuracy: 0.9984 - val_loss: 0.4751 - val_accuracy: 0.9253 - 1s/epoch - 18ms/step\n",
            "Epoch 18/30\n",
            "79/79 - 1s - loss: 0.0164 - accuracy: 0.9944 - val_loss: 0.1687 - val_accuracy: 0.9633 - 1s/epoch - 18ms/step\n",
            "Epoch 19/30\n",
            "79/79 - 1s - loss: 0.0100 - accuracy: 0.9984 - val_loss: 0.2266 - val_accuracy: 0.9520 - 1s/epoch - 18ms/step\n",
            "Epoch 20/30\n",
            "79/79 - 1s - loss: 0.0124 - accuracy: 0.9956 - val_loss: 0.3165 - val_accuracy: 0.9406 - 1s/epoch - 18ms/step\n",
            "Epoch 21/30\n",
            "79/79 - 1s - loss: 0.0095 - accuracy: 0.9968 - val_loss: 0.3076 - val_accuracy: 0.9420 - 1s/epoch - 18ms/step\n",
            "Epoch 22/30\n",
            "79/79 - 1s - loss: 0.0109 - accuracy: 0.9976 - val_loss: 0.2843 - val_accuracy: 0.9413 - 1s/epoch - 17ms/step\n",
            "Epoch 23/30\n",
            "79/79 - 1s - loss: 0.0103 - accuracy: 0.9980 - val_loss: 0.2818 - val_accuracy: 0.9466 - 1s/epoch - 18ms/step\n",
            "Epoch 24/30\n",
            "79/79 - 1s - loss: 0.0112 - accuracy: 0.9964 - val_loss: 0.1690 - val_accuracy: 0.9580 - 1s/epoch - 18ms/step\n",
            "Epoch 25/30\n",
            "79/79 - 1s - loss: 0.0077 - accuracy: 0.9984 - val_loss: 0.2406 - val_accuracy: 0.9506 - 1s/epoch - 18ms/step\n",
            "Epoch 26/30\n",
            "79/79 - 1s - loss: 0.0137 - accuracy: 0.9964 - val_loss: 0.2444 - val_accuracy: 0.9506 - 1s/epoch - 18ms/step\n",
            "Epoch 27/30\n",
            "79/79 - 1s - loss: 0.0077 - accuracy: 0.9980 - val_loss: 0.3207 - val_accuracy: 0.9353 - 1s/epoch - 18ms/step\n",
            "Epoch 28/30\n",
            "79/79 - 1s - loss: 0.0090 - accuracy: 0.9976 - val_loss: 0.3753 - val_accuracy: 0.9400 - 1s/epoch - 18ms/step\n",
            "Epoch 29/30\n",
            "79/79 - 1s - loss: 0.0078 - accuracy: 0.9972 - val_loss: 0.2019 - val_accuracy: 0.9580 - 1s/epoch - 17ms/step\n",
            "Epoch 30/30\n",
            "79/79 - 1s - loss: 0.0077 - accuracy: 0.9980 - val_loss: 0.2639 - val_accuracy: 0.9540 - 1s/epoch - 18ms/step\n"
          ]
        }
      ]
    },
    {
      "cell_type": "code",
      "source": [
        "accuracy = history.history[\"accuracy\"]\n",
        "val_accuracy = history.history[\"val_accuracy\"]\n",
        "\n",
        "plt.plot(range(len(history.history[\"accuracy\"])), accuracy, '-')\n",
        "plt.plot(range(len(history.history[\"val_accuracy\"])), val_accuracy, '-')\n",
        "plt.xlabel(\"Epochs\")\n",
        "plt.ylabel(\"Loss\")\n",
        "plt.legend([\"accuracy\",\"val_accuracy\"])\n",
        "plt.figure()"
      ],
      "metadata": {
        "execution": {
          "iopub.status.busy": "2022-10-15T15:57:15.270222Z",
          "iopub.execute_input": "2022-10-15T15:57:15.270856Z",
          "iopub.status.idle": "2022-10-15T15:57:15.503265Z",
          "shell.execute_reply.started": "2022-10-15T15:57:15.270817Z",
          "shell.execute_reply": "2022-10-15T15:57:15.502258Z"
        },
        "trusted": true,
        "colab": {
          "base_uri": "https://localhost:8080/",
          "height": 314
        },
        "id": "-x9tV_tnX7yV",
        "outputId": "d6e75c49-a06c-4abd-9278-4ea2da8f3172"
      },
      "execution_count": 66,
      "outputs": [
        {
          "output_type": "execute_result",
          "data": {
            "text/plain": [
              "<Figure size 432x288 with 0 Axes>"
            ]
          },
          "metadata": {},
          "execution_count": 66
        },
        {
          "output_type": "display_data",
          "data": {
            "text/plain": [
              "<Figure size 432x288 with 1 Axes>"
            ],
            "image/png": "[encoded data removed]"
          },
          "metadata": {
            "needs_background": "light"
          }
        },
        {
          "output_type": "display_data",
          "data": {
            "text/plain": [
              "<Figure size 432x288 with 0 Axes>"
            ]
          },
          "metadata": {}
        }
      ]
    },
    {
      "cell_type": "code",
      "source": [
        "accuracy = model.evaluate(testing_data)"
      ],
      "metadata": {
        "execution": {
          "iopub.status.busy": "2022-10-15T15:57:19.900832Z",
          "iopub.execute_input": "2022-10-15T15:57:19.901197Z",
          "iopub.status.idle": "2022-10-15T15:57:20.150530Z",
          "shell.execute_reply.started": "2022-10-15T15:57:19.901164Z",
          "shell.execute_reply": "2022-10-15T15:57:20.149569Z"
        },
        "trusted": true,
        "colab": {
          "base_uri": "https://localhost:8080/"
        },
        "id": "vyUEH2sxX7yV",
        "outputId": "4a892e4c-a060-4d8a-af75-0dee5fa0467e"
      },
      "execution_count": 65,
      "outputs": [
        {
          "output_type": "stream",
          "name": "stdout",
          "text": [
            "32/32 [==============================] - 0s 9ms/step - loss: 0.1038 - accuracy: 0.9760\n"
          ]
        }
      ]
    },
    {
      "cell_type": "markdown",
      "source": [
        "# Test The Model"
      ],
      "metadata": {
        "id": "0MHTHQcVYJ5O"
      }
    },
    {
      "cell_type": "code",
      "source": [
        "prediction = model.predict(test_data)"
      ],
      "metadata": {
        "colab": {
          "base_uri": "https://localhost:8080/"
        },
        "id": "B3TzE5DoZISP",
        "outputId": "78d1e949-8f7c-4f28-d623-f15a9d473cb2"
      },
      "execution_count": 67,
      "outputs": [
        {
          "output_type": "stream",
          "name": "stdout",
          "text": [
            "32/32 [==============================] - 2s 8ms/step\n"
          ]
        }
      ]
    },
    {
      "cell_type": "code",
      "source": [
        "def prediction_label(num):\n",
        "  return 'Normal' if num > 0.5 else 'Abnormal'\n",
        "\n",
        "plt.grid()\n",
        "plt.plot(np.arange(140), test_data[0],color='black',linewidth=3.0)\n",
        "plt.title(prediction_label(prediction[0]))"
      ],
      "metadata": {
        "colab": {
          "base_uri": "https://localhost:8080/",
          "height": 298
        },
        "id": "e6bmjSSRYJOk",
        "outputId": "a437361c-2fcc-492f-8098-742d1dfe4edd"
      },
      "execution_count": 68,
      "outputs": [
        {
          "output_type": "execute_result",
          "data": {
            "text/plain": [
              "Text(0.5, 1.0, 'Abnormal')"
            ]
          },
          "metadata": {},
          "execution_count": 68
        },
        {
          "output_type": "display_data",
          "data": {
            "text/plain": [
              "<Figure size 432x288 with 1 Axes>"
            ],
            "image/png": "[encoded data removed]"
          },
          "metadata": {
            "needs_background": "light"
          }
        }
      ]
    }
  ]
}