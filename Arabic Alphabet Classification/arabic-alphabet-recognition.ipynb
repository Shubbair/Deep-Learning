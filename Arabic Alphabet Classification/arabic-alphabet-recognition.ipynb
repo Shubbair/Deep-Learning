{
 "cells": [
  {
   "cell_type": "markdown",
   "id": "1036d071",
   "metadata": {},
   "source": [
    "# Unzip the data manually or with this code"
   ]
  },
  {
   "cell_type": "code",
   "execution_count": null,
   "id": "f4de9654",
   "metadata": {},
   "outputs": [],
   "source": [
    "!zip '/dataset/csvTrainImages 13440x1024.csv.zip'\n",
    "!zip '/dataset/csvTestImages 3360x1024.csv.zip'"
   ]
  },
  {
   "cell_type": "markdown",
   "id": "4c34cf52",
   "metadata": {},
   "source": [
    "# Import Libraries"
   ]
  },
  {
   "cell_type": "code",
   "execution_count": 1,
   "id": "efdf3049",
   "metadata": {
    "execution": {
     "iopub.execute_input": "2022-08-21T03:53:21.728124Z",
     "iopub.status.busy": "2022-08-21T03:53:21.727653Z",
     "iopub.status.idle": "2022-08-21T03:53:27.806474Z",
     "shell.execute_reply": "2022-08-21T03:53:27.805401Z"
    },
    "papermill": {
     "duration": 6.088222,
     "end_time": "2022-08-21T03:53:27.809128",
     "exception": false,
     "start_time": "2022-08-21T03:53:21.720906",
     "status": "completed"
    },
    "tags": []
   },
   "outputs": [],
   "source": [
    "import pandas as pd\n",
    "import numpy as np\n",
    "import matplotlib.pyplot as plt\n",
    "\n",
    "import tensorflow\n",
    "import tensorflow as tf\n",
    "from tensorflow import keras\n",
    "from sklearn.utils import shuffle\n",
    "from keras.utils.np_utils import to_categorical\n",
    "from tensorflow.keras.preprocessing.image import ImageDataGenerator\n",
    "from tensorflow.keras.callbacks import EarlyStopping,ReduceLROnPlateau"
   ]
  },
  {
   "cell_type": "markdown",
   "id": "9de30f51",
   "metadata": {},
   "source": [
    "# Load Datasets"
   ]
  },
  {
   "cell_type": "code",
   "execution_count": 2,
   "id": "15475e47",
   "metadata": {
    "execution": {
     "iopub.execute_input": "2022-08-21T03:53:27.819163Z",
     "iopub.status.busy": "2022-08-21T03:53:27.818679Z",
     "iopub.status.idle": "2022-08-21T03:53:29.366387Z",
     "shell.execute_reply": "2022-08-21T03:53:29.365408Z"
    },
    "papermill": {
     "duration": 1.555121,
     "end_time": "2022-08-21T03:53:29.368786",
     "exception": false,
     "start_time": "2022-08-21T03:53:27.813665",
     "status": "completed"
    },
    "tags": []
   },
   "outputs": [],
   "source": [
    "x_train = pd.read_csv(\"/kaggle/input/ahcd1/csvTrainImages 13440x1024.csv\",header=None)\n",
    "y_train = pd.read_csv(\"/kaggle/input/ahcd1/csvTrainLabel 13440x1.csv\",header=None)\n",
    "\n",
    "x_test = pd.read_csv(\"/kaggle/input/ahcd1/csvTestImages 3360x1024.csv\",header=None)\n",
    "y_test = pd.read_csv(\"/kaggle/input/ahcd1/csvTestLabel 3360x1.csv\",header=None)"
   ]
  },
  {
   "cell_type": "code",
   "execution_count": 3,
   "id": "72e9b9f9",
   "metadata": {
    "execution": {
     "iopub.execute_input": "2022-08-21T03:53:29.379112Z",
     "iopub.status.busy": "2022-08-21T03:53:29.378513Z",
     "iopub.status.idle": "2022-08-21T03:53:29.383904Z",
     "shell.execute_reply": "2022-08-21T03:53:29.382479Z"
    },
    "papermill": {
     "duration": 0.012742,
     "end_time": "2022-08-21T03:53:29.385993",
     "exception": false,
     "start_time": "2022-08-21T03:53:29.373251",
     "status": "completed"
    },
    "tags": []
   },
   "outputs": [],
   "source": [
    "x_train = x_train.to_numpy()\n",
    "y_train = y_train.to_numpy()-1\n",
    "\n",
    "x_test = x_test.to_numpy()\n",
    "y_test = y_test.to_numpy()-1"
   ]
  },
  {
   "cell_type": "code",
   "execution_count": 4,
   "id": "d4de5afa",
   "metadata": {
    "execution": {
     "iopub.execute_input": "2022-08-21T03:53:29.395145Z",
     "iopub.status.busy": "2022-08-21T03:53:29.394875Z",
     "iopub.status.idle": "2022-08-21T03:53:29.400288Z",
     "shell.execute_reply": "2022-08-21T03:53:29.399294Z"
    },
    "papermill": {
     "duration": 0.014613,
     "end_time": "2022-08-21T03:53:29.404662",
     "exception": false,
     "start_time": "2022-08-21T03:53:29.390049",
     "status": "completed"
    },
    "tags": []
   },
   "outputs": [
    {
     "name": "stdout",
     "output_type": "stream",
     "text": [
      "Train Data Size (13440, 1024) (13440, 1)\n",
      "Test Data Size (3360, 1024) (3360, 1)\n"
     ]
    }
   ],
   "source": [
    "print('Train Data Size',x_train.shape,y_train.shape)\n",
    "print('Test Data Size',x_test.shape,y_test.shape)"
   ]
  },
  {
   "cell_type": "code",
   "execution_count": 5,
   "id": "22a1c320",
   "metadata": {
    "execution": {
     "iopub.execute_input": "2022-08-21T03:53:29.414076Z",
     "iopub.status.busy": "2022-08-21T03:53:29.413815Z",
     "iopub.status.idle": "2022-08-21T03:53:29.605388Z",
     "shell.execute_reply": "2022-08-21T03:53:29.603792Z"
    },
    "papermill": {
     "duration": 0.198711,
     "end_time": "2022-08-21T03:53:29.607695",
     "exception": false,
     "start_time": "2022-08-21T03:53:29.408984",
     "status": "completed"
    },
    "tags": []
   },
   "outputs": [
    {
     "name": "stdout",
     "output_type": "stream",
     "text": [
      "(13440, 32, 32) (3360, 32, 32)\n"
     ]
    }
   ],
   "source": [
    "x_train = x_train.reshape(-1,32,32)\n",
    "x_test = x_test.reshape(-1,32,32)\n",
    "x_train = x_train/255\n",
    "x_test = x_test/255\n",
    "# for some reason the images are flipped and rotated\n",
    "# so we transpose each image to be in the correct shape\n",
    "x_train = np.array([image.T for image in x_train])\n",
    "x_test = np.array([image.T for image in x_test])\n",
    "\n",
    "# shuffle\n",
    "x_train, y_train = shuffle(x_train, y_train)\n",
    "x_test, y_test = shuffle(x_test, y_test)\n",
    "\n",
    "print(x_train.shape, x_test.shape)"
   ]
  },
  {
   "cell_type": "markdown",
   "id": "25c575d0",
   "metadata": {
    "papermill": {
     "duration": 0.004378,
     "end_time": "2022-08-21T03:53:29.616472",
     "exception": false,
     "start_time": "2022-08-21T03:53:29.612094",
     "status": "completed"
    },
    "tags": []
   },
   "source": [
    "#### 1024 pixels which mean 32 x 32"
   ]
  },
  {
   "cell_type": "code",
   "execution_count": 6,
   "id": "6a11d4dc",
   "metadata": {
    "execution": {
     "iopub.execute_input": "2022-08-21T03:53:29.626029Z",
     "iopub.status.busy": "2022-08-21T03:53:29.625717Z",
     "iopub.status.idle": "2022-08-21T03:53:30.570677Z",
     "shell.execute_reply": "2022-08-21T03:53:30.569680Z"
    },
    "papermill": {
     "duration": 0.953211,
     "end_time": "2022-08-21T03:53:30.573846",
     "exception": false,
     "start_time": "2022-08-21T03:53:29.620635",
     "status": "completed"
    },
    "tags": []
   },
   "outputs": [
    {
     "data": {
      "image/png": "[encoded data removed]",
      "text/plain": [
       "<Figure size 720x720 with 25 Axes>"
      ]
     },
     "metadata": {},
     "output_type": "display_data"
    }
   ],
   "source": [
    "# set the arabic alphabet\n",
    "arabic_chars =list('ابتثجحخدذرزسشصضطظعغفقكلمنهوي')\n",
    "arabic_chars\n",
    "\n",
    "ra = np.random.randint(0, 13440, size=25)\n",
    "plt.figure(figsize=(10,10))\n",
    "for i in range(25):\n",
    "    plt.subplot(5,5,i+1)\n",
    "    plt.xticks([])\n",
    "    plt.yticks([])\n",
    "    plt.imshow(x_train[ra[i]].reshape(32,32),\"gray\")\n",
    "    plt.title(arabic_chars[int(y_train[ra[i]][0])], fontsize = 20)\n",
    "plt.show()"
   ]
  },
  {
   "cell_type": "code",
   "execution_count": 7,
   "id": "57164339",
   "metadata": {
    "execution": {
     "iopub.execute_input": "2022-08-21T03:53:30.586829Z",
     "iopub.status.busy": "2022-08-21T03:53:30.586532Z",
     "iopub.status.idle": "2022-08-21T03:53:30.593093Z",
     "shell.execute_reply": "2022-08-21T03:53:30.592155Z"
    },
    "papermill": {
     "duration": 0.015242,
     "end_time": "2022-08-21T03:53:30.595360",
     "exception": false,
     "start_time": "2022-08-21T03:53:30.580118",
     "status": "completed"
    },
    "tags": []
   },
   "outputs": [
    {
     "name": "stdout",
     "output_type": "stream",
     "text": [
      "(13440,) (3360,)\n",
      "(13440, 28) (3360, 28)\n"
     ]
    }
   ],
   "source": [
    "y_train = y_train.reshape(-1)\n",
    "y_test = y_test.reshape(-1)\n",
    "\n",
    "y_train_h = to_categorical(y_train)\n",
    "y_test_h = to_categorical(y_test)\n",
    "\n",
    "print(y_train.shape, y_test.shape)\n",
    "print(y_train_h.shape, y_test_h.shape)"
   ]
  },
  {
   "cell_type": "code",
   "execution_count": 8,
   "id": "8c1ebc66",
   "metadata": {
    "execution": {
     "iopub.execute_input": "2022-08-21T03:53:30.608698Z",
     "iopub.status.busy": "2022-08-21T03:53:30.607161Z",
     "iopub.status.idle": "2022-08-21T03:53:30.640521Z",
     "shell.execute_reply": "2022-08-21T03:53:30.639530Z"
    },
    "papermill": {
     "duration": 0.04201,
     "end_time": "2022-08-21T03:53:30.642922",
     "exception": false,
     "start_time": "2022-08-21T03:53:30.600912",
     "status": "completed"
    },
    "tags": []
   },
   "outputs": [],
   "source": [
    "x_train = x_train.reshape(-1,32,32, 1)\n",
    "x_test = x_test.reshape(-1,32,32, 1)\n",
    "\n",
    "train_datagen=ImageDataGenerator(\n",
    "    #rescale=1/255, # Normalize the new images\n",
    "    zoom_range=0.2, #the amount of zooming u need\n",
    "    width_shift_range=0.10, # The percentage of Width shifitning\n",
    "    height_shift_range=0.10, # The percentage of height shifitning\n",
    "    shear_range=0.1, #Shear angle in counter-clockwise direction in degrees\n",
    "    fill_mode='nearest',\n",
    "#     rotation_range=20, \n",
    ")\n",
    "train_generator=train_datagen.flow(\n",
    "    x_train ,y_train ,batch_size=64\n",
    ")\n",
    "\n",
    "test_datagen=ImageDataGenerator()\n",
    "\n",
    "test_generator=test_datagen.flow(\n",
    "    x_test ,y_test ,batch_size=64\n",
    " \n",
    ")"
   ]
  },
  {
   "cell_type": "markdown",
   "id": "80c0dac2",
   "metadata": {},
   "source": [
    "# Add Callbacks"
   ]
  },
  {
   "cell_type": "code",
   "execution_count": 9,
   "id": "cc087dcb",
   "metadata": {
    "execution": {
     "iopub.execute_input": "2022-08-21T03:53:30.655925Z",
     "iopub.status.busy": "2022-08-21T03:53:30.654975Z",
     "iopub.status.idle": "2022-08-21T03:53:30.660445Z",
     "shell.execute_reply": "2022-08-21T03:53:30.659498Z"
    },
    "papermill": {
     "duration": 0.013889,
     "end_time": "2022-08-21T03:53:30.662520",
     "exception": false,
     "start_time": "2022-08-21T03:53:30.648631",
     "status": "completed"
    },
    "tags": []
   },
   "outputs": [],
   "source": [
    "earlystop = EarlyStopping(patience=6)\n",
    "learning_rate_reduction=ReduceLROnPlateau(\n",
    "    monitor='val_acc',\n",
    "    patience= 3,\n",
    "    verbose=1,\n",
    ")\n",
    "callbacks = [earlystop, learning_rate_reduction]"
   ]
  },
  {
   "cell_type": "markdown",
   "id": "dec3966d",
   "metadata": {},
   "source": [
    "# Build the model"
   ]
  },
  {
   "cell_type": "code",
   "execution_count": 10,
   "id": "37a1258c",
   "metadata": {
    "execution": {
     "iopub.execute_input": "2022-08-21T03:53:30.674608Z",
     "iopub.status.busy": "2022-08-21T03:53:30.674345Z",
     "iopub.status.idle": "2022-08-21T03:53:33.481075Z",
     "shell.execute_reply": "2022-08-21T03:53:33.480054Z"
    },
    "papermill": {
     "duration": 2.815422,
     "end_time": "2022-08-21T03:53:33.483345",
     "exception": false,
     "start_time": "2022-08-21T03:53:30.667923",
     "status": "completed"
    },
    "tags": []
   },
   "outputs": [
    {
     "name": "stderr",
     "output_type": "stream",
     "text": [
      "2022-08-21 03:53:30.759677: I tensorflow/stream_executor/cuda/cuda_gpu_executor.cc:937] successful NUMA node read from SysFS had negative value (-1), but there must be at least one NUMA node, so returning NUMA node zero\n",
      "2022-08-21 03:53:30.871110: I tensorflow/stream_executor/cuda/cuda_gpu_executor.cc:937] successful NUMA node read from SysFS had negative value (-1), but there must be at least one NUMA node, so returning NUMA node zero\n",
      "2022-08-21 03:53:30.871959: I tensorflow/stream_executor/cuda/cuda_gpu_executor.cc:937] successful NUMA node read from SysFS had negative value (-1), but there must be at least one NUMA node, so returning NUMA node zero\n",
      "2022-08-21 03:53:30.873948: I tensorflow/core/platform/cpu_feature_guard.cc:142] This TensorFlow binary is optimized with oneAPI Deep Neural Network Library (oneDNN) to use the following CPU instructions in performance-critical operations:  AVX2 AVX512F FMA\n",
      "To enable them in other operations, rebuild TensorFlow with the appropriate compiler flags.\n",
      "2022-08-21 03:53:30.874308: I tensorflow/stream_executor/cuda/cuda_gpu_executor.cc:937] successful NUMA node read from SysFS had negative value (-1), but there must be at least one NUMA node, so returning NUMA node zero\n",
      "2022-08-21 03:53:30.875299: I tensorflow/stream_executor/cuda/cuda_gpu_executor.cc:937] successful NUMA node read from SysFS had negative value (-1), but there must be at least one NUMA node, so returning NUMA node zero\n",
      "2022-08-21 03:53:30.876357: I tensorflow/stream_executor/cuda/cuda_gpu_executor.cc:937] successful NUMA node read from SysFS had negative value (-1), but there must be at least one NUMA node, so returning NUMA node zero\n",
      "2022-08-21 03:53:33.021463: I tensorflow/stream_executor/cuda/cuda_gpu_executor.cc:937] successful NUMA node read from SysFS had negative value (-1), but there must be at least one NUMA node, so returning NUMA node zero\n",
      "2022-08-21 03:53:33.022364: I tensorflow/stream_executor/cuda/cuda_gpu_executor.cc:937] successful NUMA node read from SysFS had negative value (-1), but there must be at least one NUMA node, so returning NUMA node zero\n",
      "2022-08-21 03:53:33.023053: I tensorflow/stream_executor/cuda/cuda_gpu_executor.cc:937] successful NUMA node read from SysFS had negative value (-1), but there must be at least one NUMA node, so returning NUMA node zero\n",
      "2022-08-21 03:53:33.023668: I tensorflow/core/common_runtime/gpu/gpu_device.cc:1510] Created device /job:localhost/replica:0/task:0/device:GPU:0 with 15403 MB memory:  -> device: 0, name: Tesla P100-PCIE-16GB, pci bus id: 0000:00:04.0, compute capability: 6.0\n"
     ]
    }
   ],
   "source": [
    "model=keras.models.Sequential()\n",
    "model.add(keras.layers.Conv2D(256,(5,5),activation='relu',input_shape=(32,32,1)))\n",
    "model.add(keras.layers.MaxPooling2D(2,2))\n",
    "model.add(keras.layers.Conv2D(128,(5,5),activation='relu'))\n",
    "model.add(keras.layers.MaxPooling2D(2,2))\n",
    "model.add(keras.layers.Dropout(0.2))\n",
    "model.add(keras.layers.Flatten())\n",
    "model.add(keras.layers.Dense(1024,activation='relu'))\n",
    "model.add(keras.layers.Dropout(0.5))\n",
    "model.add(keras.layers.Dense(28, kernel_regularizer=keras.regularizers.l2(0.01) ,activation='softmax'))"
   ]
  },
  {
   "cell_type": "code",
   "execution_count": 11,
   "id": "bf48fde8",
   "metadata": {
    "execution": {
     "iopub.execute_input": "2022-08-21T03:53:33.496528Z",
     "iopub.status.busy": "2022-08-21T03:53:33.496154Z",
     "iopub.status.idle": "2022-08-21T03:53:33.507383Z",
     "shell.execute_reply": "2022-08-21T03:53:33.506510Z"
    },
    "papermill": {
     "duration": 0.020049,
     "end_time": "2022-08-21T03:53:33.509179",
     "exception": false,
     "start_time": "2022-08-21T03:53:33.489130",
     "status": "completed"
    },
    "tags": []
   },
   "outputs": [],
   "source": [
    "model.compile(optimizer= 'adam' ,loss='sparse_categorical_crossentropy',metrics=['accuracy'])"
   ]
  },
  {
   "cell_type": "code",
   "execution_count": 12,
   "id": "9bbf874a",
   "metadata": {
    "execution": {
     "iopub.execute_input": "2022-08-21T03:53:33.522279Z",
     "iopub.status.busy": "2022-08-21T03:53:33.521220Z",
     "iopub.status.idle": "2022-08-21T03:53:33.527670Z",
     "shell.execute_reply": "2022-08-21T03:53:33.526691Z"
    },
    "papermill": {
     "duration": 0.015413,
     "end_time": "2022-08-21T03:53:33.530152",
     "exception": false,
     "start_time": "2022-08-21T03:53:33.514739",
     "status": "completed"
    },
    "tags": []
   },
   "outputs": [
    {
     "name": "stdout",
     "output_type": "stream",
     "text": [
      "Model: \"sequential\"\n",
      "_________________________________________________________________\n",
      "Layer (type)                 Output Shape              Param #   \n",
      "=================================================================\n",
      "conv2d (Conv2D)              (None, 28, 28, 256)       6656      \n",
      "_________________________________________________________________\n",
      "max_pooling2d (MaxPooling2D) (None, 14, 14, 256)       0         \n",
      "_________________________________________________________________\n",
      "conv2d_1 (Conv2D)            (None, 10, 10, 128)       819328    \n",
      "_________________________________________________________________\n",
      "max_pooling2d_1 (MaxPooling2 (None, 5, 5, 128)         0         \n",
      "_________________________________________________________________\n",
      "dropout (Dropout)            (None, 5, 5, 128)         0         \n",
      "_________________________________________________________________\n",
      "flatten (Flatten)            (None, 3200)              0         \n",
      "_________________________________________________________________\n",
      "dense (Dense)                (None, 1024)              3277824   \n",
      "_________________________________________________________________\n",
      "dropout_1 (Dropout)          (None, 1024)              0         \n",
      "_________________________________________________________________\n",
      "dense_1 (Dense)              (None, 28)                28700     \n",
      "=================================================================\n",
      "Total params: 4,132,508\n",
      "Trainable params: 4,132,508\n",
      "Non-trainable params: 0\n",
      "_________________________________________________________________\n"
     ]
    }
   ],
   "source": [
    "model.summary()"
   ]
  },
  {
   "cell_type": "code",
   "execution_count": 13,
   "id": "999c576b",
   "metadata": {
    "execution": {
     "iopub.execute_input": "2022-08-21T03:53:33.545289Z",
     "iopub.status.busy": "2022-08-21T03:53:33.543825Z",
     "iopub.status.idle": "2022-08-21T03:56:22.851320Z",
     "shell.execute_reply": "2022-08-21T03:56:22.850336Z"
    },
    "papermill": {
     "duration": 169.316528,
     "end_time": "2022-08-21T03:56:22.853446",
     "exception": false,
     "start_time": "2022-08-21T03:53:33.536918",
     "status": "completed"
    },
    "tags": []
   },
   "outputs": [
    {
     "name": "stdout",
     "output_type": "stream",
     "text": [
      "Epoch 1/100\n"
     ]
    },
    {
     "name": "stderr",
     "output_type": "stream",
     "text": [
      "2022-08-21 03:53:33.630549: I tensorflow/compiler/mlir/mlir_graph_optimization_pass.cc:185] None of the MLIR Optimization Passes are enabled (registered 2)\n",
      "2022-08-21 03:53:35.017894: I tensorflow/stream_executor/cuda/cuda_dnn.cc:369] Loaded cuDNN version 8005\n"
     ]
    },
    {
     "name": "stdout",
     "output_type": "stream",
     "text": [
      "210/210 [==============================] - 11s 20ms/step - loss: 2.0125 - accuracy: 0.4397 - val_loss: 0.7813 - val_accuracy: 0.7964\n",
      "Epoch 2/100\n",
      "210/210 [==============================] - 4s 21ms/step - loss: 1.0088 - accuracy: 0.7149 - val_loss: 0.5726 - val_accuracy: 0.8560\n",
      "Epoch 3/100\n",
      "210/210 [==============================] - 4s 19ms/step - loss: 0.7756 - accuracy: 0.7890 - val_loss: 0.4295 - val_accuracy: 0.8991\n",
      "Epoch 4/100\n",
      "210/210 [==============================] - 5s 23ms/step - loss: 0.6423 - accuracy: 0.8267 - val_loss: 0.3556 - val_accuracy: 0.9333\n",
      "Epoch 5/100\n",
      "210/210 [==============================] - 4s 20ms/step - loss: 0.5506 - accuracy: 0.8580 - val_loss: 0.3247 - val_accuracy: 0.9315\n",
      "Epoch 6/100\n",
      "210/210 [==============================] - 4s 19ms/step - loss: 0.5046 - accuracy: 0.8671 - val_loss: 0.2995 - val_accuracy: 0.9381\n",
      "Epoch 7/100\n",
      "210/210 [==============================] - 5s 22ms/step - loss: 0.4600 - accuracy: 0.8795 - val_loss: 0.2654 - val_accuracy: 0.9524\n",
      "Epoch 8/100\n",
      "210/210 [==============================] - 4s 19ms/step - loss: 0.4225 - accuracy: 0.8926 - val_loss: 0.2439 - val_accuracy: 0.9515\n",
      "Epoch 9/100\n",
      "210/210 [==============================] - 4s 20ms/step - loss: 0.4086 - accuracy: 0.8999 - val_loss: 0.2359 - val_accuracy: 0.9571\n",
      "Epoch 10/100\n",
      "210/210 [==============================] - 4s 19ms/step - loss: 0.3762 - accuracy: 0.9050 - val_loss: 0.2469 - val_accuracy: 0.9503\n",
      "Epoch 11/100\n",
      "210/210 [==============================] - 4s 19ms/step - loss: 0.3590 - accuracy: 0.9098 - val_loss: 0.2201 - val_accuracy: 0.9571\n",
      "Epoch 12/100\n",
      "210/210 [==============================] - 4s 20ms/step - loss: 0.3346 - accuracy: 0.9194 - val_loss: 0.2267 - val_accuracy: 0.9607\n",
      "Epoch 13/100\n",
      "210/210 [==============================] - 4s 19ms/step - loss: 0.3253 - accuracy: 0.9211 - val_loss: 0.2180 - val_accuracy: 0.9598\n",
      "Epoch 14/100\n",
      "210/210 [==============================] - 4s 19ms/step - loss: 0.3088 - accuracy: 0.9277 - val_loss: 0.1925 - val_accuracy: 0.9702\n",
      "Epoch 15/100\n",
      "210/210 [==============================] - 5s 24ms/step - loss: 0.3137 - accuracy: 0.9237 - val_loss: 0.1960 - val_accuracy: 0.9673\n",
      "Epoch 16/100\n",
      "210/210 [==============================] - 4s 19ms/step - loss: 0.2887 - accuracy: 0.9309 - val_loss: 0.1937 - val_accuracy: 0.9637\n",
      "Epoch 17/100\n",
      "210/210 [==============================] - 4s 21ms/step - loss: 0.2904 - accuracy: 0.9304 - val_loss: 0.2174 - val_accuracy: 0.9589\n",
      "Epoch 18/100\n",
      "210/210 [==============================] - 4s 19ms/step - loss: 0.2848 - accuracy: 0.9345 - val_loss: 0.1893 - val_accuracy: 0.9685\n",
      "Epoch 19/100\n",
      "210/210 [==============================] - 4s 19ms/step - loss: 0.2730 - accuracy: 0.9379 - val_loss: 0.1941 - val_accuracy: 0.9670\n",
      "Epoch 20/100\n",
      "210/210 [==============================] - 4s 20ms/step - loss: 0.2649 - accuracy: 0.9380 - val_loss: 0.1856 - val_accuracy: 0.9667\n",
      "Epoch 21/100\n",
      "210/210 [==============================] - 4s 19ms/step - loss: 0.2558 - accuracy: 0.9403 - val_loss: 0.1709 - val_accuracy: 0.9717\n",
      "Epoch 22/100\n",
      "210/210 [==============================] - 4s 19ms/step - loss: 0.2496 - accuracy: 0.9447 - val_loss: 0.1857 - val_accuracy: 0.9664\n",
      "Epoch 23/100\n",
      "210/210 [==============================] - 5s 24ms/step - loss: 0.2518 - accuracy: 0.9449 - val_loss: 0.1880 - val_accuracy: 0.9690\n",
      "Epoch 24/100\n",
      "210/210 [==============================] - 4s 19ms/step - loss: 0.2468 - accuracy: 0.9443 - val_loss: 0.1974 - val_accuracy: 0.9649\n",
      "Epoch 25/100\n",
      "210/210 [==============================] - 4s 21ms/step - loss: 0.2225 - accuracy: 0.9505 - val_loss: 0.1654 - val_accuracy: 0.9735\n",
      "Epoch 26/100\n",
      "210/210 [==============================] - 4s 19ms/step - loss: 0.2307 - accuracy: 0.9463 - val_loss: 0.1630 - val_accuracy: 0.9783\n",
      "Epoch 27/100\n",
      "210/210 [==============================] - 4s 19ms/step - loss: 0.2303 - accuracy: 0.9506 - val_loss: 0.1581 - val_accuracy: 0.9732\n",
      "Epoch 28/100\n",
      "210/210 [==============================] - 4s 20ms/step - loss: 0.2231 - accuracy: 0.9504 - val_loss: 0.1730 - val_accuracy: 0.9711\n",
      "Epoch 29/100\n",
      "210/210 [==============================] - 4s 19ms/step - loss: 0.2168 - accuracy: 0.9525 - val_loss: 0.1635 - val_accuracy: 0.9735\n",
      "Epoch 30/100\n",
      "210/210 [==============================] - 5s 23ms/step - loss: 0.2189 - accuracy: 0.9507 - val_loss: 0.1664 - val_accuracy: 0.9720\n",
      "Epoch 31/100\n",
      "210/210 [==============================] - 4s 19ms/step - loss: 0.2113 - accuracy: 0.9530 - val_loss: 0.1815 - val_accuracy: 0.9690\n",
      "Epoch 32/100\n",
      "210/210 [==============================] - 4s 19ms/step - loss: 0.2099 - accuracy: 0.9535 - val_loss: 0.1491 - val_accuracy: 0.9783\n",
      "Epoch 33/100\n",
      "210/210 [==============================] - 4s 20ms/step - loss: 0.2062 - accuracy: 0.9551 - val_loss: 0.1538 - val_accuracy: 0.9771\n",
      "Epoch 34/100\n",
      "210/210 [==============================] - 4s 20ms/step - loss: 0.1989 - accuracy: 0.9552 - val_loss: 0.1602 - val_accuracy: 0.9732\n",
      "Epoch 35/100\n",
      "210/210 [==============================] - 4s 21ms/step - loss: 0.1991 - accuracy: 0.9555 - val_loss: 0.1574 - val_accuracy: 0.9735\n",
      "Epoch 36/100\n",
      "210/210 [==============================] - 4s 19ms/step - loss: 0.2020 - accuracy: 0.9585 - val_loss: 0.1578 - val_accuracy: 0.9741\n",
      "Epoch 37/100\n",
      "210/210 [==============================] - 5s 22ms/step - loss: 0.2063 - accuracy: 0.9525 - val_loss: 0.1506 - val_accuracy: 0.9765\n",
      "Epoch 38/100\n",
      "210/210 [==============================] - 4s 21ms/step - loss: 0.1939 - accuracy: 0.9594 - val_loss: 0.1570 - val_accuracy: 0.9786\n"
     ]
    },
    {
     "data": {
      "text/plain": [
       "<keras.callbacks.History at 0x7fa3426f6b50>"
      ]
     },
     "execution_count": 13,
     "metadata": {},
     "output_type": "execute_result"
    }
   ],
   "source": [
    "model.fit(\n",
    "    train_generator, \n",
    "    epochs=100,\n",
    "    validation_data=test_generator,\n",
    "    callbacks=callbacks\n",
    ")"
   ]
  },
  {
   "cell_type": "code",
   "execution_count": 14,
   "id": "278fb2cc",
   "metadata": {
    "execution": {
     "iopub.execute_input": "2022-08-21T03:56:23.166086Z",
     "iopub.status.busy": "2022-08-21T03:56:23.165729Z",
     "iopub.status.idle": "2022-08-21T03:56:23.565151Z",
     "shell.execute_reply": "2022-08-21T03:56:23.564207Z"
    },
    "papermill": {
     "duration": 0.550522,
     "end_time": "2022-08-21T03:56:23.567337",
     "exception": false,
     "start_time": "2022-08-21T03:56:23.016815",
     "status": "completed"
    },
    "tags": []
   },
   "outputs": [
    {
     "data": {
      "text/plain": [
       "<AxesSubplot:>"
      ]
     },
     "execution_count": 14,
     "metadata": {},
     "output_type": "execute_result"
    },
    {
     "data": {
      "image/png": "[encoded data removed]",
      "text/plain": [
       "<Figure size 432x288 with 1 Axes>"
      ]
     },
     "metadata": {
      "needs_background": "light"
     },
     "output_type": "display_data"
    },
    {
     "data": {
      "image/png": "[encoded data removed]",
      "text/plain": [
       "<Figure size 432x288 with 1 Axes>"
      ]
     },
     "metadata": {
      "needs_background": "light"
     },
     "output_type": "display_data"
    }
   ],
   "source": [
    "losses = pd.DataFrame(model.history.history)\n",
    "losses[['accuracy','val_accuracy']].plot()\n",
    "losses[['loss','val_loss']].plot()"
   ]
  },
  {
   "cell_type": "markdown",
   "id": "083a9d08",
   "metadata": {},
   "source": [
    "# Find the Accuracy of test data"
   ]
  },
  {
   "cell_type": "code",
   "execution_count": 15,
   "id": "fd7fde73",
   "metadata": {
    "execution": {
     "iopub.execute_input": "2022-08-21T03:56:23.863755Z",
     "iopub.status.busy": "2022-08-21T03:56:23.863159Z",
     "iopub.status.idle": "2022-08-21T03:56:24.121254Z",
     "shell.execute_reply": "2022-08-21T03:56:24.120276Z"
    },
    "papermill": {
     "duration": 0.407515,
     "end_time": "2022-08-21T03:56:24.123314",
     "exception": false,
     "start_time": "2022-08-21T03:56:23.715799",
     "status": "completed"
    },
    "tags": []
   },
   "outputs": [
    {
     "name": "stdout",
     "output_type": "stream",
     "text": [
      "53/53 [==============================] - 0s 4ms/step - loss: 0.1570 - accuracy: 0.9786\n"
     ]
    },
    {
     "data": {
      "text/plain": [
       "[0.15701395273208618, 0.9785714149475098]"
      ]
     },
     "execution_count": 15,
     "metadata": {},
     "output_type": "execute_result"
    }
   ],
   "source": [
    "model.evaluate(test_generator)"
   ]
  },
  {
   "cell_type": "code",
   "execution_count": 16,
   "id": "d0aa8106",
   "metadata": {
    "execution": {
     "iopub.execute_input": "2022-08-21T03:56:24.423822Z",
     "iopub.status.busy": "2022-08-21T03:56:24.423478Z",
     "iopub.status.idle": "2022-08-21T03:56:24.709809Z",
     "shell.execute_reply": "2022-08-21T03:56:24.708838Z"
    },
    "papermill": {
     "duration": 0.437543,
     "end_time": "2022-08-21T03:56:24.712479",
     "exception": false,
     "start_time": "2022-08-21T03:56:24.274936",
     "status": "completed"
    },
    "tags": []
   },
   "outputs": [
    {
     "name": "stdout",
     "output_type": "stream",
     "text": [
      "[ 5 23  3 ...  4 12 21]\n"
     ]
    }
   ],
   "source": [
    "pred = model.predict(x_test)\n",
    "pred = np.argmax(pred, axis=1)\n",
    "print(pred)"
   ]
  },
  {
   "cell_type": "code",
   "execution_count": 17,
   "id": "a1c16d88",
   "metadata": {
    "execution": {
     "iopub.execute_input": "2022-08-21T03:56:25.061270Z",
     "iopub.status.busy": "2022-08-21T03:56:25.060121Z",
     "iopub.status.idle": "2022-08-21T03:56:25.252205Z",
     "shell.execute_reply": "2022-08-21T03:56:25.251208Z"
    },
    "papermill": {
     "duration": 0.342051,
     "end_time": "2022-08-21T03:56:25.254219",
     "exception": false,
     "start_time": "2022-08-21T03:56:24.912168",
     "status": "completed"
    },
    "tags": []
   },
   "outputs": [
    {
     "data": {
      "text/plain": [
       "Text(0.5, 1.0, 'ج')"
      ]
     },
     "execution_count": 17,
     "metadata": {},
     "output_type": "execute_result"
    },
    {
     "data": {
      "image/png": "[encoded data removed]",
      "text/plain": [
       "<Figure size 432x288 with 1 Axes>"
      ]
     },
     "metadata": {
      "needs_background": "light"
     },
     "output_type": "display_data"
    }
   ],
   "source": [
    "plt.imshow(x_test[14].reshape(32,32),\"gray\")\n",
    "plt.title(arabic_chars[pred[14]])"
   ]
  },
  {
   "cell_type": "markdown",
   "id": "c20acd3b",
   "metadata": {},
   "source": [
    "# Save the model"
   ]
  },
  {
   "cell_type": "code",
   "execution_count": 18,
   "id": "64c5236c",
   "metadata": {
    "execution": {
     "iopub.execute_input": "2022-08-21T03:56:25.551077Z",
     "iopub.status.busy": "2022-08-21T03:56:25.550718Z",
     "iopub.status.idle": "2022-08-21T03:56:25.658706Z",
     "shell.execute_reply": "2022-08-21T03:56:25.657715Z"
    },
    "papermill": {
     "duration": 0.258848,
     "end_time": "2022-08-21T03:56:25.661143",
     "exception": false,
     "start_time": "2022-08-21T03:56:25.402295",
     "status": "completed"
    },
    "tags": []
   },
   "outputs": [],
   "source": [
    "model.save('arabic_alphabet_model.h5')"
   ]
  }
 ],
 "metadata": {
  "kernelspec": {
   "display_name": "Python 3",
   "language": "python",
   "name": "python3"
  },
  "language_info": {
   "codemirror_mode": {
    "name": "ipython",
    "version": 3
   },
   "file_extension": ".py",
   "mimetype": "text/x-python",
   "name": "python",
   "nbconvert_exporter": "python",
   "pygments_lexer": "ipython3",
   "version": "3.7.12"
  },
  "papermill": {
   "default_parameters": {},
   "duration": 195.668356,
   "end_time": "2022-08-21T03:56:29.287743",
   "environment_variables": {},
   "exception": null,
   "input_path": "__notebook__.ipynb",
   "output_path": "__notebook__.ipynb",
   "parameters": {},
   "start_time": "2022-08-21T03:53:13.619387",
   "version": "2.3.4"
  }
 },
 "nbformat": 4,
 "nbformat_minor": 5
}
