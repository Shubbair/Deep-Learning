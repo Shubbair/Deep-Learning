{
  "metadata": {
    "kernelspec": {
      "language": "python",
      "display_name": "Python 3",
      "name": "python3"
    },
    "language_info": {
      "name": "python",
      "version": "3.7.12",
      "mimetype": "text/x-python",
      "codemirror_mode": {
        "name": "ipython",
        "version": 3
      },
      "pygments_lexer": "ipython3",
      "nbconvert_exporter": "python",
      "file_extension": ".py"
    },
    "colab": {
      "name": "imdb-reviews-prediction.ipynb",
      "provenance": []
    },
    "accelerator": "GPU",
    "gpuClass": "standard"
  },
  "nbformat_minor": 0,
  "nbformat": 4,
  "cells": [
    {
      "cell_type": "markdown",
      "source": [
        "## Unzip The Data"
      ],
      "metadata": {
        "id": "_9r35-l2Ndv-"
      }
    },
    {
      "cell_type": "code",
      "source": [
        "!unzip 'IMDB Dataset.csv.zip'"
      ],
      "metadata": {
        "colab": {
          "base_uri": "https://localhost:8080/"
        },
        "id": "ys6Tc5PfNY1b",
        "outputId": "be2714d4-e896-457f-d260-f0e1ef5ce4bd"
      },
      "execution_count": 2,
      "outputs": [
        {
          "output_type": "stream",
          "name": "stdout",
          "text": [
            "Archive:  IMDB Dataset.csv.zip\n",
            "  inflating: IMDB Dataset.csv        \n"
          ]
        }
      ]
    },
    {
      "cell_type": "markdown",
      "source": [
        "## Import Libraries"
      ],
      "metadata": {
        "id": "ZR_cxkdaM3Lq"
      }
    },
    {
      "cell_type": "code",
      "source": [
        "import re\n",
        "import numpy as np\n",
        "import pandas as pd\n",
        "import matplotlib.pyplot as plt\n",
        "import tensorflow as tf\n",
        "from tensorflow.keras.preprocessing.text import Tokenizer\n",
        "from tensorflow.keras.preprocessing.sequence import pad_sequences"
      ],
      "metadata": {
        "execution": {
          "iopub.status.busy": "2022-08-13T12:21:34.267955Z",
          "iopub.execute_input": "2022-08-13T12:21:34.268943Z",
          "iopub.status.idle": "2022-08-13T12:21:34.275386Z",
          "shell.execute_reply.started": "2022-08-13T12:21:34.268904Z",
          "shell.execute_reply": "2022-08-13T12:21:34.273723Z"
        },
        "trusted": true,
        "id": "rvDCklgjM3L-"
      },
      "execution_count": 3,
      "outputs": []
    },
    {
      "cell_type": "code",
      "source": [
        "training_size = 30000\n",
        "vocabs_size = 10000\n",
        "embedding_dim = 16\n",
        "max_length = 200\n",
        "trunc_type = 'post'\n",
        "oov_tok = '<OOV>'"
      ],
      "metadata": {
        "execution": {
          "iopub.status.busy": "2022-08-13T12:21:34.279948Z",
          "iopub.execute_input": "2022-08-13T12:21:34.280313Z",
          "iopub.status.idle": "2022-08-13T12:21:34.294201Z",
          "shell.execute_reply.started": "2022-08-13T12:21:34.280278Z",
          "shell.execute_reply": "2022-08-13T12:21:34.293289Z"
        },
        "trusted": true,
        "id": "0Yq4ZpqKM3MJ"
      },
      "execution_count": 4,
      "outputs": []
    },
    {
      "cell_type": "markdown",
      "source": [
        "## Load the dataset of IMDB of 50K Reviews"
      ],
      "metadata": {
        "id": "fxKdFg-TM3ML"
      }
    },
    {
      "cell_type": "code",
      "source": [
        "imdb_dataset = pd.read_csv('IMDB Dataset.csv')\n",
        "imdb_dataset.head(5)"
      ],
      "metadata": {
        "execution": {
          "iopub.status.busy": "2022-08-13T12:21:34.297204Z",
          "iopub.execute_input": "2022-08-13T12:21:34.297610Z",
          "iopub.status.idle": "2022-08-13T12:21:35.776215Z",
          "shell.execute_reply.started": "2022-08-13T12:21:34.297525Z",
          "shell.execute_reply": "2022-08-13T12:21:35.775296Z"
        },
        "trusted": true,
        "colab": {
          "base_uri": "https://localhost:8080/",
          "height": 206
        },
        "id": "AsgDvXUEM3MM",
        "outputId": "e2cb363c-3160-45ce-aa5c-ceea190974d7"
      },
      "execution_count": 6,
      "outputs": [
        {
          "output_type": "execute_result",
          "data": {
            "text/plain": [
              "                                              review sentiment\n",
              "0  One of the other reviewers has mentioned that ...  positive\n",
              "1  A wonderful little production. <br /><br />The...  positive\n",
              "2  I thought this was a wonderful way to spend ti...  positive\n",
              "3  Basically there's a family where a little boy ...  negative\n",
              "4  Petter Mattei's \"Love in the Time of Money\" is...  positive"
            ],
            "text/html": [
              "\n",
              "  <div id=\"df-cd4420c2-a946-4b7b-b9b8-628842c1458e\">\n",
              "    <div class=\"colab-df-container\">\n",
              "      <div>\n",
              "<style scoped>\n",
              "    .dataframe tbody tr th:only-of-type {\n",
              "        vertical-align: middle;\n",
              "    }\n",
              "\n",
              "    .dataframe tbody tr th {\n",
              "        vertical-align: top;\n",
              "    }\n",
              "\n",
              "    .dataframe thead th {\n",
              "        text-align: right;\n",
              "    }\n",
              "</style>\n",
              "<table border=\"1\" class=\"dataframe\">\n",
              "  <thead>\n",
              "    <tr style=\"text-align: right;\">\n",
              "      <th></th>\n",
              "      <th>review</th>\n",
              "      <th>sentiment</th>\n",
              "    </tr>\n",
              "  </thead>\n",
              "  <tbody>\n",
              "    <tr>\n",
              "      <th>0</th>\n",
              "      <td>One of the other reviewers has mentioned that ...</td>\n",
              "      <td>positive</td>\n",
              "    </tr>\n",
              "    <tr>\n",
              "      <th>1</th>\n",
              "      <td>A wonderful little production. &lt;br /&gt;&lt;br /&gt;The...</td>\n",
              "      <td>positive</td>\n",
              "    </tr>\n",
              "    <tr>\n",
              "      <th>2</th>\n",
              "      <td>I thought this was a wonderful way to spend ti...</td>\n",
              "      <td>positive</td>\n",
              "    </tr>\n",
              "    <tr>\n",
              "      <th>3</th>\n",
              "      <td>Basically there's a family where a little boy ...</td>\n",
              "      <td>negative</td>\n",
              "    </tr>\n",
              "    <tr>\n",
              "      <th>4</th>\n",
              "      <td>Petter Mattei's \"Love in the Time of Money\" is...</td>\n",
              "      <td>positive</td>\n",
              "    </tr>\n",
              "  </tbody>\n",
              "</table>\n",
              "</div>\n",
              "      <button class=\"colab-df-convert\" onclick=\"convertToInteractive('df-cd4420c2-a946-4b7b-b9b8-628842c1458e')\"\n",
              "              title=\"Convert this dataframe to an interactive table.\"\n",
              "              style=\"display:none;\">\n",
              "        \n",
              "  <svg xmlns=\"http://www.w3.org/2000/svg\" height=\"24px\"viewBox=\"0 0 24 24\"\n",
              "       width=\"24px\">\n",
              "    <path d=\"M0 0h24v24H0V0z\" fill=\"none\"/>\n",
              "    <path d=\"M18.56 5.44l.94 2.06.94-2.06 2.06-.94-2.06-.94-.94-2.06-.94 2.06-2.06.94zm-11 1L8.5 8.5l.94-2.06 2.06-.94-2.06-.94L8.5 2.5l-.94 2.06-2.06.94zm10 10l.94 2.06.94-2.06 2.06-.94-2.06-.94-.94-2.06-.94 2.06-2.06.94z\"/><path d=\"M17.41 7.96l-1.37-1.37c-.4-.4-.92-.59-1.43-.59-.52 0-1.04.2-1.43.59L10.3 9.45l-7.72 7.72c-.78.78-.78 2.05 0 2.83L4 21.41c.39.39.9.59 1.41.59.51 0 1.02-.2 1.41-.59l7.78-7.78 2.81-2.81c.8-.78.8-2.07 0-2.86zM5.41 20L4 18.59l7.72-7.72 1.47 1.35L5.41 20z\"/>\n",
              "  </svg>\n",
              "      </button>\n",
              "      \n",
              "  <style>\n",
              "    .colab-df-container {\n",
              "      display:flex;\n",
              "      flex-wrap:wrap;\n",
              "      gap: 12px;\n",
              "    }\n",
              "\n",
              "    .colab-df-convert {\n",
              "      background-color: #E8F0FE;\n",
              "      border: none;\n",
              "      border-radius: 50%;\n",
              "      cursor: pointer;\n",
              "      display: none;\n",
              "      fill: #1967D2;\n",
              "      height: 32px;\n",
              "      padding: 0 0 0 0;\n",
              "      width: 32px;\n",
              "    }\n",
              "\n",
              "    .colab-df-convert:hover {\n",
              "      background-color: #E2EBFA;\n",
              "      box-shadow: 0px 1px 2px rgba(60, 64, 67, 0.3), 0px 1px 3px 1px rgba(60, 64, 67, 0.15);\n",
              "      fill: #174EA6;\n",
              "    }\n",
              "\n",
              "    [theme=dark] .colab-df-convert {\n",
              "      background-color: #3B4455;\n",
              "      fill: #D2E3FC;\n",
              "    }\n",
              "\n",
              "    [theme=dark] .colab-df-convert:hover {\n",
              "      background-color: #434B5C;\n",
              "      box-shadow: 0px 1px 3px 1px rgba(0, 0, 0, 0.15);\n",
              "      filter: drop-shadow(0px 1px 2px rgba(0, 0, 0, 0.3));\n",
              "      fill: #FFFFFF;\n",
              "    }\n",
              "  </style>\n",
              "\n",
              "      <script>\n",
              "        const buttonEl =\n",
              "          document.querySelector('#df-cd4420c2-a946-4b7b-b9b8-628842c1458e button.colab-df-convert');\n",
              "        buttonEl.style.display =\n",
              "          google.colab.kernel.accessAllowed ? 'block' : 'none';\n",
              "\n",
              "        async function convertToInteractive(key) {\n",
              "          const element = document.querySelector('#df-cd4420c2-a946-4b7b-b9b8-628842c1458e');\n",
              "          const dataTable =\n",
              "            await google.colab.kernel.invokeFunction('convertToInteractive',\n",
              "                                                     [key], {});\n",
              "          if (!dataTable) return;\n",
              "\n",
              "          const docLinkHtml = 'Like what you see? Visit the ' +\n",
              "            '<a target=\"_blank\" href=https://colab.research.google.com/notebooks/data_table.ipynb>data table notebook</a>'\n",
              "            + ' to learn more about interactive tables.';\n",
              "          element.innerHTML = '';\n",
              "          dataTable['output_type'] = 'display_data';\n",
              "          await google.colab.output.renderOutput(dataTable, element);\n",
              "          const docLink = document.createElement('div');\n",
              "          docLink.innerHTML = docLinkHtml;\n",
              "          element.appendChild(docLink);\n",
              "        }\n",
              "      </script>\n",
              "    </div>\n",
              "  </div>\n",
              "  "
            ]
          },
          "metadata": {},
          "execution_count": 6
        }
      ]
    },
    {
      "cell_type": "markdown",
      "source": [
        "## Cleaning Text"
      ],
      "metadata": {
        "id": "K3YvcQ5zM3MY"
      }
    },
    {
      "cell_type": "code",
      "source": [
        "def clean_text(text):\n",
        "    \"\"\"Make text lowercase, remove text in square brackets,remove links,remove punctuation\n",
        "    and remove words containing numbers.\"\"\"\n",
        "    text = text.lower()\n",
        "    text = re.sub(\"-\", \" \", text)\n",
        "    text = re.sub('\"', \" \", text)\n",
        "    text = re.sub(\"\\[.*?\\]\", \"\", text)\n",
        "    text = re.sub(\"https?://\\S+|www\\.\\S+\", \"\", text)\n",
        "    text = re.sub(\"<.*?>+\", \"\", text)\n",
        "    text = re.sub(\"\\n\", \"\", text)\n",
        "    text = re.sub(\"\\w*\\d\\w*\", \"\", text)\n",
        "    text = \" \".join(filter(lambda x: x[0] != \"@\", text.split()))\n",
        "    return text\n",
        "\n",
        "\n",
        "imdb_dataset[\"review\"] = imdb_dataset.review.apply(clean_text)\n",
        "imdb_dataset[\"review\"]"
      ],
      "metadata": {
        "execution": {
          "iopub.status.busy": "2022-08-13T12:21:35.777567Z",
          "iopub.execute_input": "2022-08-13T12:21:35.778002Z",
          "iopub.status.idle": "2022-08-13T12:21:44.769059Z",
          "shell.execute_reply.started": "2022-08-13T12:21:35.777967Z",
          "shell.execute_reply": "2022-08-13T12:21:44.767872Z"
        },
        "trusted": true,
        "colab": {
          "base_uri": "https://localhost:8080/"
        },
        "id": "NL5O66GUM3MY",
        "outputId": "f3226875-48e0-4b15-e1d1-824cde8d7d7e"
      },
      "execution_count": 7,
      "outputs": [
        {
          "output_type": "execute_result",
          "data": {
            "text/plain": [
              "0        one of the other reviewers has mentioned that ...\n",
              "1        a wonderful little production. the filming tec...\n",
              "2        i thought this was a wonderful way to spend ti...\n",
              "3        basically there's a family where a little boy ...\n",
              "4        petter mattei's love in the time of money is a...\n",
              "                               ...                        \n",
              "49995    i thought this movie did a down right good job...\n",
              "49996    bad plot, bad dialogue, bad acting, idiotic di...\n",
              "49997    i am a catholic taught in parochial elementary...\n",
              "49998    i'm going to have to disagree with the previou...\n",
              "49999    no one expects the star trek movies to be high...\n",
              "Name: review, Length: 50000, dtype: object"
            ]
          },
          "metadata": {},
          "execution_count": 7
        }
      ]
    },
    {
      "cell_type": "code",
      "source": [
        "imdb_dataset[\"sentiment\"] = imdb_dataset[\"sentiment\"].map({ 'negative' : 0, 'positive' : 1})"
      ],
      "metadata": {
        "execution": {
          "iopub.status.busy": "2022-08-13T12:21:44.770569Z",
          "iopub.execute_input": "2022-08-13T12:21:44.771063Z",
          "iopub.status.idle": "2022-08-13T12:21:44.785091Z",
          "shell.execute_reply.started": "2022-08-13T12:21:44.771024Z",
          "shell.execute_reply": "2022-08-13T12:21:44.784113Z"
        },
        "trusted": true,
        "id": "Hu5eSXTeM3Mh"
      },
      "execution_count": 8,
      "outputs": []
    },
    {
      "cell_type": "markdown",
      "source": [
        "## Split Data into Train,Test"
      ],
      "metadata": {
        "id": "WbDRQKFxM3Mm"
      }
    },
    {
      "cell_type": "code",
      "source": [
        "training_data = imdb_dataset['review'][:training_size]\n",
        "training_labels = imdb_dataset['sentiment'][:training_size]\n",
        "\n",
        "validation_data = imdb_dataset['review'][training_size:]\n",
        "validation_labels = imdb_dataset['sentiment'][training_size:]"
      ],
      "metadata": {
        "execution": {
          "iopub.status.busy": "2022-08-13T12:21:44.786795Z",
          "iopub.execute_input": "2022-08-13T12:21:44.787396Z",
          "iopub.status.idle": "2022-08-13T12:21:44.793981Z",
          "shell.execute_reply.started": "2022-08-13T12:21:44.787360Z",
          "shell.execute_reply": "2022-08-13T12:21:44.792947Z"
        },
        "trusted": true,
        "id": "k3tyi_eJM3Mo"
      },
      "execution_count": 9,
      "outputs": []
    },
    {
      "cell_type": "markdown",
      "source": [
        "## Build The Tokenizer"
      ],
      "metadata": {
        "id": "_BJCaaYkM3Mq"
      }
    },
    {
      "cell_type": "code",
      "source": [
        "tokenizer = Tokenizer(oov_token=oov_tok)\n",
        "tokenizer.fit_on_texts(training_data)\n",
        "\n",
        "sequences = tokenizer.texts_to_sequences(training_data)\n",
        "padded = pad_sequences(sequences,maxlen=max_length,truncating=trunc_type)"
      ],
      "metadata": {
        "execution": {
          "iopub.status.busy": "2022-08-13T12:21:44.795371Z",
          "iopub.execute_input": "2022-08-13T12:21:44.796181Z",
          "iopub.status.idle": "2022-08-13T12:21:54.569928Z",
          "shell.execute_reply.started": "2022-08-13T12:21:44.796147Z",
          "shell.execute_reply": "2022-08-13T12:21:54.568912Z"
        },
        "trusted": true,
        "id": "bY77Vm1GM3Mr"
      },
      "execution_count": 10,
      "outputs": []
    },
    {
      "cell_type": "code",
      "source": [
        "training_pad = np.array(padded)\n",
        "training_labels = np.array(training_labels)\n",
        "\n",
        "validation_pad = np.array(padded)\n",
        "validation_labels = np.array(training_labels)"
      ],
      "metadata": {
        "execution": {
          "iopub.status.busy": "2022-08-13T12:21:54.571162Z",
          "iopub.execute_input": "2022-08-13T12:21:54.571520Z",
          "iopub.status.idle": "2022-08-13T12:21:54.598171Z",
          "shell.execute_reply.started": "2022-08-13T12:21:54.571484Z",
          "shell.execute_reply": "2022-08-13T12:21:54.597297Z"
        },
        "trusted": true,
        "id": "iaGTmWgbM3Ms"
      },
      "execution_count": 11,
      "outputs": []
    },
    {
      "cell_type": "markdown",
      "source": [
        "## Build The Model"
      ],
      "metadata": {
        "id": "n83E0BgOM3Mu"
      }
    },
    {
      "cell_type": "code",
      "source": [
        "model = tf.keras.Sequential([\n",
        "    tf.keras.layers.Embedding(vocabs_size,embedding_dim,input_length=max_length),\n",
        "    tf.keras.layers.GlobalAveragePooling1D(),\n",
        "    tf.keras.layers.Dense(16,activation='relu'),\n",
        "    tf.keras.layers.Dense(1,activation='sigmoid')\n",
        "])\n",
        "\n",
        "model.compile(\n",
        "    loss='binary_crossentropy',\n",
        "    optimizer='adam',\n",
        "    metrics=['accuracy']\n",
        ")\n",
        "\n",
        "model.summary()"
      ],
      "metadata": {
        "execution": {
          "iopub.status.busy": "2022-08-13T12:21:54.602289Z",
          "iopub.execute_input": "2022-08-13T12:21:54.602654Z",
          "iopub.status.idle": "2022-08-13T12:21:57.440206Z",
          "shell.execute_reply.started": "2022-08-13T12:21:54.602624Z",
          "shell.execute_reply": "2022-08-13T12:21:57.439240Z"
        },
        "trusted": true,
        "colab": {
          "base_uri": "https://localhost:8080/"
        },
        "id": "zHJwwrNLM3Mu",
        "outputId": "ebce4e5f-66f7-4fdd-deac-02cee08641cf"
      },
      "execution_count": 12,
      "outputs": [
        {
          "output_type": "stream",
          "name": "stdout",
          "text": [
            "Model: \"sequential\"\n",
            "_________________________________________________________________\n",
            " Layer (type)                Output Shape              Param #   \n",
            "=================================================================\n",
            " embedding (Embedding)       (None, 200, 16)           160000    \n",
            "                                                                 \n",
            " global_average_pooling1d (G  (None, 16)               0         \n",
            " lobalAveragePooling1D)                                          \n",
            "                                                                 \n",
            " dense (Dense)               (None, 16)                272       \n",
            "                                                                 \n",
            " dense_1 (Dense)             (None, 1)                 17        \n",
            "                                                                 \n",
            "=================================================================\n",
            "Total params: 160,289\n",
            "Trainable params: 160,289\n",
            "Non-trainable params: 0\n",
            "_________________________________________________________________\n"
          ]
        }
      ]
    },
    {
      "cell_type": "code",
      "source": [
        "history = model.fit(\n",
        "    training_pad,training_labels,\n",
        "    validation_data=(validation_pad,validation_labels),\n",
        "    epochs=10,\n",
        "    verbose=2\n",
        ")"
      ],
      "metadata": {
        "execution": {
          "iopub.status.busy": "2022-08-13T12:21:57.441991Z",
          "iopub.execute_input": "2022-08-13T12:21:57.442747Z",
          "iopub.status.idle": "2022-08-13T12:22:39.007368Z",
          "shell.execute_reply.started": "2022-08-13T12:21:57.442709Z",
          "shell.execute_reply": "2022-08-13T12:22:39.006320Z"
        },
        "trusted": true,
        "colab": {
          "base_uri": "https://localhost:8080/"
        },
        "id": "mccUKp7EM3Mv",
        "outputId": "51c285fa-f76a-4bdd-efdd-b7fa500eaa64"
      },
      "execution_count": 13,
      "outputs": [
        {
          "output_type": "stream",
          "name": "stdout",
          "text": [
            "Epoch 1/10\n",
            "938/938 - 8s - loss: 0.4838 - accuracy: 0.7813 - val_loss: 0.2972 - val_accuracy: 0.8848 - 8s/epoch - 9ms/step\n",
            "Epoch 2/10\n",
            "938/938 - 4s - loss: 0.2757 - accuracy: 0.8917 - val_loss: 0.2251 - val_accuracy: 0.9160 - 4s/epoch - 5ms/step\n",
            "Epoch 3/10\n",
            "938/938 - 4s - loss: 0.2292 - accuracy: 0.9115 - val_loss: 0.1937 - val_accuracy: 0.9303 - 4s/epoch - 5ms/step\n",
            "Epoch 4/10\n",
            "938/938 - 4s - loss: 0.2005 - accuracy: 0.9247 - val_loss: 0.1671 - val_accuracy: 0.9429 - 4s/epoch - 5ms/step\n",
            "Epoch 5/10\n",
            "938/938 - 4s - loss: 0.1797 - accuracy: 0.9337 - val_loss: 0.1568 - val_accuracy: 0.9459 - 4s/epoch - 5ms/step\n",
            "Epoch 6/10\n",
            "938/938 - 4s - loss: 0.1632 - accuracy: 0.9416 - val_loss: 0.1320 - val_accuracy: 0.9571 - 4s/epoch - 5ms/step\n",
            "Epoch 7/10\n",
            "938/938 - 5s - loss: 0.1487 - accuracy: 0.9464 - val_loss: 0.1229 - val_accuracy: 0.9601 - 5s/epoch - 6ms/step\n",
            "Epoch 8/10\n",
            "938/938 - 4s - loss: 0.1372 - accuracy: 0.9509 - val_loss: 0.1065 - val_accuracy: 0.9680 - 4s/epoch - 5ms/step\n",
            "Epoch 9/10\n",
            "938/938 - 4s - loss: 0.1254 - accuracy: 0.9563 - val_loss: 0.0967 - val_accuracy: 0.9730 - 4s/epoch - 5ms/step\n",
            "Epoch 10/10\n",
            "938/938 - 5s - loss: 0.1157 - accuracy: 0.9604 - val_loss: 0.1044 - val_accuracy: 0.9662 - 5s/epoch - 6ms/step\n"
          ]
        }
      ]
    },
    {
      "cell_type": "code",
      "source": [
        "plt.plot(history.history['loss'],color='red')\n",
        "plt.plot(history.history['val_loss'],color='blue')\n",
        "plt.title('Model Loss')\n",
        "plt.show()"
      ],
      "metadata": {
        "execution": {
          "iopub.status.busy": "2022-08-13T12:23:14.177474Z",
          "iopub.execute_input": "2022-08-13T12:23:14.177918Z",
          "iopub.status.idle": "2022-08-13T12:23:14.362527Z",
          "shell.execute_reply.started": "2022-08-13T12:23:14.177887Z",
          "shell.execute_reply": "2022-08-13T12:23:14.361431Z"
        },
        "trusted": true,
        "colab": {
          "base_uri": "https://localhost:8080/",
          "height": 281
        },
        "id": "1XcI6DLjM3Mw",
        "outputId": "83666da7-a579-4382-8cff-34132c4eb7ac"
      },
      "execution_count": 14,
      "outputs": [
        {
          "output_type": "display_data",
          "data": {
            "text/plain": [
              "<Figure size 432x288 with 1 Axes>"
            ],
            "image/png": "[encoded data removed]"
          },
          "metadata": {
            "needs_background": "light"
          }
        }
      ]
    },
    {
      "cell_type": "code",
      "source": [
        "plt.plot(history.history['accuracy'],color='green')\n",
        "plt.plot(history.history['val_accuracy'],color='blue')\n",
        "plt.title('Model Accuracy')\n",
        "plt.show()"
      ],
      "metadata": {
        "execution": {
          "iopub.status.busy": "2022-08-13T12:23:16.796264Z",
          "iopub.execute_input": "2022-08-13T12:23:16.796653Z",
          "iopub.status.idle": "2022-08-13T12:23:16.988566Z",
          "shell.execute_reply.started": "2022-08-13T12:23:16.796618Z",
          "shell.execute_reply": "2022-08-13T12:23:16.987483Z"
        },
        "trusted": true,
        "colab": {
          "base_uri": "https://localhost:8080/",
          "height": 281
        },
        "id": "eB3DaLQ5M3Mx",
        "outputId": "9ac33af0-51c8-41e1-978c-161bf77775e5"
      },
      "execution_count": 15,
      "outputs": [
        {
          "output_type": "display_data",
          "data": {
            "text/plain": [
              "<Figure size 432x288 with 1 Axes>"
            ],
            "image/png": "[encoded data removed]"
          },
          "metadata": {
            "needs_background": "light"
          }
        }
      ]
    },
    {
      "cell_type": "markdown",
      "source": [
        "## Test The Model"
      ],
      "metadata": {
        "id": "OV1IM7rfM3Mx"
      }
    },
    {
      "cell_type": "code",
      "source": [
        "test_review = ['I love the film and ther characters are amazing , it\\'s not bad with great ideas',]\n",
        "\n",
        "tokenizer = Tokenizer(oov_token=oov_tok)\n",
        "tokenizer.fit_on_texts(test_review)\n",
        "\n",
        "sequence = tokenizer.texts_to_sequences(test_review)\n",
        "\n",
        "test_padded = pad_sequences(sequence)\n",
        "\n",
        "predictions = model.predict(test_padded)\n",
        "\n",
        "print('Positive') if predictions > 0.5 else print('Negative')"
      ],
      "metadata": {
        "execution": {
          "iopub.status.busy": "2022-08-13T12:31:12.477143Z",
          "iopub.execute_input": "2022-08-13T12:31:12.477672Z",
          "iopub.status.idle": "2022-08-13T12:31:12.524383Z",
          "shell.execute_reply.started": "2022-08-13T12:31:12.477636Z",
          "shell.execute_reply": "2022-08-13T12:31:12.523491Z"
        },
        "trusted": true,
        "colab": {
          "base_uri": "https://localhost:8080/"
        },
        "id": "EXKt6mnUM3My",
        "outputId": "a1d717ce-7cce-45b9-85dc-bf3ea7b7f2cc"
      },
      "execution_count": 31,
      "outputs": [
        {
          "output_type": "stream",
          "name": "stdout",
          "text": [
            "Positive\n"
          ]
        }
      ]
    }
  ]
}