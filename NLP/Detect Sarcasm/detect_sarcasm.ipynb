{
  "cells": [
    {
      "cell_type": "code",
      "execution_count": 133,
      "id": "huc4fUwaEpNC",
      "metadata": {
        "colab": {
          "base_uri": "https://localhost:8080/"
        },
        "id": "huc4fUwaEpNC",
        "outputId": "6a817c91-08cb-498d-f351-490db1f0566b"
      },
      "outputs": [
        {
          "name": "stdout",
          "output_type": "stream",
          "text": [
            "Archive:  /content/Sarcasm_Headlines_Dataset.json.zip\n",
            "replace Sarcasm/Sarcasm_Headlines_Dataset.json? [y]es, [n]o, [A]ll, [N]one, [r]ename: y\n",
            "  inflating: Sarcasm/Sarcasm_Headlines_Dataset.json  \n"
          ]
        }
      ],
      "source": [
        "!unzip 'Sarcasm_Headlines_Dataset.json.zip' -d Sarcasm"
      ]
    },
    {
      "cell_type": "markdown",
      "id": "ad6bc422",
      "metadata": {
        "id": "ad6bc422",
        "papermill": {
          "duration": 0.00759,
          "end_time": "2022-07-26T22:17:15.859372",
          "exception": false,
          "start_time": "2022-07-26T22:17:15.851782",
          "status": "completed"
        },
        "tags": []
      },
      "source": [
        "## Import Libraries"
      ]
    },
    {
      "cell_type": "code",
      "execution_count": 134,
      "id": "36cc130c",
      "metadata": {
        "execution": {
          "iopub.execute_input": "2022-07-26T22:17:15.873889Z",
          "iopub.status.busy": "2022-07-26T22:17:15.873289Z",
          "iopub.status.idle": "2022-07-26T22:17:21.772067Z",
          "shell.execute_reply": "2022-07-26T22:17:21.770860Z"
        },
        "id": "36cc130c",
        "papermill": {
          "duration": 5.90989,
          "end_time": "2022-07-26T22:17:21.775365",
          "exception": false,
          "start_time": "2022-07-26T22:17:15.865475",
          "status": "completed"
        },
        "tags": []
      },
      "outputs": [],
      "source": [
        "import json\n",
        "import numpy as np\n",
        "import matplotlib.pyplot as plt\n",
        "import tensorflow as tf\n",
        "from tensorflow import keras\n",
        "from keras.preprocessing.text import Tokenizer\n",
        "from keras.preprocessing.sequence import pad_sequences"
      ]
    },
    {
      "cell_type": "code",
      "execution_count": 135,
      "id": "9e9eb28c",
      "metadata": {
        "execution": {
          "iopub.execute_input": "2022-07-26T22:17:21.790077Z",
          "iopub.status.busy": "2022-07-26T22:17:21.789496Z",
          "iopub.status.idle": "2022-07-26T22:17:21.795603Z",
          "shell.execute_reply": "2022-07-26T22:17:21.794366Z"
        },
        "id": "9e9eb28c",
        "papermill": {
          "duration": 0.015993,
          "end_time": "2022-07-26T22:17:21.797943",
          "exception": false,
          "start_time": "2022-07-26T22:17:21.781950",
          "status": "completed"
        },
        "tags": []
      },
      "outputs": [],
      "source": [
        "vocab_size = 10000\n",
        "embedding_dim = 8\n",
        "max_length = 100\n",
        "trunc_type='post'\n",
        "padding_type='post'\n",
        "oov_tok = \"<OOV>\"\n",
        "training_size = 20000"
      ]
    },
    {
      "cell_type": "markdown",
      "id": "d5ea4319",
      "metadata": {
        "id": "d5ea4319",
        "papermill": {
          "duration": 0.00558,
          "end_time": "2022-07-26T22:17:21.809174",
          "exception": false,
          "start_time": "2022-07-26T22:17:21.803594",
          "status": "completed"
        },
        "tags": []
      },
      "source": [
        "## Load the dataset and process it"
      ]
    },
    {
      "cell_type": "code",
      "execution_count": 136,
      "id": "9e7e9498",
      "metadata": {
        "execution": {
          "iopub.execute_input": "2022-07-26T22:17:21.822795Z",
          "iopub.status.busy": "2022-07-26T22:17:21.822464Z",
          "iopub.status.idle": "2022-07-26T22:17:22.030060Z",
          "shell.execute_reply": "2022-07-26T22:17:22.028706Z"
        },
        "id": "9e7e9498",
        "papermill": {
          "duration": 0.218236,
          "end_time": "2022-07-26T22:17:22.033310",
          "exception": false,
          "start_time": "2022-07-26T22:17:21.815074",
          "status": "completed"
        },
        "tags": []
      },
      "outputs": [],
      "source": [
        "dataset = []\n",
        "for file in open('Sarcasm/Sarcasm_Headlines_Dataset.json','r'):\n",
        "    dataset.append(json.loads(file))"
      ]
    },
    {
      "cell_type": "markdown",
      "id": "2ab4ecd4",
      "metadata": {
        "id": "2ab4ecd4",
        "papermill": {
          "duration": 0.005761,
          "end_time": "2022-07-26T22:17:22.045652",
          "exception": false,
          "start_time": "2022-07-26T22:17:22.039891",
          "status": "completed"
        },
        "tags": []
      },
      "source": [
        "#### to display first 5 element from the given data"
      ]
    },
    {
      "cell_type": "code",
      "execution_count": 137,
      "id": "1e4824e4",
      "metadata": {
        "execution": {
          "iopub.execute_input": "2022-07-26T22:17:22.059185Z",
          "iopub.status.busy": "2022-07-26T22:17:22.058817Z",
          "iopub.status.idle": "2022-07-26T22:17:22.064338Z",
          "shell.execute_reply": "2022-07-26T22:17:22.062950Z"
        },
        "id": "1e4824e4",
        "papermill": {
          "duration": 0.015294,
          "end_time": "2022-07-26T22:17:22.067002",
          "exception": false,
          "start_time": "2022-07-26T22:17:22.051708",
          "status": "completed"
        },
        "tags": []
      },
      "outputs": [],
      "source": [
        "def head(data):\n",
        "    return data[0:5]"
      ]
    },
    {
      "cell_type": "code",
      "execution_count": 138,
      "id": "bb968e8f",
      "metadata": {
        "colab": {
          "base_uri": "https://localhost:8080/"
        },
        "execution": {
          "iopub.execute_input": "2022-07-26T22:17:22.080296Z",
          "iopub.status.busy": "2022-07-26T22:17:22.079946Z",
          "iopub.status.idle": "2022-07-26T22:17:22.090582Z",
          "shell.execute_reply": "2022-07-26T22:17:22.089316Z"
        },
        "id": "bb968e8f",
        "outputId": "afcd3860-10e0-4290-f853-6561cf3d948f",
        "papermill": {
          "duration": 0.020562,
          "end_time": "2022-07-26T22:17:22.093637",
          "exception": false,
          "start_time": "2022-07-26T22:17:22.073075",
          "status": "completed"
        },
        "tags": []
      },
      "outputs": [
        {
          "data": {
            "text/plain": [
              "[{'article_link': 'https://www.huffingtonpost.com/entry/versace-black-code_us_5861fbefe4b0de3a08f600d5',\n",
              "  'headline': \"former versace store clerk sues over secret 'black code' for minority shoppers\",\n",
              "  'is_sarcastic': 0},\n",
              " {'article_link': 'https://www.huffingtonpost.com/entry/roseanne-revival-review_us_5ab3a497e4b054d118e04365',\n",
              "  'headline': \"the 'roseanne' revival catches up to our thorny political mood, for better and worse\",\n",
              "  'is_sarcastic': 0},\n",
              " {'article_link': 'https://local.theonion.com/mom-starting-to-fear-son-s-web-series-closest-thing-she-1819576697',\n",
              "  'headline': \"mom starting to fear son's web series closest thing she will have to grandchild\",\n",
              "  'is_sarcastic': 1},\n",
              " {'article_link': 'https://politics.theonion.com/boehner-just-wants-wife-to-listen-not-come-up-with-alt-1819574302',\n",
              "  'headline': 'boehner just wants wife to listen, not come up with alternative debt-reduction ideas',\n",
              "  'is_sarcastic': 1},\n",
              " {'article_link': 'https://www.huffingtonpost.com/entry/jk-rowling-wishes-snape-happy-birthday_us_569117c4e4b0cad15e64fdcb',\n",
              "  'headline': 'j.k. rowling wishes snape happy birthday in the most magical way',\n",
              "  'is_sarcastic': 0}]"
            ]
          },
          "execution_count": 138,
          "metadata": {},
          "output_type": "execute_result"
        }
      ],
      "source": [
        "head(dataset)"
      ]
    },
    {
      "cell_type": "code",
      "execution_count": 139,
      "id": "ed568c30",
      "metadata": {
        "execution": {
          "iopub.execute_input": "2022-07-26T22:17:22.107405Z",
          "iopub.status.busy": "2022-07-26T22:17:22.106773Z",
          "iopub.status.idle": "2022-07-26T22:17:22.129084Z",
          "shell.execute_reply": "2022-07-26T22:17:22.127686Z"
        },
        "id": "ed568c30",
        "papermill": {
          "duration": 0.032119,
          "end_time": "2022-07-26T22:17:22.131876",
          "exception": false,
          "start_time": "2022-07-26T22:17:22.099757",
          "status": "completed"
        },
        "tags": []
      },
      "outputs": [],
      "source": [
        "sentences = []\n",
        "labels = []\n",
        "urls = []\n",
        "for data in dataset : \n",
        "    sentences.append(data['headline'])\n",
        "    labels.append(data['is_sarcastic'])\n",
        "    urls.append(data['article_link'])"
      ]
    },
    {
      "cell_type": "code",
      "execution_count": 140,
      "id": "d8496cc4",
      "metadata": {
        "colab": {
          "base_uri": "https://localhost:8080/"
        },
        "execution": {
          "iopub.execute_input": "2022-07-26T22:17:22.145665Z",
          "iopub.status.busy": "2022-07-26T22:17:22.144693Z",
          "iopub.status.idle": "2022-07-26T22:17:22.153386Z",
          "shell.execute_reply": "2022-07-26T22:17:22.152102Z"
        },
        "id": "d8496cc4",
        "outputId": "8b2722f0-4ea7-4843-8933-ae28ece42b70",
        "papermill": {
          "duration": 0.018133,
          "end_time": "2022-07-26T22:17:22.155907",
          "exception": false,
          "start_time": "2022-07-26T22:17:22.137774",
          "status": "completed"
        },
        "tags": []
      },
      "outputs": [
        {
          "data": {
            "text/plain": [
              "([\"former versace store clerk sues over secret 'black code' for minority shoppers\",\n",
              "  \"the 'roseanne' revival catches up to our thorny political mood, for better and worse\",\n",
              "  \"mom starting to fear son's web series closest thing she will have to grandchild\",\n",
              "  'boehner just wants wife to listen, not come up with alternative debt-reduction ideas',\n",
              "  'j.k. rowling wishes snape happy birthday in the most magical way'],\n",
              " [0, 0, 1, 1, 0],\n",
              " ['https://www.huffingtonpost.com/entry/versace-black-code_us_5861fbefe4b0de3a08f600d5',\n",
              "  'https://www.huffingtonpost.com/entry/roseanne-revival-review_us_5ab3a497e4b054d118e04365',\n",
              "  'https://local.theonion.com/mom-starting-to-fear-son-s-web-series-closest-thing-she-1819576697',\n",
              "  'https://politics.theonion.com/boehner-just-wants-wife-to-listen-not-come-up-with-alt-1819574302',\n",
              "  'https://www.huffingtonpost.com/entry/jk-rowling-wishes-snape-happy-birthday_us_569117c4e4b0cad15e64fdcb'])"
            ]
          },
          "execution_count": 140,
          "metadata": {},
          "output_type": "execute_result"
        }
      ],
      "source": [
        "head(sentences),head(labels),head(urls)"
      ]
    },
    {
      "cell_type": "markdown",
      "id": "921e2818",
      "metadata": {
        "id": "921e2818",
        "papermill": {
          "duration": 0.005817,
          "end_time": "2022-07-26T22:17:22.167923",
          "exception": false,
          "start_time": "2022-07-26T22:17:22.162106",
          "status": "completed"
        },
        "tags": []
      },
      "source": [
        "## Split the Data train, test"
      ]
    },
    {
      "cell_type": "code",
      "execution_count": 141,
      "id": "164141d3",
      "metadata": {
        "colab": {
          "base_uri": "https://localhost:8080/"
        },
        "execution": {
          "iopub.execute_input": "2022-07-26T22:17:22.182866Z",
          "iopub.status.busy": "2022-07-26T22:17:22.181834Z",
          "iopub.status.idle": "2022-07-26T22:17:22.189894Z",
          "shell.execute_reply": "2022-07-26T22:17:22.188523Z"
        },
        "id": "164141d3",
        "outputId": "d0cf7a0f-214c-4160-d155-9a25fae4397f",
        "papermill": {
          "duration": 0.017908,
          "end_time": "2022-07-26T22:17:22.192379",
          "exception": false,
          "start_time": "2022-07-26T22:17:22.174471",
          "status": "completed"
        },
        "tags": []
      },
      "outputs": [
        {
          "data": {
            "text/plain": [
              "26709"
            ]
          },
          "execution_count": 141,
          "metadata": {},
          "output_type": "execute_result"
        }
      ],
      "source": [
        "len(sentences)"
      ]
    },
    {
      "cell_type": "markdown",
      "id": "3d23aff1",
      "metadata": {
        "id": "3d23aff1",
        "papermill": {
          "duration": 0.005898,
          "end_time": "2022-07-26T22:17:22.204955",
          "exception": false,
          "start_time": "2022-07-26T22:17:22.199057",
          "status": "completed"
        },
        "tags": []
      },
      "source": [
        "#### build function to handle spliting data"
      ]
    },
    {
      "cell_type": "code",
      "execution_count": 142,
      "id": "9433a8e7",
      "metadata": {
        "execution": {
          "iopub.execute_input": "2022-07-26T22:17:22.218181Z",
          "iopub.status.busy": "2022-07-26T22:17:22.217872Z",
          "iopub.status.idle": "2022-07-26T22:17:22.224159Z",
          "shell.execute_reply": "2022-07-26T22:17:22.222796Z"
        },
        "id": "9433a8e7",
        "papermill": {
          "duration": 0.016194,
          "end_time": "2022-07-26T22:17:22.227217",
          "exception": false,
          "start_time": "2022-07-26T22:17:22.211023",
          "status": "completed"
        },
        "tags": []
      },
      "outputs": [],
      "source": [
        "def train_test_split(data,percent):\n",
        "    split_size = int(len(data) * percent)\n",
        "    train = data[0:training_size]\n",
        "    test = data[training_size:]\n",
        "    return train,test"
      ]
    },
    {
      "cell_type": "code",
      "execution_count": 143,
      "id": "c69ac686",
      "metadata": {
        "execution": {
          "iopub.execute_input": "2022-07-26T22:17:22.241580Z",
          "iopub.status.busy": "2022-07-26T22:17:22.241229Z",
          "iopub.status.idle": "2022-07-26T22:17:22.247322Z",
          "shell.execute_reply": "2022-07-26T22:17:22.246001Z"
        },
        "id": "c69ac686",
        "papermill": {
          "duration": 0.016756,
          "end_time": "2022-07-26T22:17:22.250100",
          "exception": false,
          "start_time": "2022-07-26T22:17:22.233344",
          "status": "completed"
        },
        "tags": []
      },
      "outputs": [],
      "source": [
        "training_sentences,testing_sentences = train_test_split(sentences,0.8)\n",
        "training_labels,testing_labels = train_test_split(labels,0.8)"
      ]
    },
    {
      "cell_type": "code",
      "execution_count": 181,
      "id": "b32de7a2",
      "metadata": {
        "execution": {
          "iopub.execute_input": "2022-07-26T22:17:22.264246Z",
          "iopub.status.busy": "2022-07-26T22:17:22.263271Z",
          "iopub.status.idle": "2022-07-26T22:17:23.350681Z",
          "shell.execute_reply": "2022-07-26T22:17:23.349459Z"
        },
        "id": "b32de7a2",
        "papermill": {
          "duration": 1.09752,
          "end_time": "2022-07-26T22:17:23.353661",
          "exception": false,
          "start_time": "2022-07-26T22:17:22.256141",
          "status": "completed"
        },
        "tags": []
      },
      "outputs": [],
      "source": [
        "tokenizer = Tokenizer(num_words=vocab_size, oov_token=oov_tok)\n",
        "tokenizer.fit_on_texts(training_sentences)\n",
        "\n",
        "word_index = tokenizer.word_index\n",
        "\n",
        "training_sequences = tokenizer.texts_to_sequences(training_sentences)\n",
        "training_padded = pad_sequences(training_sequences, maxlen=max_length, padding=padding_type, truncating=trunc_type)\n",
        "\n",
        "testing_sequences = tokenizer.texts_to_sequences(testing_sentences)\n",
        "testing_padded = pad_sequences(testing_sequences, maxlen=max_length, padding=padding_type, truncating=trunc_type)"
      ]
    },
    {
      "cell_type": "markdown",
      "id": "j5nIfNFNE_Nb",
      "metadata": {
        "id": "j5nIfNFNE_Nb"
      },
      "source": [
        "#### make the data as array to feed it to neural network"
      ]
    },
    {
      "cell_type": "code",
      "execution_count": 187,
      "id": "1cbf4fd2",
      "metadata": {
        "execution": {
          "iopub.execute_input": "2022-07-26T22:17:23.369310Z",
          "iopub.status.busy": "2022-07-26T22:17:23.367998Z",
          "iopub.status.idle": "2022-07-26T22:17:23.384080Z",
          "shell.execute_reply": "2022-07-26T22:17:23.382883Z"
        },
        "id": "1cbf4fd2",
        "papermill": {
          "duration": 0.025662,
          "end_time": "2022-07-26T22:17:23.386601",
          "exception": false,
          "start_time": "2022-07-26T22:17:23.360939",
          "status": "completed"
        },
        "tags": []
      },
      "outputs": [],
      "source": [
        "training_padded = np.array(training_padded)\n",
        "training_labels = np.array(training_labels)\n",
        "testing_padded = np.array(testing_padded)\n",
        "testing_labels = np.array(testing_labels)"
      ]
    },
    {
      "cell_type": "markdown",
      "id": "99c6d2db",
      "metadata": {
        "id": "99c6d2db",
        "papermill": {
          "duration": 0.00579,
          "end_time": "2022-07-26T22:17:23.398831",
          "exception": false,
          "start_time": "2022-07-26T22:17:23.393041",
          "status": "completed"
        },
        "tags": []
      },
      "source": [
        "## Build the model"
      ]
    },
    {
      "cell_type": "code",
      "execution_count": 188,
      "id": "QxKOraCoHJ0E",
      "metadata": {
        "colab": {
          "base_uri": "https://localhost:8080/"
        },
        "id": "QxKOraCoHJ0E",
        "outputId": "5d06fd03-12e8-4515-a44f-e83690b3f944"
      },
      "outputs": [
        {
          "name": "stdout",
          "output_type": "stream",
          "text": [
            "WARNING:tensorflow:EarlyStopping mode automax is unknown, fallback to auto mode.\n"
          ]
        },
        {
          "name": "stderr",
          "output_type": "stream",
          "text": [
            "WARNING:tensorflow:EarlyStopping mode automax is unknown, fallback to auto mode.\n"
          ]
        }
      ],
      "source": [
        "callback = tf.keras.callbacks.EarlyStopping(\n",
        "    monitor='val_loss',\n",
        "    patience=0.5,\n",
        "    verbose=1,\n",
        "    mode='automax',\n",
        ")"
      ]
    },
    {
      "cell_type": "code",
      "execution_count": 229,
      "id": "d8447b47",
      "metadata": {
        "execution": {
          "iopub.execute_input": "2022-07-26T22:17:23.413262Z",
          "iopub.status.busy": "2022-07-26T22:17:23.412911Z",
          "iopub.status.idle": "2022-07-26T22:17:27.235947Z",
          "shell.execute_reply": "2022-07-26T22:17:27.234684Z"
        },
        "id": "d8447b47",
        "papermill": {
          "duration": 3.833247,
          "end_time": "2022-07-26T22:17:27.238764",
          "exception": false,
          "start_time": "2022-07-26T22:17:23.405517",
          "status": "completed"
        },
        "tags": []
      },
      "outputs": [],
      "source": [
        "model = tf.keras.Sequential([\n",
        "    tf.keras.layers.Embedding(vocab_size, embedding_dim, input_length=max_length),\n",
        "    tf.keras.layers.Dropout(0.5),\n",
        "    tf.keras.layers.GlobalAveragePooling1D(),\n",
        "    tf.keras.layers.Dropout(0.5),\n",
        "    tf.keras.layers.Dense(8, activation='relu'),\n",
        "    tf.keras.layers.Dropout(0.5),\n",
        "    tf.keras.layers.Dense(1, activation='sigmoid')\n",
        "])\n",
        "model.compile(loss='binary_crossentropy',optimizer='adam',metrics=['accuracy'])"
      ]
    },
    {
      "cell_type": "code",
      "execution_count": 230,
      "id": "af8a9f2a",
      "metadata": {
        "colab": {
          "base_uri": "https://localhost:8080/"
        },
        "execution": {
          "iopub.execute_input": "2022-07-26T22:17:27.255049Z",
          "iopub.status.busy": "2022-07-26T22:17:27.254328Z",
          "iopub.status.idle": "2022-07-26T22:17:27.261846Z",
          "shell.execute_reply": "2022-07-26T22:17:27.260369Z"
        },
        "id": "af8a9f2a",
        "outputId": "6a9deed8-8665-4820-e836-b515c4703e77",
        "papermill": {
          "duration": 0.021229,
          "end_time": "2022-07-26T22:17:27.266995",
          "exception": false,
          "start_time": "2022-07-26T22:17:27.245766",
          "status": "completed"
        },
        "tags": []
      },
      "outputs": [
        {
          "name": "stdout",
          "output_type": "stream",
          "text": [
            "Model: \"sequential_37\"\n",
            "_________________________________________________________________\n",
            " Layer (type)                Output Shape              Param #   \n",
            "=================================================================\n",
            " embedding_37 (Embedding)    (None, 100, 8)            80000     \n",
            "                                                                 \n",
            " dropout_115 (Dropout)       (None, 100, 8)            0         \n",
            "                                                                 \n",
            " global_average_pooling1d_38  (None, 8)                0         \n",
            "  (GlobalAveragePooling1D)                                       \n",
            "                                                                 \n",
            " dropout_116 (Dropout)       (None, 8)                 0         \n",
            "                                                                 \n",
            " dense_148 (Dense)           (None, 8)                 72        \n",
            "                                                                 \n",
            " dropout_117 (Dropout)       (None, 8)                 0         \n",
            "                                                                 \n",
            " dense_149 (Dense)           (None, 1)                 9         \n",
            "                                                                 \n",
            "=================================================================\n",
            "Total params: 80,081\n",
            "Trainable params: 80,081\n",
            "Non-trainable params: 0\n",
            "_________________________________________________________________\n"
          ]
        }
      ],
      "source": [
        "model.summary()"
      ]
    },
    {
      "cell_type": "code",
      "execution_count": 231,
      "id": "55d50750",
      "metadata": {
        "colab": {
          "base_uri": "https://localhost:8080/"
        },
        "execution": {
          "iopub.execute_input": "2022-07-26T22:17:27.281595Z",
          "iopub.status.busy": "2022-07-26T22:17:27.281258Z",
          "iopub.status.idle": "2022-07-26T22:19:49.894428Z",
          "shell.execute_reply": "2022-07-26T22:19:49.892862Z"
        },
        "id": "55d50750",
        "outputId": "79d54ef3-d5e1-49db-e6e0-e4583fa8baf8",
        "papermill": {
          "duration": 142.624116,
          "end_time": "2022-07-26T22:19:49.897655",
          "exception": false,
          "start_time": "2022-07-26T22:17:27.273539",
          "status": "completed"
        },
        "tags": []
      },
      "outputs": [
        {
          "name": "stdout",
          "output_type": "stream",
          "text": [
            "Epoch 1/30\n",
            "625/625 - 3s - loss: 0.6865 - accuracy: 0.5576 - val_loss: 0.6838 - val_accuracy: 0.5633 - 3s/epoch - 4ms/step\n",
            "Epoch 2/30\n",
            "625/625 - 2s - loss: 0.6807 - accuracy: 0.5603 - val_loss: 0.6706 - val_accuracy: 0.5633 - 2s/epoch - 3ms/step\n",
            "Epoch 3/30\n",
            "625/625 - 2s - loss: 0.6465 - accuracy: 0.5620 - val_loss: 0.6107 - val_accuracy: 0.7213 - 2s/epoch - 4ms/step\n",
            "Epoch 4/30\n",
            "625/625 - 3s - loss: 0.5845 - accuracy: 0.7226 - val_loss: 0.5307 - val_accuracy: 0.8123 - 3s/epoch - 4ms/step\n",
            "Epoch 5/30\n",
            "625/625 - 2s - loss: 0.5362 - accuracy: 0.7799 - val_loss: 0.4804 - val_accuracy: 0.8264 - 2s/epoch - 4ms/step\n",
            "Epoch 6/30\n",
            "625/625 - 2s - loss: 0.5050 - accuracy: 0.7920 - val_loss: 0.4674 - val_accuracy: 0.8134 - 2s/epoch - 3ms/step\n",
            "Epoch 7/30\n",
            "625/625 - 2s - loss: 0.4804 - accuracy: 0.7999 - val_loss: 0.4289 - val_accuracy: 0.8390 - 2s/epoch - 3ms/step\n",
            "Epoch 8/30\n",
            "625/625 - 2s - loss: 0.4677 - accuracy: 0.8021 - val_loss: 0.4166 - val_accuracy: 0.8384 - 2s/epoch - 3ms/step\n",
            "Epoch 9/30\n",
            "625/625 - 2s - loss: 0.4466 - accuracy: 0.8131 - val_loss: 0.4034 - val_accuracy: 0.8447 - 2s/epoch - 3ms/step\n",
            "Epoch 10/30\n",
            "625/625 - 2s - loss: 0.4384 - accuracy: 0.8161 - val_loss: 0.3949 - val_accuracy: 0.8502 - 2s/epoch - 3ms/step\n",
            "Epoch 11/30\n",
            "625/625 - 2s - loss: 0.4280 - accuracy: 0.8201 - val_loss: 0.3973 - val_accuracy: 0.8402 - 2s/epoch - 4ms/step\n",
            "Epoch 12/30\n",
            "625/625 - 2s - loss: 0.4175 - accuracy: 0.8291 - val_loss: 0.3904 - val_accuracy: 0.8441 - 2s/epoch - 3ms/step\n",
            "Epoch 13/30\n",
            "625/625 - 3s - loss: 0.4134 - accuracy: 0.8273 - val_loss: 0.3836 - val_accuracy: 0.8492 - 3s/epoch - 5ms/step\n",
            "Epoch 14/30\n",
            "625/625 - 2s - loss: 0.3986 - accuracy: 0.8343 - val_loss: 0.3805 - val_accuracy: 0.8535 - 2s/epoch - 3ms/step\n",
            "Epoch 15/30\n",
            "625/625 - 2s - loss: 0.3909 - accuracy: 0.8381 - val_loss: 0.3813 - val_accuracy: 0.8490 - 2s/epoch - 3ms/step\n",
            "Epoch 16/30\n",
            "625/625 - 2s - loss: 0.3925 - accuracy: 0.8382 - val_loss: 0.3796 - val_accuracy: 0.8512 - 2s/epoch - 3ms/step\n",
            "Epoch 17/30\n",
            "625/625 - 2s - loss: 0.3800 - accuracy: 0.8432 - val_loss: 0.3810 - val_accuracy: 0.8477 - 2s/epoch - 4ms/step\n",
            "Epoch 18/30\n",
            "625/625 - 2s - loss: 0.3720 - accuracy: 0.8482 - val_loss: 0.3804 - val_accuracy: 0.8486 - 2s/epoch - 3ms/step\n",
            "Epoch 19/30\n",
            "625/625 - 2s - loss: 0.3612 - accuracy: 0.8516 - val_loss: 0.3794 - val_accuracy: 0.8483 - 2s/epoch - 3ms/step\n",
            "Epoch 20/30\n",
            "625/625 - 2s - loss: 0.3598 - accuracy: 0.8521 - val_loss: 0.3737 - val_accuracy: 0.8504 - 2s/epoch - 3ms/step\n",
            "Epoch 21/30\n",
            "625/625 - 2s - loss: 0.3522 - accuracy: 0.8600 - val_loss: 0.3739 - val_accuracy: 0.8501 - 2s/epoch - 3ms/step\n",
            "Epoch 22/30\n",
            "625/625 - 2s - loss: 0.3444 - accuracy: 0.8601 - val_loss: 0.3929 - val_accuracy: 0.8441 - 2s/epoch - 3ms/step\n",
            "Epoch 23/30\n",
            "625/625 - 2s - loss: 0.3450 - accuracy: 0.8594 - val_loss: 0.3774 - val_accuracy: 0.8489 - 2s/epoch - 3ms/step\n",
            "Epoch 24/30\n",
            "625/625 - 2s - loss: 0.3396 - accuracy: 0.8669 - val_loss: 0.3780 - val_accuracy: 0.8468 - 2s/epoch - 3ms/step\n",
            "Epoch 25/30\n",
            "625/625 - 2s - loss: 0.3372 - accuracy: 0.8658 - val_loss: 0.3785 - val_accuracy: 0.8484 - 2s/epoch - 3ms/step\n",
            "Epoch 26/30\n",
            "625/625 - 2s - loss: 0.3371 - accuracy: 0.8646 - val_loss: 0.3837 - val_accuracy: 0.8475 - 2s/epoch - 3ms/step\n",
            "Epoch 27/30\n",
            "625/625 - 2s - loss: 0.3315 - accuracy: 0.8677 - val_loss: 0.4188 - val_accuracy: 0.8422 - 2s/epoch - 3ms/step\n",
            "Epoch 28/30\n",
            "625/625 - 2s - loss: 0.3207 - accuracy: 0.8748 - val_loss: 0.3789 - val_accuracy: 0.8472 - 2s/epoch - 3ms/step\n",
            "Epoch 29/30\n",
            "625/625 - 2s - loss: 0.3226 - accuracy: 0.8744 - val_loss: 0.3972 - val_accuracy: 0.8447 - 2s/epoch - 4ms/step\n",
            "Epoch 30/30\n",
            "625/625 - 2s - loss: 0.3246 - accuracy: 0.8729 - val_loss: 0.3868 - val_accuracy: 0.8490 - 2s/epoch - 4ms/step\n"
          ]
        }
      ],
      "source": [
        "epochs_num = 30\n",
        "\n",
        "history = model.fit(\n",
        "    training_padded, training_labels, epochs=epochs_num, \n",
        "    validation_data=(testing_padded, testing_labels), verbose=2,\n",
        "    # callbacks=[callback]\n",
        ")"
      ]
    },
    {
      "cell_type": "code",
      "execution_count": 232,
      "id": "8aa6deb6",
      "metadata": {
        "colab": {
          "base_uri": "https://localhost:8080/",
          "height": 543
        },
        "execution": {
          "iopub.execute_input": "2022-07-26T22:19:49.924757Z",
          "iopub.status.busy": "2022-07-26T22:19:49.924375Z",
          "iopub.status.idle": "2022-07-26T22:19:50.455312Z",
          "shell.execute_reply": "2022-07-26T22:19:50.453909Z"
        },
        "id": "8aa6deb6",
        "outputId": "7d964111-f19b-4102-d675-dce38d0a1f9e",
        "papermill": {
          "duration": 0.546986,
          "end_time": "2022-07-26T22:19:50.457940",
          "exception": false,
          "start_time": "2022-07-26T22:19:49.910954",
          "status": "completed"
        },
        "tags": []
      },
      "outputs": [
        {
          "data": {
            "image/png": "[encoded data removed]",
            "text/plain": [
              "<Figure size 432x288 with 1 Axes>"
            ]
          },
          "metadata": {
            "needs_background": "light"
          },
          "output_type": "display_data"
        },
        {
          "data": {
            "image/png": "[encoded data removed]",
            "text/plain": [
              "<Figure size 432x288 with 1 Axes>"
            ]
          },
          "metadata": {
            "needs_background": "light"
          },
          "output_type": "display_data"
        }
      ],
      "source": [
        "def plot_graphs(history, string):\n",
        "  plt.plot(history.history[string])\n",
        "  plt.plot(history.history['val_'+string])\n",
        "  plt.xlabel(\"Epochs\")\n",
        "  plt.ylabel(string)\n",
        "  plt.legend([string, 'val_'+string])\n",
        "  plt.show()\n",
        "  \n",
        "plot_graphs(history, \"accuracy\")\n",
        "plot_graphs(history, \"loss\")"
      ]
    },
    {
      "cell_type": "markdown",
      "id": "jVt8G0BTFsNd",
      "metadata": {
        "id": "jVt8G0BTFsNd"
      },
      "source": [
        "## Test the model"
      ]
    },
    {
      "cell_type": "code",
      "execution_count": 233,
      "id": "krcoDjApFTDF",
      "metadata": {
        "colab": {
          "base_uri": "https://localhost:8080/"
        },
        "id": "krcoDjApFTDF",
        "outputId": "c8c26f2c-dfe4-4646-ee91-3cded00152a4"
      },
      "outputs": [
        {
          "data": {
            "text/plain": [
              "array([[0.01070499],\n",
              "       [0.00922334],\n",
              "       [0.7490017 ]], dtype=float32)"
            ]
          },
          "execution_count": 233,
          "metadata": {},
          "output_type": "execute_result"
        }
      ],
      "source": [
        "test_data = [\n",
        "   'the weather is so moony',\n",
        "   'the president kill the devil',\n",
        "   'earthquake in sky!!!'\n",
        "]\n",
        "\n",
        "sequences = tokenizer.texts_to_sequences(test_data)\n",
        "padded = pad_sequences(sequences, maxlen=max_length, padding=padding_type, truncating=trunc_type)\n",
        "\n",
        "prediction = model.predict(padded)\n",
        "prediction"
      ]
    },
    {
      "cell_type": "code",
      "execution_count": 234,
      "id": "D2xkAgtyJEMg",
      "metadata": {
        "id": "D2xkAgtyJEMg"
      },
      "outputs": [],
      "source": [
        "def label_encoding(pred):\n",
        "  return ['Real' if p > 0.5 else 'Fake' for p in pred]"
      ]
    },
    {
      "cell_type": "code",
      "execution_count": 235,
      "id": "xuutha4cJY8c",
      "metadata": {
        "colab": {
          "base_uri": "https://localhost:8080/"
        },
        "id": "xuutha4cJY8c",
        "outputId": "566d4792-9df7-4159-936e-3011a27ae0d0"
      },
      "outputs": [
        {
          "name": "stdout",
          "output_type": "stream",
          "text": [
            "['Fake', 'Fake', 'Real']\n"
          ]
        }
      ],
      "source": [
        "print(label_encoding(prediction))"
      ]
    }
  ],
  "metadata": {
    "colab": {
      "collapsed_sections": [],
      "name": "detect-sarcasm.ipynb",
      "provenance": []
    },
    "kernelspec": {
      "display_name": "Python 3",
      "language": "python",
      "name": "python3"
    },
    "language_info": {
      "codemirror_mode": {
        "name": "ipython",
        "version": 3
      },
      "file_extension": ".py",
      "mimetype": "text/x-python",
      "name": "python",
      "nbconvert_exporter": "python",
      "pygments_lexer": "ipython3",
      "version": "3.7.12"
    },
    "papermill": {
      "default_parameters": {},
      "duration": 168.719863,
      "end_time": "2022-07-26T22:19:53.912691",
      "environment_variables": {},
      "exception": null,
      "input_path": "__notebook__.ipynb",
      "output_path": "__notebook__.ipynb",
      "parameters": {},
      "start_time": "2022-07-26T22:17:05.192828",
      "version": "2.3.4"
    }
  },
  "nbformat": 4,
  "nbformat_minor": 5
}
