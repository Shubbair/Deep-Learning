{
 "cells": [
  {
   "cell_type": "code",
   "execution_count": null,
   "id": "e84686be",
   "metadata": {},
   "outputs": [],
   "source": [
    "!unzip 'Sarcasm_Headlines_Dataset.json.zip' -d Sarcasm"
   ]
  },
  {
   "cell_type": "markdown",
   "id": "ad6bc422",
   "metadata": {
    "papermill": {
     "duration": 0.00759,
     "end_time": "2022-07-26T22:17:15.859372",
     "exception": false,
     "start_time": "2022-07-26T22:17:15.851782",
     "status": "completed"
    },
    "tags": []
   },
   "source": [
    "## Import Libraries"
   ]
  },
  {
   "cell_type": "code",
   "execution_count": 1,
   "id": "36cc130c",
   "metadata": {
    "execution": {
     "iopub.execute_input": "2022-07-26T22:17:15.873889Z",
     "iopub.status.busy": "2022-07-26T22:17:15.873289Z",
     "iopub.status.idle": "2022-07-26T22:17:21.772067Z",
     "shell.execute_reply": "2022-07-26T22:17:21.770860Z"
    },
    "papermill": {
     "duration": 5.90989,
     "end_time": "2022-07-26T22:17:21.775365",
     "exception": false,
     "start_time": "2022-07-26T22:17:15.865475",
     "status": "completed"
    },
    "tags": []
   },
   "outputs": [],
   "source": [
    "import json\n",
    "import numpy as np\n",
    "import matplotlib.pyplot as plt\n",
    "import tensorflow as tf\n",
    "from tensorflow import keras\n",
    "from keras.preprocessing.text import Tokenizer\n",
    "from keras.preprocessing.sequence import pad_sequences"
   ]
  },
  {
   "cell_type": "code",
   "execution_count": 2,
   "id": "9e9eb28c",
   "metadata": {
    "execution": {
     "iopub.execute_input": "2022-07-26T22:17:21.790077Z",
     "iopub.status.busy": "2022-07-26T22:17:21.789496Z",
     "iopub.status.idle": "2022-07-26T22:17:21.795603Z",
     "shell.execute_reply": "2022-07-26T22:17:21.794366Z"
    },
    "papermill": {
     "duration": 0.015993,
     "end_time": "2022-07-26T22:17:21.797943",
     "exception": false,
     "start_time": "2022-07-26T22:17:21.781950",
     "status": "completed"
    },
    "tags": []
   },
   "outputs": [],
   "source": [
    "vocab_size = 10000\n",
    "embedding_dim = 16\n",
    "max_length = 100\n",
    "trunc_type='post'\n",
    "padding_type='post'\n",
    "oov_tok = \"<OOV>\"\n",
    "training_size = 20000"
   ]
  },
  {
   "cell_type": "markdown",
   "id": "d5ea4319",
   "metadata": {
    "papermill": {
     "duration": 0.00558,
     "end_time": "2022-07-26T22:17:21.809174",
     "exception": false,
     "start_time": "2022-07-26T22:17:21.803594",
     "status": "completed"
    },
    "tags": []
   },
   "source": [
    "## Load the dataset and process it"
   ]
  },
  {
   "cell_type": "code",
   "execution_count": 3,
   "id": "9e7e9498",
   "metadata": {
    "execution": {
     "iopub.execute_input": "2022-07-26T22:17:21.822795Z",
     "iopub.status.busy": "2022-07-26T22:17:21.822464Z",
     "iopub.status.idle": "2022-07-26T22:17:22.030060Z",
     "shell.execute_reply": "2022-07-26T22:17:22.028706Z"
    },
    "papermill": {
     "duration": 0.218236,
     "end_time": "2022-07-26T22:17:22.033310",
     "exception": false,
     "start_time": "2022-07-26T22:17:21.815074",
     "status": "completed"
    },
    "tags": []
   },
   "outputs": [],
   "source": [
    "dataset = []\n",
    "for file in open('Sarcasm/Sarcasm_Headlines_Dataset.json','r'):\n",
    "    dataset.append(json.loads(file))"
   ]
  },
  {
   "cell_type": "markdown",
   "id": "2ab4ecd4",
   "metadata": {
    "papermill": {
     "duration": 0.005761,
     "end_time": "2022-07-26T22:17:22.045652",
     "exception": false,
     "start_time": "2022-07-26T22:17:22.039891",
     "status": "completed"
    },
    "tags": []
   },
   "source": [
    "#### to display first 5 element from the given data"
   ]
  },
  {
   "cell_type": "code",
   "execution_count": 4,
   "id": "1e4824e4",
   "metadata": {
    "execution": {
     "iopub.execute_input": "2022-07-26T22:17:22.059185Z",
     "iopub.status.busy": "2022-07-26T22:17:22.058817Z",
     "iopub.status.idle": "2022-07-26T22:17:22.064338Z",
     "shell.execute_reply": "2022-07-26T22:17:22.062950Z"
    },
    "papermill": {
     "duration": 0.015294,
     "end_time": "2022-07-26T22:17:22.067002",
     "exception": false,
     "start_time": "2022-07-26T22:17:22.051708",
     "status": "completed"
    },
    "tags": []
   },
   "outputs": [],
   "source": [
    "def head(data):\n",
    "    return data[0:5]"
   ]
  },
  {
   "cell_type": "code",
   "execution_count": 5,
   "id": "bb968e8f",
   "metadata": {
    "execution": {
     "iopub.execute_input": "2022-07-26T22:17:22.080296Z",
     "iopub.status.busy": "2022-07-26T22:17:22.079946Z",
     "iopub.status.idle": "2022-07-26T22:17:22.090582Z",
     "shell.execute_reply": "2022-07-26T22:17:22.089316Z"
    },
    "papermill": {
     "duration": 0.020562,
     "end_time": "2022-07-26T22:17:22.093637",
     "exception": false,
     "start_time": "2022-07-26T22:17:22.073075",
     "status": "completed"
    },
    "tags": []
   },
   "outputs": [
    {
     "data": {
      "text/plain": [
       "[{'is_sarcastic': 1,\n",
       "  'headline': 'thirtysomething scientists unveil doomsday clock of hair loss',\n",
       "  'article_link': 'https://www.theonion.com/thirtysomething-scientists-unveil-doomsday-clock-of-hai-1819586205'},\n",
       " {'is_sarcastic': 0,\n",
       "  'headline': 'dem rep. totally nails why congress is falling short on gender, racial equality',\n",
       "  'article_link': 'https://www.huffingtonpost.com/entry/donna-edwards-inequality_us_57455f7fe4b055bb1170b207'},\n",
       " {'is_sarcastic': 0,\n",
       "  'headline': 'eat your veggies: 9 deliciously different recipes',\n",
       "  'article_link': 'https://www.huffingtonpost.com/entry/eat-your-veggies-9-delici_b_8899742.html'},\n",
       " {'is_sarcastic': 1,\n",
       "  'headline': 'inclement weather prevents liar from getting to work',\n",
       "  'article_link': 'https://local.theonion.com/inclement-weather-prevents-liar-from-getting-to-work-1819576031'},\n",
       " {'is_sarcastic': 1,\n",
       "  'headline': \"mother comes pretty close to using word 'streaming' correctly\",\n",
       "  'article_link': 'https://www.theonion.com/mother-comes-pretty-close-to-using-word-streaming-cor-1819575546'}]"
      ]
     },
     "execution_count": 5,
     "metadata": {},
     "output_type": "execute_result"
    }
   ],
   "source": [
    "head(dataset)"
   ]
  },
  {
   "cell_type": "code",
   "execution_count": 6,
   "id": "ed568c30",
   "metadata": {
    "execution": {
     "iopub.execute_input": "2022-07-26T22:17:22.107405Z",
     "iopub.status.busy": "2022-07-26T22:17:22.106773Z",
     "iopub.status.idle": "2022-07-26T22:17:22.129084Z",
     "shell.execute_reply": "2022-07-26T22:17:22.127686Z"
    },
    "papermill": {
     "duration": 0.032119,
     "end_time": "2022-07-26T22:17:22.131876",
     "exception": false,
     "start_time": "2022-07-26T22:17:22.099757",
     "status": "completed"
    },
    "tags": []
   },
   "outputs": [],
   "source": [
    "sentences = []\n",
    "labels = []\n",
    "urls = []\n",
    "for data in dataset : \n",
    "    sentences.append(data['headline'])\n",
    "    labels.append(data['is_sarcastic'])\n",
    "    urls.append(data['article_link'])"
   ]
  },
  {
   "cell_type": "code",
   "execution_count": 7,
   "id": "d8496cc4",
   "metadata": {
    "execution": {
     "iopub.execute_input": "2022-07-26T22:17:22.145665Z",
     "iopub.status.busy": "2022-07-26T22:17:22.144693Z",
     "iopub.status.idle": "2022-07-26T22:17:22.153386Z",
     "shell.execute_reply": "2022-07-26T22:17:22.152102Z"
    },
    "papermill": {
     "duration": 0.018133,
     "end_time": "2022-07-26T22:17:22.155907",
     "exception": false,
     "start_time": "2022-07-26T22:17:22.137774",
     "status": "completed"
    },
    "tags": []
   },
   "outputs": [
    {
     "data": {
      "text/plain": [
       "(['thirtysomething scientists unveil doomsday clock of hair loss',\n",
       "  'dem rep. totally nails why congress is falling short on gender, racial equality',\n",
       "  'eat your veggies: 9 deliciously different recipes',\n",
       "  'inclement weather prevents liar from getting to work',\n",
       "  \"mother comes pretty close to using word 'streaming' correctly\"],\n",
       " [1, 0, 0, 1, 1],\n",
       " ['https://www.theonion.com/thirtysomething-scientists-unveil-doomsday-clock-of-hai-1819586205',\n",
       "  'https://www.huffingtonpost.com/entry/donna-edwards-inequality_us_57455f7fe4b055bb1170b207',\n",
       "  'https://www.huffingtonpost.com/entry/eat-your-veggies-9-delici_b_8899742.html',\n",
       "  'https://local.theonion.com/inclement-weather-prevents-liar-from-getting-to-work-1819576031',\n",
       "  'https://www.theonion.com/mother-comes-pretty-close-to-using-word-streaming-cor-1819575546'])"
      ]
     },
     "execution_count": 7,
     "metadata": {},
     "output_type": "execute_result"
    }
   ],
   "source": [
    "head(sentences),head(labels),head(urls)"
   ]
  },
  {
   "cell_type": "markdown",
   "id": "921e2818",
   "metadata": {
    "papermill": {
     "duration": 0.005817,
     "end_time": "2022-07-26T22:17:22.167923",
     "exception": false,
     "start_time": "2022-07-26T22:17:22.162106",
     "status": "completed"
    },
    "tags": []
   },
   "source": [
    "## Split the Data train, test"
   ]
  },
  {
   "cell_type": "code",
   "execution_count": 8,
   "id": "164141d3",
   "metadata": {
    "execution": {
     "iopub.execute_input": "2022-07-26T22:17:22.182866Z",
     "iopub.status.busy": "2022-07-26T22:17:22.181834Z",
     "iopub.status.idle": "2022-07-26T22:17:22.189894Z",
     "shell.execute_reply": "2022-07-26T22:17:22.188523Z"
    },
    "papermill": {
     "duration": 0.017908,
     "end_time": "2022-07-26T22:17:22.192379",
     "exception": false,
     "start_time": "2022-07-26T22:17:22.174471",
     "status": "completed"
    },
    "tags": []
   },
   "outputs": [
    {
     "data": {
      "text/plain": [
       "28619"
      ]
     },
     "execution_count": 8,
     "metadata": {},
     "output_type": "execute_result"
    }
   ],
   "source": [
    "len(sentences)"
   ]
  },
  {
   "cell_type": "markdown",
   "id": "3d23aff1",
   "metadata": {
    "papermill": {
     "duration": 0.005898,
     "end_time": "2022-07-26T22:17:22.204955",
     "exception": false,
     "start_time": "2022-07-26T22:17:22.199057",
     "status": "completed"
    },
    "tags": []
   },
   "source": [
    "#### build function to handle spliting data"
   ]
  },
  {
   "cell_type": "code",
   "execution_count": 9,
   "id": "9433a8e7",
   "metadata": {
    "execution": {
     "iopub.execute_input": "2022-07-26T22:17:22.218181Z",
     "iopub.status.busy": "2022-07-26T22:17:22.217872Z",
     "iopub.status.idle": "2022-07-26T22:17:22.224159Z",
     "shell.execute_reply": "2022-07-26T22:17:22.222796Z"
    },
    "papermill": {
     "duration": 0.016194,
     "end_time": "2022-07-26T22:17:22.227217",
     "exception": false,
     "start_time": "2022-07-26T22:17:22.211023",
     "status": "completed"
    },
    "tags": []
   },
   "outputs": [],
   "source": [
    "def train_test_split(data,percent):\n",
    "    split_size = int(len(data) * percent)\n",
    "    train = data[0:training_size]\n",
    "    test = data[training_size:]\n",
    "    return train,test"
   ]
  },
  {
   "cell_type": "code",
   "execution_count": 10,
   "id": "c69ac686",
   "metadata": {
    "execution": {
     "iopub.execute_input": "2022-07-26T22:17:22.241580Z",
     "iopub.status.busy": "2022-07-26T22:17:22.241229Z",
     "iopub.status.idle": "2022-07-26T22:17:22.247322Z",
     "shell.execute_reply": "2022-07-26T22:17:22.246001Z"
    },
    "papermill": {
     "duration": 0.016756,
     "end_time": "2022-07-26T22:17:22.250100",
     "exception": false,
     "start_time": "2022-07-26T22:17:22.233344",
     "status": "completed"
    },
    "tags": []
   },
   "outputs": [],
   "source": [
    "training_sentences,testing_sentences = train_test_split(sentences,0.8)\n",
    "training_labels,testing_labels = train_test_split(labels,0.8)"
   ]
  },
  {
   "cell_type": "code",
   "execution_count": 11,
   "id": "b32de7a2",
   "metadata": {
    "execution": {
     "iopub.execute_input": "2022-07-26T22:17:22.264246Z",
     "iopub.status.busy": "2022-07-26T22:17:22.263271Z",
     "iopub.status.idle": "2022-07-26T22:17:23.350681Z",
     "shell.execute_reply": "2022-07-26T22:17:23.349459Z"
    },
    "papermill": {
     "duration": 1.09752,
     "end_time": "2022-07-26T22:17:23.353661",
     "exception": false,
     "start_time": "2022-07-26T22:17:22.256141",
     "status": "completed"
    },
    "tags": []
   },
   "outputs": [],
   "source": [
    "tokenizer = Tokenizer(num_words=vocab_size, oov_token=oov_tok)\n",
    "tokenizer.fit_on_texts(training_sentences)\n",
    "\n",
    "word_index = tokenizer.word_index\n",
    "\n",
    "training_sequences = tokenizer.texts_to_sequences(training_sentences)\n",
    "training_padded = pad_sequences(training_sequences, maxlen=max_length, padding=padding_type, truncating=trunc_type)\n",
    "\n",
    "testing_sequences = tokenizer.texts_to_sequences(testing_sentences)\n",
    "testing_padded = pad_sequences(testing_sequences, maxlen=max_length, padding=padding_type, truncating=trunc_type)"
   ]
  },
  {
   "cell_type": "code",
   "execution_count": 12,
   "id": "1cbf4fd2",
   "metadata": {
    "execution": {
     "iopub.execute_input": "2022-07-26T22:17:23.369310Z",
     "iopub.status.busy": "2022-07-26T22:17:23.367998Z",
     "iopub.status.idle": "2022-07-26T22:17:23.384080Z",
     "shell.execute_reply": "2022-07-26T22:17:23.382883Z"
    },
    "papermill": {
     "duration": 0.025662,
     "end_time": "2022-07-26T22:17:23.386601",
     "exception": false,
     "start_time": "2022-07-26T22:17:23.360939",
     "status": "completed"
    },
    "tags": []
   },
   "outputs": [],
   "source": [
    "training_padded = np.array(training_padded)\n",
    "training_labels = np.array(training_labels)\n",
    "testing_padded = np.array(testing_padded)\n",
    "testing_labels = np.array(testing_labels)"
   ]
  },
  {
   "cell_type": "markdown",
   "id": "99c6d2db",
   "metadata": {
    "papermill": {
     "duration": 0.00579,
     "end_time": "2022-07-26T22:17:23.398831",
     "exception": false,
     "start_time": "2022-07-26T22:17:23.393041",
     "status": "completed"
    },
    "tags": []
   },
   "source": [
    "## Build the model"
   ]
  },
  {
   "cell_type": "code",
   "execution_count": 13,
   "id": "d8447b47",
   "metadata": {
    "execution": {
     "iopub.execute_input": "2022-07-26T22:17:23.413262Z",
     "iopub.status.busy": "2022-07-26T22:17:23.412911Z",
     "iopub.status.idle": "2022-07-26T22:17:27.235947Z",
     "shell.execute_reply": "2022-07-26T22:17:27.234684Z"
    },
    "papermill": {
     "duration": 3.833247,
     "end_time": "2022-07-26T22:17:27.238764",
     "exception": false,
     "start_time": "2022-07-26T22:17:23.405517",
     "status": "completed"
    },
    "tags": []
   },
   "outputs": [
    {
     "name": "stderr",
     "output_type": "stream",
     "text": [
      "2022-07-26 22:17:23.915968: I tensorflow/stream_executor/cuda/cuda_gpu_executor.cc:937] successful NUMA node read from SysFS had negative value (-1), but there must be at least one NUMA node, so returning NUMA node zero\n",
      "2022-07-26 22:17:24.073621: I tensorflow/stream_executor/cuda/cuda_gpu_executor.cc:937] successful NUMA node read from SysFS had negative value (-1), but there must be at least one NUMA node, so returning NUMA node zero\n",
      "2022-07-26 22:17:24.074826: I tensorflow/stream_executor/cuda/cuda_gpu_executor.cc:937] successful NUMA node read from SysFS had negative value (-1), but there must be at least one NUMA node, so returning NUMA node zero\n",
      "2022-07-26 22:17:24.077308: I tensorflow/core/platform/cpu_feature_guard.cc:142] This TensorFlow binary is optimized with oneAPI Deep Neural Network Library (oneDNN) to use the following CPU instructions in performance-critical operations:  AVX2 FMA\n",
      "To enable them in other operations, rebuild TensorFlow with the appropriate compiler flags.\n",
      "2022-07-26 22:17:24.081701: I tensorflow/stream_executor/cuda/cuda_gpu_executor.cc:937] successful NUMA node read from SysFS had negative value (-1), but there must be at least one NUMA node, so returning NUMA node zero\n",
      "2022-07-26 22:17:24.082791: I tensorflow/stream_executor/cuda/cuda_gpu_executor.cc:937] successful NUMA node read from SysFS had negative value (-1), but there must be at least one NUMA node, so returning NUMA node zero\n",
      "2022-07-26 22:17:24.083828: I tensorflow/stream_executor/cuda/cuda_gpu_executor.cc:937] successful NUMA node read from SysFS had negative value (-1), but there must be at least one NUMA node, so returning NUMA node zero\n",
      "2022-07-26 22:17:26.829839: I tensorflow/stream_executor/cuda/cuda_gpu_executor.cc:937] successful NUMA node read from SysFS had negative value (-1), but there must be at least one NUMA node, so returning NUMA node zero\n",
      "2022-07-26 22:17:26.830968: I tensorflow/stream_executor/cuda/cuda_gpu_executor.cc:937] successful NUMA node read from SysFS had negative value (-1), but there must be at least one NUMA node, so returning NUMA node zero\n",
      "2022-07-26 22:17:26.831956: I tensorflow/stream_executor/cuda/cuda_gpu_executor.cc:937] successful NUMA node read from SysFS had negative value (-1), but there must be at least one NUMA node, so returning NUMA node zero\n",
      "2022-07-26 22:17:26.832924: I tensorflow/core/common_runtime/gpu/gpu_device.cc:1510] Created device /job:localhost/replica:0/task:0/device:GPU:0 with 15403 MB memory:  -> device: 0, name: Tesla P100-PCIE-16GB, pci bus id: 0000:00:04.0, compute capability: 6.0\n"
     ]
    }
   ],
   "source": [
    "model = tf.keras.Sequential([\n",
    "    tf.keras.layers.Embedding(vocab_size, embedding_dim, input_length=max_length),\n",
    "    tf.keras.layers.GlobalAveragePooling1D(),\n",
    "    tf.keras.layers.Dense(24, activation='relu'),\n",
    "    tf.keras.layers.Dense(1, activation='sigmoid')\n",
    "])\n",
    "model.compile(loss='binary_crossentropy',optimizer='adam',metrics=['accuracy'])"
   ]
  },
  {
   "cell_type": "code",
   "execution_count": 14,
   "id": "af8a9f2a",
   "metadata": {
    "execution": {
     "iopub.execute_input": "2022-07-26T22:17:27.255049Z",
     "iopub.status.busy": "2022-07-26T22:17:27.254328Z",
     "iopub.status.idle": "2022-07-26T22:17:27.261846Z",
     "shell.execute_reply": "2022-07-26T22:17:27.260369Z"
    },
    "papermill": {
     "duration": 0.021229,
     "end_time": "2022-07-26T22:17:27.266995",
     "exception": false,
     "start_time": "2022-07-26T22:17:27.245766",
     "status": "completed"
    },
    "tags": []
   },
   "outputs": [
    {
     "name": "stdout",
     "output_type": "stream",
     "text": [
      "Model: \"sequential\"\n",
      "_________________________________________________________________\n",
      "Layer (type)                 Output Shape              Param #   \n",
      "=================================================================\n",
      "embedding (Embedding)        (None, 100, 16)           160000    \n",
      "_________________________________________________________________\n",
      "global_average_pooling1d (Gl (None, 16)                0         \n",
      "_________________________________________________________________\n",
      "dense (Dense)                (None, 24)                408       \n",
      "_________________________________________________________________\n",
      "dense_1 (Dense)              (None, 1)                 25        \n",
      "=================================================================\n",
      "Total params: 160,433\n",
      "Trainable params: 160,433\n",
      "Non-trainable params: 0\n",
      "_________________________________________________________________\n"
     ]
    }
   ],
   "source": [
    "model.summary()"
   ]
  },
  {
   "cell_type": "code",
   "execution_count": 15,
   "id": "55d50750",
   "metadata": {
    "execution": {
     "iopub.execute_input": "2022-07-26T22:17:27.281595Z",
     "iopub.status.busy": "2022-07-26T22:17:27.281258Z",
     "iopub.status.idle": "2022-07-26T22:19:49.894428Z",
     "shell.execute_reply": "2022-07-26T22:19:49.892862Z"
    },
    "papermill": {
     "duration": 142.624116,
     "end_time": "2022-07-26T22:19:49.897655",
     "exception": false,
     "start_time": "2022-07-26T22:17:27.273539",
     "status": "completed"
    },
    "tags": []
   },
   "outputs": [
    {
     "name": "stdout",
     "output_type": "stream",
     "text": [
      "Epoch 1/40\n"
     ]
    },
    {
     "name": "stderr",
     "output_type": "stream",
     "text": [
      "2022-07-26 22:17:27.355431: I tensorflow/compiler/mlir/mlir_graph_optimization_pass.cc:185] None of the MLIR Optimization Passes are enabled (registered 2)\n"
     ]
    },
    {
     "name": "stdout",
     "output_type": "stream",
     "text": [
      "625/625 - 4s - loss: 0.6474 - accuracy: 0.6341 - val_loss: 0.5143 - val_accuracy: 0.8145\n",
      "Epoch 2/40\n",
      "625/625 - 2s - loss: 0.3987 - accuracy: 0.8425 - val_loss: 0.3728 - val_accuracy: 0.8339\n",
      "Epoch 3/40\n",
      "625/625 - 2s - loss: 0.2982 - accuracy: 0.8813 - val_loss: 0.3356 - val_accuracy: 0.8571\n",
      "Epoch 4/40\n",
      "625/625 - 2s - loss: 0.2477 - accuracy: 0.9025 - val_loss: 0.3385 - val_accuracy: 0.8546\n",
      "Epoch 5/40\n",
      "625/625 - 2s - loss: 0.2124 - accuracy: 0.9192 - val_loss: 0.3359 - val_accuracy: 0.8573\n",
      "Epoch 6/40\n",
      "625/625 - 2s - loss: 0.1865 - accuracy: 0.9287 - val_loss: 0.3568 - val_accuracy: 0.8466\n",
      "Epoch 7/40\n",
      "625/625 - 2s - loss: 0.1645 - accuracy: 0.9391 - val_loss: 0.3649 - val_accuracy: 0.8525\n",
      "Epoch 8/40\n",
      "625/625 - 2s - loss: 0.1488 - accuracy: 0.9471 - val_loss: 0.4154 - val_accuracy: 0.8350\n",
      "Epoch 9/40\n",
      "625/625 - 2s - loss: 0.1320 - accuracy: 0.9520 - val_loss: 0.4081 - val_accuracy: 0.8442\n",
      "Epoch 10/40\n",
      "625/625 - 2s - loss: 0.1201 - accuracy: 0.9577 - val_loss: 0.4530 - val_accuracy: 0.8340\n",
      "Epoch 11/40\n",
      "625/625 - 2s - loss: 0.1071 - accuracy: 0.9636 - val_loss: 0.4658 - val_accuracy: 0.8371\n",
      "Epoch 12/40\n",
      "625/625 - 2s - loss: 0.0973 - accuracy: 0.9673 - val_loss: 0.5016 - val_accuracy: 0.8332\n",
      "Epoch 13/40\n",
      "625/625 - 2s - loss: 0.0883 - accuracy: 0.9704 - val_loss: 0.5368 - val_accuracy: 0.8317\n",
      "Epoch 14/40\n",
      "625/625 - 2s - loss: 0.0802 - accuracy: 0.9739 - val_loss: 0.5774 - val_accuracy: 0.8269\n",
      "Epoch 15/40\n",
      "625/625 - 2s - loss: 0.0737 - accuracy: 0.9751 - val_loss: 0.6136 - val_accuracy: 0.8258\n",
      "Epoch 16/40\n",
      "625/625 - 2s - loss: 0.0662 - accuracy: 0.9789 - val_loss: 0.6640 - val_accuracy: 0.8240\n",
      "Epoch 17/40\n",
      "625/625 - 2s - loss: 0.0602 - accuracy: 0.9815 - val_loss: 0.6993 - val_accuracy: 0.8214\n",
      "Epoch 18/40\n",
      "625/625 - 2s - loss: 0.0583 - accuracy: 0.9810 - val_loss: 0.7639 - val_accuracy: 0.8203\n",
      "Epoch 19/40\n",
      "625/625 - 2s - loss: 0.0518 - accuracy: 0.9834 - val_loss: 0.8473 - val_accuracy: 0.8149\n",
      "Epoch 20/40\n",
      "625/625 - 2s - loss: 0.0482 - accuracy: 0.9843 - val_loss: 0.8248 - val_accuracy: 0.8138\n",
      "Epoch 21/40\n",
      "625/625 - 2s - loss: 0.0409 - accuracy: 0.9883 - val_loss: 0.8833 - val_accuracy: 0.8149\n",
      "Epoch 22/40\n",
      "625/625 - 3s - loss: 0.0402 - accuracy: 0.9883 - val_loss: 0.9209 - val_accuracy: 0.8146\n",
      "Epoch 23/40\n",
      "625/625 - 2s - loss: 0.0386 - accuracy: 0.9886 - val_loss: 0.9762 - val_accuracy: 0.8126\n",
      "Epoch 24/40\n",
      "625/625 - 2s - loss: 0.0324 - accuracy: 0.9909 - val_loss: 1.0170 - val_accuracy: 0.8111\n",
      "Epoch 25/40\n",
      "625/625 - 2s - loss: 0.0299 - accuracy: 0.9916 - val_loss: 1.0866 - val_accuracy: 0.8102\n",
      "Epoch 26/40\n",
      "625/625 - 2s - loss: 0.0288 - accuracy: 0.9916 - val_loss: 1.1492 - val_accuracy: 0.8057\n",
      "Epoch 27/40\n",
      "625/625 - 2s - loss: 0.0242 - accuracy: 0.9930 - val_loss: 1.1736 - val_accuracy: 0.8068\n",
      "Epoch 28/40\n",
      "625/625 - 2s - loss: 0.0234 - accuracy: 0.9930 - val_loss: 1.2801 - val_accuracy: 0.8024\n",
      "Epoch 29/40\n",
      "625/625 - 2s - loss: 0.0207 - accuracy: 0.9944 - val_loss: 1.2567 - val_accuracy: 0.8022\n",
      "Epoch 30/40\n",
      "625/625 - 2s - loss: 0.0205 - accuracy: 0.9942 - val_loss: 1.3574 - val_accuracy: 0.8042\n",
      "Epoch 31/40\n",
      "625/625 - 2s - loss: 0.0170 - accuracy: 0.9957 - val_loss: 1.3774 - val_accuracy: 0.8004\n",
      "Epoch 32/40\n",
      "625/625 - 2s - loss: 0.0152 - accuracy: 0.9963 - val_loss: 1.4278 - val_accuracy: 0.8000\n",
      "Epoch 33/40\n",
      "625/625 - 2s - loss: 0.0146 - accuracy: 0.9966 - val_loss: 1.5343 - val_accuracy: 0.7999\n",
      "Epoch 34/40\n",
      "625/625 - 2s - loss: 0.0142 - accuracy: 0.9959 - val_loss: 1.5917 - val_accuracy: 0.7985\n",
      "Epoch 35/40\n",
      "625/625 - 2s - loss: 0.0129 - accuracy: 0.9966 - val_loss: 1.5695 - val_accuracy: 0.7948\n",
      "Epoch 36/40\n",
      "625/625 - 2s - loss: 0.0120 - accuracy: 0.9967 - val_loss: 1.6767 - val_accuracy: 0.7965\n",
      "Epoch 37/40\n",
      "625/625 - 3s - loss: 0.0123 - accuracy: 0.9962 - val_loss: 1.8341 - val_accuracy: 0.7958\n",
      "Epoch 38/40\n",
      "625/625 - 2s - loss: 0.0121 - accuracy: 0.9967 - val_loss: 1.8091 - val_accuracy: 0.7953\n",
      "Epoch 39/40\n",
      "625/625 - 2s - loss: 0.0102 - accuracy: 0.9969 - val_loss: 1.7589 - val_accuracy: 0.7914\n",
      "Epoch 40/40\n",
      "625/625 - 2s - loss: 0.0102 - accuracy: 0.9972 - val_loss: 1.9759 - val_accuracy: 0.7964\n"
     ]
    }
   ],
   "source": [
    "epochs_num = 40\n",
    "\n",
    "history = model.fit(training_padded, training_labels, epochs=epochs_num, validation_data=(testing_padded, testing_labels), verbose=2)"
   ]
  },
  {
   "cell_type": "code",
   "execution_count": 16,
   "id": "8aa6deb6",
   "metadata": {
    "execution": {
     "iopub.execute_input": "2022-07-26T22:19:49.924757Z",
     "iopub.status.busy": "2022-07-26T22:19:49.924375Z",
     "iopub.status.idle": "2022-07-26T22:19:50.455312Z",
     "shell.execute_reply": "2022-07-26T22:19:50.453909Z"
    },
    "papermill": {
     "duration": 0.546986,
     "end_time": "2022-07-26T22:19:50.457940",
     "exception": false,
     "start_time": "2022-07-26T22:19:49.910954",
     "status": "completed"
    },
    "tags": []
   },
   "outputs": [
    {
     "data": {
      "image/png": "[encoded data removed]",
      "text/plain": [
       "<Figure size 432x288 with 1 Axes>"
      ]
     },
     "metadata": {
      "needs_background": "light"
     },
     "output_type": "display_data"
    },
    {
     "data": {
      "image/png": "[encoded data removed]",
      "text/plain": [
       "<Figure size 432x288 with 1 Axes>"
      ]
     },
     "metadata": {
      "needs_background": "light"
     },
     "output_type": "display_data"
    }
   ],
   "source": [
    "def plot_graphs(history, string):\n",
    "  plt.plot(history.history[string])\n",
    "  plt.plot(history.history['val_'+string])\n",
    "  plt.xlabel(\"Epochs\")\n",
    "  plt.ylabel(string)\n",
    "  plt.legend([string, 'val_'+string])\n",
    "  plt.show()\n",
    "  \n",
    "plot_graphs(history, \"accuracy\")\n",
    "plot_graphs(history, \"loss\")"
   ]
  },
  {
   "cell_type": "markdown",
   "id": "caf5edcd",
   "metadata": {},
   "source": [
    "## Test the model"
   ]
  },
  {
   "cell_type": "code",
   "execution_count": null,
   "id": "8d355c8c",
   "metadata": {},
   "outputs": [],
   "source": [
    "test_data = [\n",
    "   'the weather is so moony',\n",
    "   'the president kill the devil',\n",
    "   'earthquake in sky!!!'\n",
    "]\n",
    "\n",
    "sequences = tokenizer.texts_to_sequences(test_data)\n",
    "padded = pad_sequences(sequences, maxlen=max_length, padding=padding_type, truncating=trunc_type)\n",
    "\n",
    "prediction = model.predict(padded)\n",
    "prediction"
   ]
  },
  {
   "cell_type": "code",
   "execution_count": null,
   "id": "c4b04c3e",
   "metadata": {},
   "outputs": [],
   "source": [
    "def label_encoding(pred):\n",
    "  return ['Real' if p > 0.5 else 'Fake' for p in pred]"
   ]
  },
  {
   "cell_type": "code",
   "execution_count": null,
   "id": "ebd39be4",
   "metadata": {},
   "outputs": [],
   "source": [
    "print(label_encoding(prediction))"
   ]
  }
 ],
 "metadata": {
  "kernelspec": {
   "display_name": "Python 3",
   "language": "python",
   "name": "python3"
  },
  "language_info": {
   "codemirror_mode": {
    "name": "ipython",
    "version": 3
   },
   "file_extension": ".py",
   "mimetype": "text/x-python",
   "name": "python",
   "nbconvert_exporter": "python",
   "pygments_lexer": "ipython3",
   "version": "3.7.12"
  },
  "papermill": {
   "default_parameters": {},
   "duration": 168.719863,
   "end_time": "2022-07-26T22:19:53.912691",
   "environment_variables": {},
   "exception": null,
   "input_path": "__notebook__.ipynb",
   "output_path": "__notebook__.ipynb",
   "parameters": {},
   "start_time": "2022-07-26T22:17:05.192828",
   "version": "2.3.4"
  }
 },
 "nbformat": 4,
 "nbformat_minor": 5
}
