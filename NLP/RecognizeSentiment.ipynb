{
  "nbformat": 4,
  "nbformat_minor": 0,
  "metadata": {
    "colab": {
      "name": "NLP-recognizeSentiment.ipynb",
      "provenance": [],
      "collapsed_sections": [],
      "toc_visible": true
    },
    "kernelspec": {
      "name": "python3",
      "display_name": "Python 3"
    },
    "language_info": {
      "name": "python"
    },
    "accelerator": "GPU"
  },
  "cells": [
    {
      "cell_type": "markdown",
      "source": [
        "Load the data sarcasm.json"
      ],
      "metadata": {
        "id": "n1m2ycqGqKU7"
      }
    },
    {
      "cell_type": "code",
      "execution_count": 1,
      "metadata": {
        "colab": {
          "base_uri": "https://localhost:8080/"
        },
        "id": "Ot8Cfmpopqq_",
        "outputId": "c2031c8b-a96f-454f-cd21-7a3191788767"
      },
      "outputs": [
        {
          "output_type": "stream",
          "name": "stdout",
          "text": [
            "--2021-12-29 10:38:35--  https://storage.googleapis.com/laurencemoroney-blog.appspot.com/sarcasm.json\n",
            "Resolving storage.googleapis.com (storage.googleapis.com)... 142.251.5.128, 74.125.133.128, 74.125.140.128, ...\n",
            "Connecting to storage.googleapis.com (storage.googleapis.com)|142.251.5.128|:443... connected.\n",
            "HTTP request sent, awaiting response... 200 OK\n",
            "Length: 5643545 (5.4M) [application/json]\n",
            "Saving to: ‘/tmp/sarcasm.json’\n",
            "\n",
            "\r/tmp/sarcasm.json     0%[                    ]       0  --.-KB/s               \r/tmp/sarcasm.json   100%[===================>]   5.38M  --.-KB/s    in 0.04s   \n",
            "\n",
            "2021-12-29 10:38:36 (120 MB/s) - ‘/tmp/sarcasm.json’ saved [5643545/5643545]\n",
            "\n"
          ]
        }
      ],
      "source": [
        "!wget --no-check-certificate \\\n",
        "    https://storage.googleapis.com/laurencemoroney-blog.appspot.com/sarcasm.json \\\n",
        "    -O /tmp/sarcasm.json"
      ]
    },
    {
      "cell_type": "code",
      "source": [
        "import tensorflow as tf\n",
        "from tensorflow.keras.preprocessing.text import Tokenizer\n",
        "from tensorflow.keras.preprocessing.sequence import pad_sequences\n",
        "import numpy as np\n",
        "import json"
      ],
      "metadata": {
        "id": "MECQNsRuq1_t"
      },
      "execution_count": 2,
      "outputs": []
    },
    {
      "cell_type": "code",
      "source": [
        "with open(\"/tmp/sarcasm.json\", 'r') as f:\n",
        "    datastore = json.load(f)\n",
        "\n",
        "sentences = []\n",
        "labels = []\n",
        "\n",
        "for item in datastore:\n",
        "    sentences.append(item['headline'])\n",
        "    labels.append(item['is_sarcastic'])"
      ],
      "metadata": {
        "id": "q8eKOjECp0ER"
      },
      "execution_count": 3,
      "outputs": []
    },
    {
      "cell_type": "code",
      "source": [
        "training_size = 20000\n",
        "training_sentences = sentences[0:training_size]\n",
        "testing_sentences = sentences[training_size:]\n",
        "training_labels = labels[0:training_size]\n",
        "testing_labels = labels[training_size:]"
      ],
      "metadata": {
        "id": "LTVWq7WOqZ3S"
      },
      "execution_count": 4,
      "outputs": []
    },
    {
      "cell_type": "code",
      "source": [
        "vocab_size = 10000\n",
        "tokenizer = Tokenizer(num_words=vocab_size,oov_token='<OOV>')\n",
        "tokenizer.fit_on_texts(training_sentences)\n",
        "\n",
        "word_index = tokenizer.word_index"
      ],
      "metadata": {
        "id": "gyP6jpbTqZ8O"
      },
      "execution_count": 6,
      "outputs": []
    },
    {
      "cell_type": "code",
      "source": [
        "max_length = 100\n",
        "trunc_type='post'\n",
        "padding_type='post'\n",
        "\n",
        "training_sequences = tokenizer.texts_to_sequences(training_sentences)\n",
        "training_pad = pad_sequences(training_sequences,maxlen=max_length,padding=padding_type,truncating=trunc_type)\n",
        "\n",
        "testing_sequences = tokenizer.texts_to_sequences(testing_sentences)\n",
        "testing_pad = pad_sequences(testing_sequences,maxlen=max_length,padding=padding_type,truncating=trunc_type)"
      ],
      "metadata": {
        "id": "FKGR6UqcskG0"
      },
      "execution_count": 8,
      "outputs": []
    },
    {
      "cell_type": "code",
      "source": [
        "training_padded = np.array(training_pad)\n",
        "training_labels = np.array(training_labels)\n",
        "testing_padded = np.array(testing_pad)\n",
        "testing_labels = np.array(testing_labels)"
      ],
      "metadata": {
        "id": "-67pPqyPwQOr"
      },
      "execution_count": 9,
      "outputs": []
    },
    {
      "cell_type": "code",
      "source": [
        "embedding_dim = 16\n",
        "\n",
        "model = tf.keras.Sequential([\n",
        "    tf.keras.layers.Embedding(vocab_size, embedding_dim, input_length=max_length),\n",
        "    tf.keras.layers.GlobalAveragePooling1D(),\n",
        "    tf.keras.layers.Dense(24, activation='relu'),\n",
        "    tf.keras.layers.Dense(1, activation='sigmoid')\n",
        "])\n",
        "model.compile(loss='binary_crossentropy',optimizer='adam',metrics=['accuracy'])"
      ],
      "metadata": {
        "id": "B_uJULy7skJv"
      },
      "execution_count": 10,
      "outputs": []
    },
    {
      "cell_type": "code",
      "source": [
        "model.summary()"
      ],
      "metadata": {
        "colab": {
          "base_uri": "https://localhost:8080/"
        },
        "id": "uC1RTvfeuyoO",
        "outputId": "dcaf797f-fb25-46be-dd77-d18f199232d8"
      },
      "execution_count": 11,
      "outputs": [
        {
          "output_type": "stream",
          "name": "stdout",
          "text": [
            "Model: \"sequential\"\n",
            "_________________________________________________________________\n",
            " Layer (type)                Output Shape              Param #   \n",
            "=================================================================\n",
            " embedding (Embedding)       (None, 100, 16)           160000    \n",
            "                                                                 \n",
            " global_average_pooling1d (G  (None, 16)               0         \n",
            " lobalAveragePooling1D)                                          \n",
            "                                                                 \n",
            " dense (Dense)               (None, 24)                408       \n",
            "                                                                 \n",
            " dense_1 (Dense)             (None, 1)                 25        \n",
            "                                                                 \n",
            "=================================================================\n",
            "Total params: 160,433\n",
            "Trainable params: 160,433\n",
            "Non-trainable params: 0\n",
            "_________________________________________________________________\n"
          ]
        }
      ]
    },
    {
      "cell_type": "code",
      "source": [
        "num_epochs = 50\n",
        "history = model.fit(training_padded, training_labels, epochs=num_epochs, validation_data=(testing_padded, testing_labels), verbose=2)"
      ],
      "metadata": {
        "colab": {
          "base_uri": "https://localhost:8080/"
        },
        "id": "CjwXao_Mv6M9",
        "outputId": "1936e0f1-4c90-4a96-c67e-cb11f054282d"
      },
      "execution_count": 12,
      "outputs": [
        {
          "output_type": "stream",
          "name": "stdout",
          "text": [
            "Epoch 1/50\n",
            "625/625 - 5s - loss: 0.6564 - accuracy: 0.5938 - val_loss: 0.5622 - val_accuracy: 0.6836 - 5s/epoch - 8ms/step\n",
            "Epoch 2/50\n",
            "625/625 - 3s - loss: 0.4235 - accuracy: 0.8337 - val_loss: 0.4042 - val_accuracy: 0.8143 - 3s/epoch - 4ms/step\n",
            "Epoch 3/50\n",
            "625/625 - 3s - loss: 0.3089 - accuracy: 0.8803 - val_loss: 0.3527 - val_accuracy: 0.8541 - 3s/epoch - 5ms/step\n",
            "Epoch 4/50\n",
            "625/625 - 3s - loss: 0.2553 - accuracy: 0.9014 - val_loss: 0.3468 - val_accuracy: 0.8532 - 3s/epoch - 4ms/step\n",
            "Epoch 5/50\n",
            "625/625 - 3s - loss: 0.2215 - accuracy: 0.9155 - val_loss: 0.3456 - val_accuracy: 0.8544 - 3s/epoch - 5ms/step\n",
            "Epoch 6/50\n",
            "625/625 - 3s - loss: 0.1918 - accuracy: 0.9272 - val_loss: 0.3557 - val_accuracy: 0.8524 - 3s/epoch - 5ms/step\n",
            "Epoch 7/50\n",
            "625/625 - 3s - loss: 0.1718 - accuracy: 0.9363 - val_loss: 0.3638 - val_accuracy: 0.8535 - 3s/epoch - 4ms/step\n",
            "Epoch 8/50\n",
            "625/625 - 3s - loss: 0.1525 - accuracy: 0.9450 - val_loss: 0.3978 - val_accuracy: 0.8436 - 3s/epoch - 4ms/step\n",
            "Epoch 9/50\n",
            "625/625 - 3s - loss: 0.1387 - accuracy: 0.9509 - val_loss: 0.4011 - val_accuracy: 0.8483 - 3s/epoch - 4ms/step\n",
            "Epoch 10/50\n",
            "625/625 - 3s - loss: 0.1254 - accuracy: 0.9567 - val_loss: 0.4151 - val_accuracy: 0.8504 - 3s/epoch - 5ms/step\n",
            "Epoch 11/50\n",
            "625/625 - 3s - loss: 0.1152 - accuracy: 0.9597 - val_loss: 0.4371 - val_accuracy: 0.8490 - 3s/epoch - 6ms/step\n",
            "Epoch 12/50\n",
            "625/625 - 3s - loss: 0.1035 - accuracy: 0.9645 - val_loss: 0.4603 - val_accuracy: 0.8490 - 3s/epoch - 4ms/step\n",
            "Epoch 13/50\n",
            "625/625 - 3s - loss: 0.0939 - accuracy: 0.9690 - val_loss: 0.5048 - val_accuracy: 0.8381 - 3s/epoch - 4ms/step\n",
            "Epoch 14/50\n",
            "625/625 - 3s - loss: 0.0875 - accuracy: 0.9709 - val_loss: 0.5184 - val_accuracy: 0.8396 - 3s/epoch - 5ms/step\n",
            "Epoch 15/50\n",
            "625/625 - 3s - loss: 0.0816 - accuracy: 0.9737 - val_loss: 0.5530 - val_accuracy: 0.8346 - 3s/epoch - 4ms/step\n",
            "Epoch 16/50\n",
            "625/625 - 3s - loss: 0.0744 - accuracy: 0.9756 - val_loss: 0.5785 - val_accuracy: 0.8351 - 3s/epoch - 4ms/step\n",
            "Epoch 17/50\n",
            "625/625 - 3s - loss: 0.0689 - accuracy: 0.9775 - val_loss: 0.6015 - val_accuracy: 0.8308 - 3s/epoch - 4ms/step\n",
            "Epoch 18/50\n",
            "625/625 - 3s - loss: 0.0627 - accuracy: 0.9801 - val_loss: 0.6293 - val_accuracy: 0.8322 - 3s/epoch - 5ms/step\n",
            "Epoch 19/50\n",
            "625/625 - 3s - loss: 0.0574 - accuracy: 0.9821 - val_loss: 0.6745 - val_accuracy: 0.8299 - 3s/epoch - 4ms/step\n",
            "Epoch 20/50\n",
            "625/625 - 3s - loss: 0.0541 - accuracy: 0.9833 - val_loss: 0.6964 - val_accuracy: 0.8253 - 3s/epoch - 4ms/step\n",
            "Epoch 21/50\n",
            "625/625 - 3s - loss: 0.0498 - accuracy: 0.9847 - val_loss: 0.7260 - val_accuracy: 0.8243 - 3s/epoch - 5ms/step\n",
            "Epoch 22/50\n",
            "625/625 - 3s - loss: 0.0454 - accuracy: 0.9870 - val_loss: 0.7782 - val_accuracy: 0.8232 - 3s/epoch - 4ms/step\n",
            "Epoch 23/50\n",
            "625/625 - 3s - loss: 0.0406 - accuracy: 0.9887 - val_loss: 0.7961 - val_accuracy: 0.8234 - 3s/epoch - 4ms/step\n",
            "Epoch 24/50\n",
            "625/625 - 3s - loss: 0.0378 - accuracy: 0.9894 - val_loss: 0.8646 - val_accuracy: 0.8193 - 3s/epoch - 5ms/step\n",
            "Epoch 25/50\n",
            "625/625 - 3s - loss: 0.0352 - accuracy: 0.9904 - val_loss: 0.8698 - val_accuracy: 0.8208 - 3s/epoch - 4ms/step\n",
            "Epoch 26/50\n",
            "625/625 - 3s - loss: 0.0331 - accuracy: 0.9905 - val_loss: 0.9193 - val_accuracy: 0.8193 - 3s/epoch - 5ms/step\n",
            "Epoch 27/50\n",
            "625/625 - 3s - loss: 0.0294 - accuracy: 0.9921 - val_loss: 0.9445 - val_accuracy: 0.8159 - 3s/epoch - 5ms/step\n",
            "Epoch 28/50\n",
            "625/625 - 3s - loss: 0.0288 - accuracy: 0.9919 - val_loss: 0.9724 - val_accuracy: 0.8149 - 3s/epoch - 5ms/step\n",
            "Epoch 29/50\n",
            "625/625 - 3s - loss: 0.0269 - accuracy: 0.9931 - val_loss: 1.0025 - val_accuracy: 0.8098 - 3s/epoch - 4ms/step\n",
            "Epoch 30/50\n",
            "625/625 - 3s - loss: 0.0252 - accuracy: 0.9936 - val_loss: 1.1505 - val_accuracy: 0.8125 - 3s/epoch - 5ms/step\n",
            "Epoch 31/50\n",
            "625/625 - 3s - loss: 0.0229 - accuracy: 0.9940 - val_loss: 1.0816 - val_accuracy: 0.8110 - 3s/epoch - 4ms/step\n",
            "Epoch 32/50\n",
            "625/625 - 3s - loss: 0.0216 - accuracy: 0.9944 - val_loss: 1.1176 - val_accuracy: 0.8091 - 3s/epoch - 4ms/step\n",
            "Epoch 33/50\n",
            "625/625 - 3s - loss: 0.0197 - accuracy: 0.9951 - val_loss: 1.1419 - val_accuracy: 0.8088 - 3s/epoch - 5ms/step\n",
            "Epoch 34/50\n",
            "625/625 - 3s - loss: 0.0191 - accuracy: 0.9949 - val_loss: 1.2473 - val_accuracy: 0.8116 - 3s/epoch - 4ms/step\n",
            "Epoch 35/50\n",
            "625/625 - 3s - loss: 0.0182 - accuracy: 0.9953 - val_loss: 1.2260 - val_accuracy: 0.8079 - 3s/epoch - 5ms/step\n",
            "Epoch 36/50\n",
            "625/625 - 3s - loss: 0.0149 - accuracy: 0.9968 - val_loss: 1.2736 - val_accuracy: 0.8074 - 3s/epoch - 5ms/step\n",
            "Epoch 37/50\n",
            "625/625 - 3s - loss: 0.0152 - accuracy: 0.9962 - val_loss: 1.2991 - val_accuracy: 0.8076 - 3s/epoch - 4ms/step\n",
            "Epoch 38/50\n",
            "625/625 - 3s - loss: 0.0147 - accuracy: 0.9962 - val_loss: 1.3193 - val_accuracy: 0.8086 - 3s/epoch - 5ms/step\n",
            "Epoch 39/50\n",
            "625/625 - 3s - loss: 0.0141 - accuracy: 0.9966 - val_loss: 1.3661 - val_accuracy: 0.8073 - 3s/epoch - 5ms/step\n",
            "Epoch 40/50\n",
            "625/625 - 3s - loss: 0.0127 - accuracy: 0.9970 - val_loss: 1.4084 - val_accuracy: 0.8068 - 3s/epoch - 5ms/step\n",
            "Epoch 41/50\n",
            "625/625 - 3s - loss: 0.0120 - accuracy: 0.9970 - val_loss: 1.5641 - val_accuracy: 0.8086 - 3s/epoch - 4ms/step\n",
            "Epoch 42/50\n",
            "625/625 - 3s - loss: 0.0107 - accuracy: 0.9977 - val_loss: 1.4801 - val_accuracy: 0.8065 - 3s/epoch - 4ms/step\n",
            "Epoch 43/50\n",
            "625/625 - 3s - loss: 0.0115 - accuracy: 0.9974 - val_loss: 1.5045 - val_accuracy: 0.8065 - 3s/epoch - 5ms/step\n",
            "Epoch 44/50\n",
            "625/625 - 3s - loss: 0.0115 - accuracy: 0.9974 - val_loss: 1.4762 - val_accuracy: 0.8035 - 3s/epoch - 5ms/step\n",
            "Epoch 45/50\n",
            "625/625 - 3s - loss: 0.0110 - accuracy: 0.9976 - val_loss: 1.6052 - val_accuracy: 0.8047 - 3s/epoch - 4ms/step\n",
            "Epoch 46/50\n",
            "625/625 - 3s - loss: 0.0101 - accuracy: 0.9978 - val_loss: 1.5881 - val_accuracy: 0.8046 - 3s/epoch - 4ms/step\n",
            "Epoch 47/50\n",
            "625/625 - 3s - loss: 0.0106 - accuracy: 0.9973 - val_loss: 1.6376 - val_accuracy: 0.8049 - 3s/epoch - 4ms/step\n",
            "Epoch 48/50\n",
            "625/625 - 3s - loss: 0.0093 - accuracy: 0.9980 - val_loss: 1.5716 - val_accuracy: 0.8004 - 3s/epoch - 5ms/step\n",
            "Epoch 49/50\n",
            "625/625 - 3s - loss: 0.0082 - accuracy: 0.9981 - val_loss: 1.7588 - val_accuracy: 0.8047 - 3s/epoch - 5ms/step\n",
            "Epoch 50/50\n",
            "625/625 - 3s - loss: 0.0086 - accuracy: 0.9980 - val_loss: 1.6290 - val_accuracy: 0.7997 - 3s/epoch - 5ms/step\n"
          ]
        }
      ]
    },
    {
      "cell_type": "code",
      "source": [
        "sentance = [\n",
        "            'granny starts to fear spiders in the garden might be real',\n",
        "            'the weather today is bright and sunny'\n",
        "]\n",
        "sequences = tokenizer.texts_to_sequences(sentance)\n",
        "padded = pad_sequences(sequences, maxlen=max_length, padding=padding_type, truncating=trunc_type)\n",
        "print(model.predict(padded))"
      ],
      "metadata": {
        "colab": {
          "base_uri": "https://localhost:8080/"
        },
        "id": "unzQs1npqRr4",
        "outputId": "dd23cc01-21ce-4a94-b7c4-474e0fa5f703"
      },
      "execution_count": 13,
      "outputs": [
        {
          "output_type": "stream",
          "name": "stdout",
          "text": [
            "[[9.1870897e-05]\n",
            " [3.1856744e-09]]\n"
          ]
        }
      ]
    }
  ]
}